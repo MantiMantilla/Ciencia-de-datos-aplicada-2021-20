{
 "cells": [
  {
   "cell_type": "markdown",
   "id": "0431cfb1",
   "metadata": {},
   "source": [
    "# Ciencia de datos aplicada\n",
    "\n",
    "## Taller 7\n",
    "\n",
    "### Contexto\n",
    "\n",
    "#### Linear Programming Model  \n",
    "\n",
    "Every LP model is composed of \n",
    "* __Decision variables__ (whose values are unknown and are searched for)\n",
    "* __Objective function__ (a linear mathematical function that relates the decision variables to the goal, measures goal attainment, and is to be optimized)\n",
    "* __Objective function coefficients__ (unit profit or cost coefficients indicating the contribution to the objective of one unit of a decision variable)\n",
    "* __Constraints__ (expressed in the form of linear inequalities or equalities that limit resources and/or requirements; these relate the variables through linear relationships), \n",
    "* __Capacities__(which describe the upper and sometimes lower limits on the constraints and variables), \n",
    "* __Input/Output__ (technology) coefficients (which indicate resource utilization for a decision variable).\n",
    "\n",
    "Tomado de https://www.amazon.com/-/es/Ramesh-Sharda/dp/0134633288  Pg 339\n"
   ]
  },
  {
   "cell_type": "markdown",
   "id": "8bd170b3",
   "metadata": {},
   "source": [
    "### 1. Definición de librerías y archivos"
   ]
  },
  {
   "cell_type": "code",
   "execution_count": 1,
   "id": "f2789fe4",
   "metadata": {},
   "outputs": [],
   "source": [
    "#Librerías\n",
    "import pandas as pd\n",
    "import numpy as np\n",
    "import matplotlib.pyplot as plt\n",
    "from scipy.optimize import linprog\n"
   ]
  },
  {
   "cell_type": "markdown",
   "id": "425904bf",
   "metadata": {},
   "source": [
    "### 2.Definición del problema\n",
    "Veamos un ejemplo. MBL Corporation, que fabrica computadoras para propósitos especiales, necesita tomar una decisión: ¿Cuántas computadoras debería producir el próximo mes en la planta de Boston? MBL está considerando dos tipos de computadoras: \n",
    "\n",
    "la CC-7, que requiere 300 días de mano de obra y $ 10,000 en materiales, \n",
    "\n",
    "y la CC-8, que requiere 500 días de mano de obra y $ 15,000 en materiales. \n",
    "\n",
    "La contribución a las ganancias de cada CC-7 es de \\\\$ 8,000, mientras que la de cada CC-8 de \\\\$ 12,000. \n",
    "\n",
    "La planta tiene una capacidad de 200,000 días hábiles por mes y el presupuesto de materiales es de $ 8 millones por mes. \n",
    "\n",
    "El marketing requiere que se produzcan al menos 100 unidades del CC-7 y al menos 200 unidades del CC-8 cada mes. \n",
    "\n",
    "El problema es maximizar las ganancias de la empresa determinando cuántas unidades del CC-7 y cuántas unidades del CC-8 deben producirse cada mes. Tenga en cuenta que en un entorno del mundo real, posiblemente podría llevar meses 10 obtener los datos en el enunciado del problema, y mientras recopila los datos, el tomador de decisiones sin duda descubriría hechos sobre cómo estructurar el modelo 10. Las herramientas basadas en la web para recopilar datos pueden ayudar."
   ]
  },
  {
   "cell_type": "markdown",
   "id": "8bc35c3d",
   "metadata": {},
   "source": [
    "![title](grafico_lp.PNG)\n"
   ]
  },
  {
   "cell_type": "markdown",
   "id": "aeb9de95",
   "metadata": {},
   "source": [
    "### 2.1. Variables de decisión(decision variables)\n",
    "\n",
    "$X_1=$ Unidades de CC-7 a producir\n",
    "\n",
    "$X_2=$ Unidades de CC-8 a producir\n",
    "\n",
    "### 2.2. Variable de resultado \n",
    "\n",
    "$Z=$ Ganancia de la empresa\n",
    "\n",
    "El objetivo es maximizar la función de ganacia\n",
    "\n",
    "$Z=8,000X_1+12,000X_2$\n",
    "\n",
    "### 2.3. Restricciones del modelo\n",
    "* $ 300X_1 + 500X_2 \\leq 200,000 $ Restricción de trabajo\n",
    "* $ 10,000X_1 + 15,000X_2 \\leq 8,000.000 $ Restricción de presupuesto\n",
    "* $X_1\\geq100$ \n",
    "* $X_2\\geq200$\n",
    "\n",
    "\n",
    "\\begin{equation}\n",
    "\\begin{bmatrix}\n",
    "300 & 500 \\\\\n",
    "10,000 & 15,000 \\\\\n",
    "\\end{bmatrix}\n",
    "\\begin{bmatrix}\n",
    "X_1 \\\\\n",
    "X_2 \\\\\n",
    "\\end{bmatrix}\n",
    "\\leq\n",
    "\\begin{bmatrix}\n",
    "200,000 \\\\\n",
    "8,000.000 \\\\\n",
    "\\end{bmatrix}\n",
    "\\end{equation}\n",
    "\n",
    "\n",
    "Estas ecuacuaciones se pueden representar en un plano cartesiano que va a permitir tener una mejor perspectiva de la ecuación"
   ]
  },
  {
   "cell_type": "code",
   "execution_count": 3,
   "id": "2e71fac8",
   "metadata": {},
   "outputs": [
    {
     "data": {
      "image/png": "[encoded data removed]",
      "text/plain": [
       "<Figure size 432x288 with 1 Axes>"
      ]
     },
     "metadata": {
      "needs_background": "light"
     },
     "output_type": "display_data"
    }
   ],
   "source": [
    "## Restricción de trabajo\n",
    "# Recalculamos la ecuación\n",
    "x1t = np.linspace(100,500,100)\n",
    "x2t= (200000/500)-(300/500)*x1t\n",
    "# x1t = (200000/300) - (500/300)*x2t\n",
    "plt.plot(x1t, x2t, '-r')\n",
    "plt.title('Gráfico de trabajo')\n",
    "plt.xlabel('X1', color='#1C2833')\n",
    "plt.ylabel('X2', color='#1C2833')\n",
    "plt.grid()\n",
    "plt.show()"
   ]
  },
  {
   "cell_type": "markdown",
   "id": "d76874d6",
   "metadata": {},
   "source": [
    "Podemos encontrar los puntos de corte de la ecuación igualando a 0 cualquiera de las dos variables $X_1,X_2$\n",
    "\n",
    "Si $X_1=0 \\rightarrow X_2 \\leq 400$ \n",
    "\n",
    "Si $X_2=0 \\rightarrow X_1 \\leq 666.66$ \n",
    "\n"
   ]
  },
  {
   "cell_type": "code",
   "execution_count": 4,
   "id": "46eeea2f",
   "metadata": {
    "scrolled": true
   },
   "outputs": [
    {
     "data": {
      "image/png": "[encoded data removed]",
      "text/plain": [
       "<Figure size 432x288 with 1 Axes>"
      ]
     },
     "metadata": {
      "needs_background": "light"
     },
     "output_type": "display_data"
    }
   ],
   "source": [
    "## Restricción de presupuesto\n",
    "# Recalculamos la ecuación\n",
    "x1p = np.linspace(200,1000,100)\n",
    "# x1p = (8000000/10000) -(150000/10000)*x2t\n",
    "\n",
    "x2p= (8000000/15000) - (10000/15000)*x1p\n",
    "\n",
    "\n",
    "plt.plot(x1p, x2p, '-b')\n",
    "plt.title('Gráfico de presupuesto')\n",
    "plt.xlabel('X2', color='#1C2833')\n",
    "plt.ylabel('X1', color='#1C2833')\n",
    "plt.grid()\n",
    "plt.show()"
   ]
  },
  {
   "cell_type": "markdown",
   "id": "4b97b73a",
   "metadata": {},
   "source": [
    "Podemos encontrar los puntos de corte de la ecuación igualando a 0 cualquiera de las dos variables $X_1,X_2$\n",
    "\n",
    "Si $X_1=0 \\rightarrow X_2 \\leq 53.33$ \n",
    "\n",
    "Si $X_2=0 \\rightarrow X_1 \\leq 800$ \n"
   ]
  },
  {
   "cell_type": "code",
   "execution_count": 5,
   "id": "00c7437a",
   "metadata": {
    "scrolled": false
   },
   "outputs": [
    {
     "data": {
      "image/png": "[encoded data removed]",
      "text/plain": [
       "<Figure size 432x288 with 1 Axes>"
      ]
     },
     "metadata": {
      "needs_background": "light"
     },
     "output_type": "display_data"
    }
   ],
   "source": [
    "# Graficamos además las restricciones de unidades\n",
    "plt.plot(x1t, x2t,'-r', label = \"Restricción de trabajo\")\n",
    "plt.plot(x1p, x2p,'-b', label = \"Restricción de presupuesto\")\n",
    "plt.axhline(y=100,color='k', linestyle='-', label='Restricción unidades X1')\n",
    "plt.axvline(x=200,color='c', linestyle='-', label='Restricción unidades X2')\n",
    "plt.xlabel('X1')\n",
    "# Set the y axis label of the current axis.\n",
    "plt.ylabel('X2')\n",
    "# Set a title of the current axes.\n",
    "plt.title('Gráfico de restricciones')\n",
    "# show a legend on the plot\n",
    "plt.grid()\n",
    "# plt.xlim([0, 150])\n",
    "# plt.ylim([0, 800])\n",
    "plt.legend(loc=1)\n",
    "plt.show()"
   ]
  },
  {
   "cell_type": "markdown",
   "id": "658af089",
   "metadata": {},
   "source": [
    "### 3. Solución del problema a través del código\n",
    "Para minimizar o maximizar la función se utiliza la función de scypy [linprog](https://docs.scipy.org/doc/scipy/reference/generated/scipy.optimize.linprog.html)\n",
    "\n",
    "* __c__ : es el vector de pesos o coeficientes de la funcion costo.\n",
    "* __A_ub__: es la matriz de coeficientes para el sistema de restricciones “menos que”.\n",
    "* __b_ub__: es el vector de coeficientes libres en el sistema de ecuaciones.\n",
    "* __A_eq (opcional):__ es la matriz de coeficientes para el sistema de restricciones “igual que”.\n",
    "* __b_eq (opcional):__es el vector de coeficientes libres en el sistema de ecuaciones de igualdad.\n",
    "* __bounds(opcional):__ lista de tuplas(min,max) para cada variable x\n",
    "* __method:__ cadena de texto del metodo a utilizar y tenemos 3 opciones\n",
    "    * __‘interior-point’__ (en defecto)\n",
    "    * __‘revised simplex’__ (recomendado)\n",
    "    * __‘simplex’__ (obsoleto)\n",
    "* __x0:__ valores inciciales para inciar el proceso iterativo\n",
    "\n",
    "Recordemos:\n",
    "\n",
    "\\begin{equation}\n",
    "\\begin{bmatrix}\n",
    "300 & 500 \\\\\n",
    "10,000 & 15,000 \\\\\n",
    "\\end{bmatrix}\n",
    "\\begin{bmatrix}\n",
    "X_1 \\\\\n",
    "X_2 \\\\\n",
    "\\end{bmatrix}\n",
    "\\leq\n",
    "\\begin{bmatrix}\n",
    "200,000 \\\\\n",
    "8,000.000 \\\\\n",
    "\\end{bmatrix}\n",
    "\\end{equation}\n"
   ]
  },
  {
   "cell_type": "code",
   "execution_count": 6,
   "id": "6fa61e69",
   "metadata": {},
   "outputs": [],
   "source": [
    "#la función linprog solamente minimiza por lo que hay que cambiar el signo de la función de costo\n",
    "c = np.array([-8000, -12000]) # Coeficientes de la funcion costo\n",
    "A = np.array([[300,500],[10000,15000]]) # coeficientes de la matriz\n",
    "b = np.array([200000,8000000]) # coeficientes libres\n",
    "bounds=np.array([[100, None],[200,None]])# Límites de las variables x1 y x2"
   ]
  },
  {
   "cell_type": "code",
   "execution_count": 7,
   "id": "b48b91b6",
   "metadata": {},
   "outputs": [],
   "source": [
    "#Construimos la función\n",
    "res = linprog(c=c, # Función de costo\n",
    "              A_ub=A, #Matriz\n",
    "              b_ub=b, #Coeficientes libres\n",
    "              bounds=bounds, #límites de x              \n",
    "              method=\"revised simplex\" #método\n",
    "             )"
   ]
  },
  {
   "cell_type": "code",
   "execution_count": 8,
   "id": "4ed31abc",
   "metadata": {
    "scrolled": true
   },
   "outputs": [
    {
     "name": "stdout",
     "output_type": "stream",
     "text": [
      "     con: array([], dtype=float64)\n",
      "     fun: -5066666.666666667\n",
      " message: 'Optimization terminated successfully.'\n",
      "     nit: 2\n",
      "   slack: array([      0.        , 1666666.66666667])\n",
      "  status: 0\n",
      " success: True\n",
      "       x: array([333.33333333, 200.        ])\n"
     ]
    }
   ],
   "source": [
    "# mostramos la estrucutra OptimizedResult\n",
    "print(res)  "
   ]
  },
  {
   "cell_type": "code",
   "execution_count": 9,
   "id": "32803234",
   "metadata": {
    "scrolled": true
   },
   "outputs": [
    {
     "data": {
      "image/png": "[encoded data removed]",
      "text/plain": [
       "<Figure size 432x288 with 1 Axes>"
      ]
     },
     "metadata": {
      "needs_background": "light"
     },
     "output_type": "display_data"
    }
   ],
   "source": [
    "# Graficamos además las restricciones de unidades\n",
    "plt.plot(x1t, x2t,'-r', label = \"Restricción de trabajo\")\n",
    "plt.plot(x1p, x2p,'-b', label = \"Restricción de presupuesto\")\n",
    "plt.axhline(y=100,color='k', linestyle='-', label='Restricción unidades X1')\n",
    "plt.axvline(x=200,color='c', linestyle='-', label='Restricción unidades X2')\n",
    "plt.plot(res['x'][1],res['x'][0],\"ro\", label='Solución')\n",
    "plt.xlabel('X1')\n",
    "# Set the y axis label of the current axis.\n",
    "plt.ylabel('X2')\n",
    "# Set a title of the current axes.\n",
    "plt.title('Gráfico de restricciones')\n",
    "# show a legend on the plot\n",
    "plt.grid()\n",
    "# plt.xlim([0, 150])\n",
    "# plt.ylim([0, 800])\n",
    "plt.legend(loc='center left', bbox_to_anchor=(1, 0.5))\n",
    "plt.show()"
   ]
  },
  {
   "cell_type": "markdown",
   "id": "ad4245b7",
   "metadata": {},
   "source": [
    "### 4. Ejemplo\n",
    "\n",
    "Maximizar:\n",
    "\n",
    "$z=2X_1+3X_2$\n",
    "    \n",
    "Restricciones:\n",
    "\n",
    "$X_1 + X_2\\leq 10$\n",
    "\n",
    "$2X_1 + X_2\\leq 15$\n",
    "\n",
    "$X_1,X_2\\geq0$\n",
    "\n",
    "Expresión matricial:\n",
    "\n",
    "\\begin{equation}\n",
    "\\begin{bmatrix}\n",
    "1 & 1 \\\\\n",
    "2 & 1 \\\\\n",
    "\\end{bmatrix}\n",
    "\\begin{bmatrix}\n",
    "X_1 \\\\\n",
    "X_2 \\\\\n",
    "\\end{bmatrix}\n",
    "\\leq\n",
    "\\begin{bmatrix}\n",
    "10 \\\\\n",
    "15 \\\\\n",
    "\\end{bmatrix}\n",
    "\\end{equation}\n",
    "\n",
    "\n",
    "\n",
    "\n",
    "\n",
    "\n",
    "\n",
    "\n",
    "\n",
    "\n",
    "\n"
   ]
  },
  {
   "cell_type": "code",
   "execution_count": null,
   "id": "44667962",
   "metadata": {},
   "outputs": [],
   "source": [
    "#Graficar las funciones\n",
    "# Graficamos además las restricciones de unidades\n",
    "x1 = np.linspace(0,100,100)\n",
    "x21=10-x1\n",
    "x22=15-2*x1\n",
    "plt.plot(x1, x21,'-r', label = \"Restricción 1\")\n",
    "plt.plot(x1, x22,'-b', label = \"Restricción 2\")\n",
    "plt.axhline(y=0,color='k', linestyle='-', label='Restricción unidades X1')\n",
    "plt.axvline(x=0,color='k', linestyle='-', label='Restricción unidades X2')\n",
    "plt.xlabel('X1')\n",
    "# Set the y axis label of the current axis.\n",
    "plt.ylabel('X2')\n",
    "# Set a title of the current axes.\n",
    "plt.title('Gráfico de restricciones')\n",
    "# show a legend on the plot\n",
    "plt.grid()\n",
    "plt.xlim([0, 20])\n",
    "plt.ylim([0, 20])\n",
    "plt.legend(loc='center left', bbox_to_anchor=(1, 0.5))\n",
    "plt.show()\n"
   ]
  },
  {
   "cell_type": "code",
   "execution_count": null,
   "id": "bed59eae",
   "metadata": {},
   "outputs": [],
   "source": [
    "# Solución\n",
    "#la función linprog solamente minimiza por lo que hay que cambiar el signo de la función de costo\n",
    "c = np.array([-2, -3]) # Coeficientes de la funcion costo\n",
    "A = np.array([[1,1],[2,1]]) # coeficientes de la matriz\n",
    "b = np.array([10,15]) # coeficientes libres\n",
    "bounds=np.array([[0, None],[0,None]])# Límites de las variables x"
   ]
  },
  {
   "cell_type": "code",
   "execution_count": null,
   "id": "2a24d4d0",
   "metadata": {},
   "outputs": [],
   "source": [
    "#Construimos la función\n",
    "res2 = linprog(c=c, # Función de costo\n",
    "              A_ub=A, #Matriz\n",
    "              b_ub=b, #Coeficientes libres\n",
    "              bounds=bounds, #límites de x              \n",
    "              method=\"revised simplex\" #método\n",
    "             )"
   ]
  },
  {
   "cell_type": "code",
   "execution_count": null,
   "id": "4b671052",
   "metadata": {
    "scrolled": true
   },
   "outputs": [],
   "source": [
    "print(res2)"
   ]
  },
  {
   "cell_type": "code",
   "execution_count": null,
   "id": "005634d8",
   "metadata": {
    "scrolled": true
   },
   "outputs": [],
   "source": [
    "#Graficar las funciones\n",
    "# Graficamos además las restricciones de unidades\n",
    "x2 = np.linspace(0,100,100)\n",
    "x11=10-x2\n",
    "x12=(15/2)-(1/2)*x2\n",
    "plt.plot(x2, x11,'-r', label = \"Restricción 1\")\n",
    "plt.plot(x2, x12,'-b', label = \"Restricción 2\")\n",
    "plt.axhline(y=0,color='k', linestyle='-', label='Restricción unidades X1')\n",
    "plt.axvline(x=0,color='k', linestyle='-', label='Restricción unidades X2')\n",
    "plt.plot(res2['x'][1],res2['x'][0],\"ro\", label='Solución')\n",
    "plt.xlabel('X1')\n",
    "# Set the y axis label of the current axis.\n",
    "plt.ylabel('X2')\n",
    "# Set a title of the current axes.\n",
    "plt.title('Gráfico de restricciones')\n",
    "# show a legend on the plot\n",
    "plt.grid()\n",
    "plt.xlim([0, 20])\n",
    "plt.ylim([-5, 20])\n",
    "plt.legend(loc='center left', bbox_to_anchor=(1, 0.5))\n",
    "plt.show()\n"
   ]
  },
  {
   "cell_type": "markdown",
   "id": "2573b460",
   "metadata": {},
   "source": [
    "### Extensión\n",
    "\n",
    "Resuelva el siguiente ejercicio:\n",
    "\n",
    "Let us assume that a Hospital has different departments and only four surgical departments performing different surgery. The performance of these surgeries is constrained by four resources: \n",
    "* (i). Waiting room (WR) hours \n",
    "* (ii).Operating Room (OR) hours \n",
    "* (iii). Recovery room (RR) bed hours and \n",
    "* (iv). Surgical services (SS). \n",
    "\n",
    "The capacity hours of WR, OR, RR and SS are 750 hours, 1000 hours, 1300 hours and 630 hours respectively for performing the different surgeries. \n",
    "\n",
    "Now, the director of the hospital is in a position to determine the optimal combination of surgical patients that maximizes the profit contributed by Patients with different surgeries (S_1,S_2,S_3,S_4)\n",
    "\n",
    "The constraints are:\n",
    "\n",
    "|    | $s_1$ | $s_2$ | $s_3$ | $s_4$ |\n",
    "|:--:|:-----:|:-----:|:-----:|:-----:|\n",
    "| WR | 5 | 7 | 9 | 4 |\n",
    "| OR | 4 | 6 | 5 | 7 |\n",
    "| RR | 3 | 5 | 4 | 6 |\n",
    "| SS | 6 | 3 | 2 | 5 |\n",
    "\n",
    "Let the average contribution to profit by $s_1, s_2, s_3, s_4$ patients are \\\\$20, \\\\$22, \\\\$21 and \\\\$19 respectively. Thus in order to determine the optimal combination of surgical patients that maximizes the total profit contributed by Patients with different surgeries. \n",
    "\n",
    "\n",
    "#### Preguntas\n",
    "\n",
    "1. Establezca las variables del problema\n",
    "2. Cree las ecuaciones\n",
    "3. Represente el sistema matricial\n",
    "4. Grafique al menos 2 de las cirugías\n",
    "5. Cree el programa linprog y halle la solución\n",
    "\n",
    "\n",
    "\n"
   ]
  },
  {
   "cell_type": "markdown",
   "id": "5a1617fe",
   "metadata": {},
   "source": [
    "Tenemos las siguientes variables de decisión que representan la cantidad de cirugías a efectuar de cada tipo:\n",
    "\n",
    "$s_{i}, \\ \\forall i \\in \\{ 1, 2, 3, 4 \\}$"
   ]
  },
  {
   "cell_type": "markdown",
   "id": "c45bde60",
   "metadata": {},
   "source": [
    "### Ecuaciones\n",
    "\n",
    "Estas restricciones no permiten que se excedan los tiempos disponibles para cada tipo de recurso.\n",
    "\n",
    "Restricción de recurso WR:\n",
    "\n",
    "$$\n",
    "    5 \\cdot s_{1} + 7 \\cdot s_{2} + 9 \\cdot s_{3} + 4 \\cdot s_{4} \\leq 750.\n",
    "$$\n",
    "\n",
    "Restricción de recurso OR:\n",
    "\n",
    "$$\n",
    "    4 \\cdot s_{1} + 6 \\cdot s_{2} + 5 \\cdot s_{3} + 7 \\cdot s_{4} \\leq 1000.\n",
    "$$\n",
    "\n",
    "Restricción de recurso RR:\n",
    "\n",
    "$$\n",
    "    3 \\cdot s_{1} + 5 \\cdot s_{2} + 4 \\cdot s_{3} + 6 \\cdot s_{4} \\leq 1300.\n",
    "$$\n",
    "\n",
    "Restricción de recurso SS:\n",
    "\n",
    "$$\n",
    "    6 \\cdot s_{1} + 3 \\cdot s_{2} + 2 \\cdot s_{3} + 5 \\cdot s_{4} \\leq 630.\n",
    "$$\n",
    "\n",
    "Naturaleza de las variables (se definen como positivas pero el problema bien definido debe considerar variables enteras):\n",
    "\n",
    "$$\n",
    "    s_{1}, s_{2}, s_{3}, s_{4} \\geq 0\n",
    "$$\n",
    "\n",
    "o, preferiblemente:\n",
    "\n",
    "$$\n",
    "    s_{1}, s_{2}, s_{3}, s_{4} \\in \\mathbb{N}. \n",
    "$$\n",
    "\n",
    "Función objetivo que maximiza las ganancias de las cirugías efectuadas:\n",
    "\n",
    "$$\n",
    "    \\max_{s_{1}, s_{2}, s_{3}, s_{4}}{20 \\cdot s_{1} + 22 \\cdot s_{2} + 21 \\cdot s_{3} + 19 \\cdot s_{4}}\n",
    "$$"
   ]
  },
  {
   "cell_type": "markdown",
   "id": "752e5e2d",
   "metadata": {},
   "source": [
    "### Sistema matricial\n",
    "\n",
    "$$\n",
    "    \\max_{\\mathbf{s}}{\\mathbf{c}^{T}\\mathbf{s}}\\text{ ó }\\max_{s_{1}, s_{2}, s_{3}, s_{4}}{\\left[\\begin{matrix}20 & 22 & 21 & 19\\end{matrix}\\right]\\left[\\begin{matrix} s_{1} \\\\ s_{2} \\\\ s_{3} \\\\ s_{4}\\end{matrix}\\right]}\n",
    "$$\n",
    "\n",
    "s.a,\n",
    "\n",
    "$$\n",
    "    \\mathbf{A}\\mathbf{s}\\leq\\mathbf{b}\\text{ ó }\n",
    "    \\left[\\begin{matrix}\n",
    "        5 & 7 & 9 & 4 \\\\\n",
    "        4 & 6 & 5 & 7 \\\\\n",
    "        3 & 5 & 4 & 6 \\\\\n",
    "        6 & 3 & 2 & 5 \n",
    "    \\end{matrix}\\right]\n",
    "    \\left[\\begin{matrix}\n",
    "        s_{1} \\\\\n",
    "        s_{2} \\\\\n",
    "        s_{3} \\\\\n",
    "        s_{4}\n",
    "    \\end{matrix}\\right]\\leq\n",
    "    \\left[\\begin{matrix}\n",
    "        750 \\\\\n",
    "        1000 \\\\\n",
    "        1300 \\\\\n",
    "        630\n",
    "    \\end{matrix}\\right]\n",
    "$$\n",
    "\n",
    "$$\n",
    "    \\mathbf{s} \\geq \\mathbf{0}\\text{ ó }\n",
    "    \\left[\\begin{matrix}\n",
    "        s_{1} \\\\\n",
    "        s_{2} \\\\\n",
    "        s_{3} \\\\\n",
    "        s_{4}\n",
    "    \\end{matrix}\\right]\\geq\n",
    "    \\left[\\begin{matrix}\n",
    "        0 \\\\\n",
    "        0 \\\\\n",
    "        0 \\\\\n",
    "        0\n",
    "    \\end{matrix}\\right]\n",
    "$$"
   ]
  },
  {
   "cell_type": "markdown",
   "id": "69458c75",
   "metadata": {},
   "source": [
    "### Gráfica de 2 cirugías"
   ]
  },
  {
   "cell_type": "code",
   "execution_count": 34,
   "id": "2d2bc2be",
   "metadata": {},
   "outputs": [
    {
     "data": {
      "image/png": "[encoded data removed]",
      "text/plain": [
       "<Figure size 432x288 with 1 Axes>"
      ]
     },
     "metadata": {
      "needs_background": "light"
     },
     "output_type": "display_data"
    }
   ],
   "source": [
    "# Graficamos las restricciones solo para las primeras dos variables y suponiendo s_3 = s_4 = 0.\n",
    "# s_1 en el eje x, s_2 en el eje y.\n",
    "plt.plot((0, 750/5) ,  (750/7, 0),  '-r', label = \"Restricción de WR\")\n",
    "plt.plot((0, 1000/4),  (1000/6, 0), '-g', label = \"Restricción de OR\")\n",
    "plt.plot((0, 1300/3),  (1300/5, 0), '-b', label = \"Restricción de RR\")\n",
    "plt.plot((0, 630/6),   (630/3, 0),  '-y', label = \"Restricción de SS\")\n",
    "\n",
    "# Graficamos la naturaleza de las variables.\n",
    "plt.axhline(y = 0, color = 'k', linestyle = '-', label='Naturaleza s_2')\n",
    "plt.axvline(x = 0, color = 'c', linestyle = '-', label='Naturaleza s_1')\n",
    "\n",
    "# Nombramos los ejes\n",
    "plt.xlabel('s1')\n",
    "plt.ylabel('s2')\n",
    "\n",
    "# Nombramos el gráfico\n",
    "plt.title('Gráfico de restricciones')\n",
    "\n",
    "# Agregamos cuadrícula al gráfico\n",
    "plt.grid()\n",
    "\n",
    "# Agregamos una leyenda al gráfico\n",
    "plt.legend(loc=1)\n",
    "\n",
    "# Desplegamos el gráfico\n",
    "plt.show()"
   ]
  },
  {
   "cell_type": "markdown",
   "id": "56456720",
   "metadata": {},
   "source": [
    "### Optimización del problema"
   ]
  },
  {
   "cell_type": "code",
   "execution_count": 25,
   "id": "feea6158",
   "metadata": {},
   "outputs": [
    {
     "name": "stdout",
     "output_type": "stream",
     "text": [
      "     con: array([], dtype=float64)\n",
      "     fun: -2960.869565217391\n",
      " message: 'Optimization terminated successfully.'\n",
      "     nit: 2\n",
      "   slack: array([  0.        ,  21.73913043, 469.13043478,   0.        ])\n",
      "  status: 0\n",
      " success: True\n",
      "       x: array([ 0.        , 53.47826087,  0.        , 93.91304348])\n"
     ]
    }
   ],
   "source": [
    "#la función linprog solamente minimiza por lo que hay que cambiar el signo de la función de costo\n",
    "c = np.array([20, 22, 21, 19]) # Coeficientes de la funcion costo\n",
    "A = np.matrix([[5, 7, 9, 4],\n",
    "               [4, 6, 5, 7],\n",
    "               [3, 5, 4, 6],\n",
    "               [6, 3, 2, 5]]) # coeficientes de la matriz\n",
    "b = np.array([750, 1000, 1300, 630]) # coeficientes libres\n",
    "bounds=np.array([[0, None],[0, None], [0, None], [0, None]])# Límites de las variables s1, s2, s3 y s4\n",
    "\n",
    "#Construimos la función\n",
    "res = linprog(c=-c, # Función de costo. Minimizamos el negativo de la FO para maximizar.\n",
    "              A_ub=A, #Matriz\n",
    "              b_ub=b, #Coeficientes libres\n",
    "              bounds=bounds, #límites de x              \n",
    "              method=\"revised simplex\") #método\n",
    "\n",
    "print(res)"
   ]
  },
  {
   "cell_type": "markdown",
   "id": "cd8e3c65",
   "metadata": {},
   "source": [
    "Vemos que en el óptimo, el problema solo considera en su base las variables $s_{2}$ y $s_{4}$.\n",
    "\n",
    "Igual que antes, graficaremos únicamente dos variables pero esta vez las que sabemos son distintas de cero."
   ]
  },
  {
   "cell_type": "code",
   "execution_count": 35,
   "id": "dc1da029",
   "metadata": {},
   "outputs": [
    {
     "data": {
      "image/png": "[encoded data removed]",
      "text/plain": [
       "<Figure size 432x288 with 1 Axes>"
      ]
     },
     "metadata": {
      "needs_background": "light"
     },
     "output_type": "display_data"
    }
   ],
   "source": [
    "# Graficamos las restricciones solo para las primeras dos variables y suponiendo s_1 = s_3 = 0.\n",
    "# s_2 en el eje x, s_4 en el eje y.\n",
    "plt.plot((750/7, 0),  (0, 750/4), '-r', label = \"Restricción de WR\")\n",
    "plt.plot((1000/6, 0), (0, 1000/7), '-g', label = \"Restricción de OR\")\n",
    "plt.plot((1300/5, 0), (0, 1300/6), '-b', label = \"Restricción de RR\")\n",
    "plt.plot((630/3, 0),  (0, 630/5),  '-y', label = \"Restricción de SS\")\n",
    "\n",
    "# Graficamos la naturaleza de las variables.\n",
    "plt.axhline(y = 0, color = 'k', linestyle = '-', label='Naturaleza s_4')\n",
    "plt.axvline(x = 0, color = 'c', linestyle = '-', label='Naturaleza s_2')\n",
    "\n",
    "# Graficamos el punto óptimo.\n",
    "plt.plot(53.47826087, 93.91304348,  '-or', label = \"Punto óptimo\")\n",
    "\n",
    "# Nombramos los ejes\n",
    "plt.xlabel('s2')\n",
    "plt.ylabel('s4')\n",
    "\n",
    "# Nombramos el gráfico\n",
    "plt.title('Gráfico de restricciones')\n",
    "\n",
    "# Agregamos cuadrícula al gráfico\n",
    "plt.grid()\n",
    "\n",
    "# Agregamos una leyenda al gráfico\n",
    "plt.legend(loc=1)\n",
    "\n",
    "# Desplegamos el gráfico\n",
    "plt.show()"
   ]
  }
 ],
 "metadata": {
  "kernelspec": {
   "display_name": "Python 3 (ipykernel)",
   "language": "python",
   "name": "python3"
  },
  "language_info": {
   "codemirror_mode": {
    "name": "ipython",
    "version": 3
   },
   "file_extension": ".py",
   "mimetype": "text/x-python",
   "name": "python",
   "nbconvert_exporter": "python",
   "pygments_lexer": "ipython3",
   "version": "3.8.12"
  }
 },
 "nbformat": 4,
 "nbformat_minor": 5
}
