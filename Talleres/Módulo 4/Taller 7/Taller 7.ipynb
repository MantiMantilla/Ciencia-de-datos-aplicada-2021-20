{
 "cells": [
  {
   "cell_type": "markdown",
   "id": "0431cfb1",
   "metadata": {},
   "source": [
    "# Ciencia de datos aplicada\n",
    "\n",
    "## Taller 7\n",
    "\n",
    "### Contexto\n",
    "\n",
    "#### Linear Programming Model  \n",
    "\n",
    "Every LP model is composed of \n",
    "* __Decision variables__ (whose values are unknown and are searched for)\n",
    "* __Objective function__ (a linear mathematical function that relates the decision variables to the goal, measures goal attainment, and is to be optimized)\n",
    "* __Objective function coefficients__ (unit profit or cost coefficients indicating the contribution to the objective of one unit of a decision variable)\n",
    "* __Constraints__ (expressed in the form of linear inequalities or equalities that limit resources and/or requirements; these relate the variables through linear relationships), \n",
    "* __Capacities__(which describe the upper and sometimes lower limits on the constraints and variables), \n",
    "* __Input/Output__ (technology) coefficients (which indicate resource utilization for a decision variable).\n",
    "\n",
    "Tomado de https://www.amazon.com/-/es/Ramesh-Sharda/dp/0134633288  Pg 339\n"
   ]
  },
  {
   "cell_type": "code",
   "execution_count": 1,
   "id": "f2789fe4",
   "metadata": {},
   "outputs": [],
   "source": [
    "#Librerías\n",
    "import pandas as pd\n",
    "import numpy as np\n",
    "import matplotlib.pyplot as plt\n",
    "from scipy.optimize import linprog"
   ]
  },
  {
   "cell_type": "markdown",
   "id": "2573b460",
   "metadata": {},
   "source": [
    "### Extensión\n",
    "\n",
    "Resuelva el siguiente ejercicio:\n",
    "\n",
    "Let us assume that a Hospital has different departments and only four surgical departments performing different surgery. The performance of these surgeries is constrained by four resources: \n",
    "* (i). Waiting room (WR) hours \n",
    "* (ii).Operating Room (OR) hours \n",
    "* (iii). Recovery room (RR) bed hours and \n",
    "* (iv). Surgical services (SS). \n",
    "\n",
    "The capacity hours of WR, OR, RR and SS are 750 hours, 1000 hours, 1300 hours and 630 hours respectively for performing the different surgeries. \n",
    "\n",
    "Now, the director of the hospital is in a position to determine the optimal combination of surgical patients that maximizes the profit contributed by Patients with different surgeries (S_1,S_2,S_3,S_4)\n",
    "\n",
    "The constraints are:\n",
    "\n",
    "|    | $s_1$ | $s_2$ | $s_3$ | $s_4$ |\n",
    "|:--:|:-----:|:-----:|:-----:|:-----:|\n",
    "| WR | 5 | 7 | 9 | 4 |\n",
    "| OR | 4 | 6 | 5 | 7 |\n",
    "| RR | 3 | 5 | 4 | 6 |\n",
    "| SS | 6 | 3 | 2 | 5 |\n",
    "\n",
    "Let the average contribution to profit by $s_1, s_2, s_3, s_4$ patients are \\\\$20, \\\\$22, \\\\$21 and \\\\$19 respectively. Thus in order to determine the optimal combination of surgical patients that maximizes the total profit contributed by Patients with different surgeries. \n",
    "\n",
    "\n",
    "#### Preguntas\n",
    "\n",
    "1. Establezca las variables del problema\n",
    "2. Cree las ecuaciones\n",
    "3. Represente el sistema matricial\n",
    "4. Grafique al menos 2 de las cirugías\n",
    "5. Cree el programa linprog y halle la solución\n",
    "\n",
    "\n",
    "\n"
   ]
  },
  {
   "cell_type": "markdown",
   "id": "5a1617fe",
   "metadata": {},
   "source": [
    "Tenemos las siguientes variables de decisión que representan la cantidad de cirugías a efectuar de cada tipo:\n",
    "\n",
    "$s_{i}, \\ \\forall i \\in \\{ 1, 2, 3, 4 \\}$"
   ]
  },
  {
   "cell_type": "markdown",
   "id": "c45bde60",
   "metadata": {},
   "source": [
    "### Ecuaciones\n",
    "\n",
    "Estas restricciones no permiten que se excedan los tiempos disponibles para cada tipo de recurso.\n",
    "\n",
    "Restricción de recurso WR:\n",
    "\n",
    "$$\n",
    "    5 \\cdot s_{1} + 7 \\cdot s_{2} + 9 \\cdot s_{3} + 4 \\cdot s_{4} \\leq 750.\n",
    "$$\n",
    "\n",
    "Restricción de recurso OR:\n",
    "\n",
    "$$\n",
    "    4 \\cdot s_{1} + 6 \\cdot s_{2} + 5 \\cdot s_{3} + 7 \\cdot s_{4} \\leq 1000.\n",
    "$$\n",
    "\n",
    "Restricción de recurso RR:\n",
    "\n",
    "$$\n",
    "    3 \\cdot s_{1} + 5 \\cdot s_{2} + 4 \\cdot s_{3} + 6 \\cdot s_{4} \\leq 1300.\n",
    "$$\n",
    "\n",
    "Restricción de recurso SS:\n",
    "\n",
    "$$\n",
    "    6 \\cdot s_{1} + 3 \\cdot s_{2} + 2 \\cdot s_{3} + 5 \\cdot s_{4} \\leq 630.\n",
    "$$\n",
    "\n",
    "Naturaleza de las variables (se definen como positivas pero el problema bien definido debe considerar variables enteras):\n",
    "\n",
    "$$\n",
    "    s_{1}, s_{2}, s_{3}, s_{4} \\geq 0\n",
    "$$\n",
    "\n",
    "o, preferiblemente:\n",
    "\n",
    "$$\n",
    "    s_{1}, s_{2}, s_{3}, s_{4} \\in \\mathbb{N}. \n",
    "$$\n",
    "\n",
    "Función objetivo que maximiza las ganancias de las cirugías efectuadas:\n",
    "\n",
    "$$\n",
    "    \\max_{s_{1}, s_{2}, s_{3}, s_{4}}{20 \\cdot s_{1} + 22 \\cdot s_{2} + 21 \\cdot s_{3} + 19 \\cdot s_{4}}\n",
    "$$"
   ]
  },
  {
   "cell_type": "markdown",
   "id": "752e5e2d",
   "metadata": {},
   "source": [
    "### Sistema matricial\n",
    "\n",
    "$$\n",
    "    \\max_{\\mathbf{s}}{\\mathbf{c}^{T}\\mathbf{s}}\\text{ ó }\\max_{s_{1}, s_{2}, s_{3}, s_{4}}{\\left[\\begin{matrix}20 & 22 & 21 & 19\\end{matrix}\\right]\\left[\\begin{matrix} s_{1} \\\\ s_{2} \\\\ s_{3} \\\\ s_{4}\\end{matrix}\\right]}\n",
    "$$\n",
    "\n",
    "s.a,\n",
    "\n",
    "$$\n",
    "    \\mathbf{A}\\mathbf{s}\\leq\\mathbf{b}\\text{ ó }\n",
    "    \\left[\\begin{matrix}\n",
    "        5 & 7 & 9 & 4 \\\\\n",
    "        4 & 6 & 5 & 7 \\\\\n",
    "        3 & 5 & 4 & 6 \\\\\n",
    "        6 & 3 & 2 & 5 \n",
    "    \\end{matrix}\\right]\n",
    "    \\left[\\begin{matrix}\n",
    "        s_{1} \\\\\n",
    "        s_{2} \\\\\n",
    "        s_{3} \\\\\n",
    "        s_{4}\n",
    "    \\end{matrix}\\right]\\leq\n",
    "    \\left[\\begin{matrix}\n",
    "        750 \\\\\n",
    "        1000 \\\\\n",
    "        1300 \\\\\n",
    "        630\n",
    "    \\end{matrix}\\right]\n",
    "$$\n",
    "\n",
    "$$\n",
    "    \\mathbf{s} \\geq \\mathbf{0}\\text{ ó }\n",
    "    \\left[\\begin{matrix}\n",
    "        s_{1} \\\\\n",
    "        s_{2} \\\\\n",
    "        s_{3} \\\\\n",
    "        s_{4}\n",
    "    \\end{matrix}\\right]\\geq\n",
    "    \\left[\\begin{matrix}\n",
    "        0 \\\\\n",
    "        0 \\\\\n",
    "        0 \\\\\n",
    "        0\n",
    "    \\end{matrix}\\right]\n",
    "$$"
   ]
  },
  {
   "cell_type": "markdown",
   "id": "69458c75",
   "metadata": {},
   "source": [
    "### Gráfica de 2 cirugías"
   ]
  },
  {
   "cell_type": "code",
   "execution_count": 2,
   "id": "2d2bc2be",
   "metadata": {},
   "outputs": [
    {
     "data": {
      "image/png": "[encoded data removed]",
      "text/plain": [
       "<Figure size 432x288 with 1 Axes>"
      ]
     },
     "metadata": {
      "needs_background": "light"
     },
     "output_type": "display_data"
    }
   ],
   "source": [
    "# Graficamos las restricciones solo para las primeras dos variables y suponiendo s_3 = s_4 = 0.\n",
    "# s_1 en el eje x, s_2 en el eje y.\n",
    "plt.plot((0, 750/5) ,  (750/7, 0),  '-r', label = \"Restricción de WR\")\n",
    "plt.plot((0, 1000/4),  (1000/6, 0), '-g', label = \"Restricción de OR\")\n",
    "plt.plot((0, 1300/3),  (1300/5, 0), '-b', label = \"Restricción de RR\")\n",
    "plt.plot((0, 630/6),   (630/3, 0),  '-y', label = \"Restricción de SS\")\n",
    "\n",
    "# Graficamos la naturaleza de las variables.\n",
    "plt.axhline(y = 0, color = 'k', linestyle = '-', label='Naturaleza s_2')\n",
    "plt.axvline(x = 0, color = 'c', linestyle = '-', label='Naturaleza s_1')\n",
    "\n",
    "# Nombramos los ejes\n",
    "plt.xlabel('s1')\n",
    "plt.ylabel('s2')\n",
    "\n",
    "# Nombramos el gráfico\n",
    "plt.title('Gráfico de restricciones')\n",
    "\n",
    "# Agregamos cuadrícula al gráfico\n",
    "plt.grid()\n",
    "\n",
    "# Agregamos una leyenda al gráfico\n",
    "plt.legend(loc=1)\n",
    "\n",
    "# Desplegamos el gráfico\n",
    "plt.show()"
   ]
  },
  {
   "cell_type": "markdown",
   "id": "56456720",
   "metadata": {},
   "source": [
    "### Optimización del problema"
   ]
  },
  {
   "cell_type": "code",
   "execution_count": 3,
   "id": "feea6158",
   "metadata": {},
   "outputs": [
    {
     "name": "stdout",
     "output_type": "stream",
     "text": [
      "     con: array([], dtype=float64)\n",
      "     fun: -2960.869565217391\n",
      " message: 'Optimization terminated successfully.'\n",
      "     nit: 2\n",
      "   slack: array([  0.        ,  21.73913043, 469.13043478,   0.        ])\n",
      "  status: 0\n",
      " success: True\n",
      "       x: array([ 0.        , 53.47826087,  0.        , 93.91304348])\n"
     ]
    }
   ],
   "source": [
    "#la función linprog solamente minimiza por lo que hay que cambiar el signo de la función de costo\n",
    "c = np.array([20, 22, 21, 19]) # Coeficientes de la funcion costo\n",
    "A = np.matrix([[5, 7, 9, 4],\n",
    "               [4, 6, 5, 7],\n",
    "               [3, 5, 4, 6],\n",
    "               [6, 3, 2, 5]]) # coeficientes de la matriz\n",
    "b = np.array([750, 1000, 1300, 630]) # coeficientes libres\n",
    "bounds=np.array([[0, None],[0, None], [0, None], [0, None]])# Límites de las variables s1, s2, s3 y s4\n",
    "\n",
    "#Construimos la función\n",
    "res = linprog(c=-c, # Función de costo. Minimizamos el negativo de la FO para maximizar.\n",
    "              A_ub=A, #Matriz\n",
    "              b_ub=b, #Coeficientes libres\n",
    "              bounds=bounds, #límites de x              \n",
    "              method=\"revised simplex\") #método\n",
    "\n",
    "print(res)"
   ]
  },
  {
   "cell_type": "markdown",
   "id": "cd8e3c65",
   "metadata": {},
   "source": [
    "Vemos que en el óptimo, el problema solo considera en su base las variables $s_{2}$ y $s_{4}$.\n",
    "\n",
    "Igual que antes, graficaremos únicamente dos variables pero esta vez las que sabemos son distintas de cero."
   ]
  },
  {
   "cell_type": "code",
   "execution_count": 4,
   "id": "dc1da029",
   "metadata": {},
   "outputs": [
    {
     "data": {
      "image/png": "[encoded data removed]",
      "text/plain": [
       "<Figure size 432x288 with 1 Axes>"
      ]
     },
     "metadata": {
      "needs_background": "light"
     },
     "output_type": "display_data"
    }
   ],
   "source": [
    "# Graficamos las restricciones solo para las primeras dos variables y suponiendo s_1 = s_3 = 0.\n",
    "# s_2 en el eje x, s_4 en el eje y.\n",
    "plt.plot((750/7, 0),  (0, 750/4), '-r', label = \"Restricción de WR\")\n",
    "plt.plot((1000/6, 0), (0, 1000/7), '-g', label = \"Restricción de OR\")\n",
    "plt.plot((1300/5, 0), (0, 1300/6), '-b', label = \"Restricción de RR\")\n",
    "plt.plot((630/3, 0),  (0, 630/5),  '-y', label = \"Restricción de SS\")\n",
    "\n",
    "# Graficamos la naturaleza de las variables.\n",
    "plt.axhline(y = 0, color = 'k', linestyle = '-', label='Naturaleza s_4')\n",
    "plt.axvline(x = 0, color = 'c', linestyle = '-', label='Naturaleza s_2')\n",
    "\n",
    "# Graficamos el punto óptimo.\n",
    "plt.plot(53.47826087, 93.91304348,  '-or', label = \"Punto óptimo\")\n",
    "\n",
    "# Nombramos los ejes\n",
    "plt.xlabel('s2')\n",
    "plt.ylabel('s4')\n",
    "\n",
    "# Nombramos el gráfico\n",
    "plt.title('Gráfico de restricciones')\n",
    "\n",
    "# Agregamos cuadrícula al gráfico\n",
    "plt.grid()\n",
    "\n",
    "# Agregamos una leyenda al gráfico\n",
    "plt.legend(loc=1)\n",
    "\n",
    "# Desplegamos el gráfico\n",
    "plt.show()"
   ]
  }
 ],
 "metadata": {
  "kernelspec": {
   "display_name": "Python 3 (ipykernel)",
   "language": "python",
   "name": "python3"
  },
  "language_info": {
   "codemirror_mode": {
    "name": "ipython",
    "version": 3
   },
   "file_extension": ".py",
   "mimetype": "text/x-python",
   "name": "python",
   "nbconvert_exporter": "python",
   "pygments_lexer": "ipython3",
   "version": "3.8.12"
  }
 },
 "nbformat": 4,
 "nbformat_minor": 5
}
