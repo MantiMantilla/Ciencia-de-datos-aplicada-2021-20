{
 "cells": [
  {
   "cell_type": "markdown",
   "id": "12a5b55e",
   "metadata": {},
   "source": [
    "# Ciencia de datos aplicada\n",
    "\n",
    "## Taller 8\n",
    "\n",
    "### Contexto\n",
    "\n",
    "\n",
    "Machine Learning with R by Brett Lantz is a book that provides an introduction to machine learning using R. As far as I can tell, Packt Publishing does not make its datasets available online unless you buy the book and create a user account which can be a problem if you are checking the book out from the library or borrowing the book from a friend. All of these datasets are in the public domain but simply needed some cleaning up and recoding to match the format in the book\n",
    "\n",
    "Columns\n",
    "\n",
    "1. age: age of primary beneficiary\n",
    "\n",
    "2. sex: insurance contractor gender, female, male\n",
    "\n",
    "3. bmi: Body mass index, providing an understanding of body, weights that are relatively high or low relative to height,objective index of body weight (kg / $m^2$) using the ratio of height to weight, ideally 18.5 to 24.9\n",
    "\n",
    "4. children: Number of children covered by health insurance / Number of dependents\n",
    "\n",
    "5. smoker: Smoking\n",
    "\n",
    "6. region: the beneficiary's residential area in the US, northeast, southeast, southwest, northwest.\n",
    "\n",
    "7. charges: Individual medical costs billed by health insurance\n"
   ]
  },
  {
   "cell_type": "markdown",
   "id": "d82c7806",
   "metadata": {},
   "source": [
    "### 1. Carga de librerías y archivos"
   ]
  },
  {
   "cell_type": "code",
   "execution_count": 85,
   "id": "2d3de109",
   "metadata": {},
   "outputs": [],
   "source": [
    "import pandas as pd\n",
    "import matplotlib.pyplot as plt\n",
    "import numpy as np\n",
    "from sklearn.linear_model import LinearRegression\n",
    "from SALib.sample import saltelli\n",
    "from SALib.analyze import sobol\n",
    "from scipy.optimize import linprog"
   ]
  },
  {
   "cell_type": "code",
   "execution_count": 2,
   "id": "ae5c8ef6",
   "metadata": {},
   "outputs": [],
   "source": [
    "# Leer los datos\n",
    "data=pd.read_csv('insurance.csv')"
   ]
  },
  {
   "cell_type": "code",
   "execution_count": 3,
   "id": "ab65a5d4",
   "metadata": {
    "scrolled": false
   },
   "outputs": [
    {
     "data": {
      "text/html": [
       "<div>\n",
       "<style scoped>\n",
       "    .dataframe tbody tr th:only-of-type {\n",
       "        vertical-align: middle;\n",
       "    }\n",
       "\n",
       "    .dataframe tbody tr th {\n",
       "        vertical-align: top;\n",
       "    }\n",
       "\n",
       "    .dataframe thead th {\n",
       "        text-align: right;\n",
       "    }\n",
       "</style>\n",
       "<table border=\"1\" class=\"dataframe\">\n",
       "  <thead>\n",
       "    <tr style=\"text-align: right;\">\n",
       "      <th></th>\n",
       "      <th>age</th>\n",
       "      <th>sex</th>\n",
       "      <th>bmi</th>\n",
       "      <th>children</th>\n",
       "      <th>smoker</th>\n",
       "      <th>region</th>\n",
       "      <th>charges</th>\n",
       "    </tr>\n",
       "  </thead>\n",
       "  <tbody>\n",
       "    <tr>\n",
       "      <th>0</th>\n",
       "      <td>19</td>\n",
       "      <td>female</td>\n",
       "      <td>27.900</td>\n",
       "      <td>0</td>\n",
       "      <td>yes</td>\n",
       "      <td>southwest</td>\n",
       "      <td>16884.92400</td>\n",
       "    </tr>\n",
       "    <tr>\n",
       "      <th>1</th>\n",
       "      <td>18</td>\n",
       "      <td>male</td>\n",
       "      <td>33.770</td>\n",
       "      <td>1</td>\n",
       "      <td>no</td>\n",
       "      <td>southeast</td>\n",
       "      <td>1725.55230</td>\n",
       "    </tr>\n",
       "    <tr>\n",
       "      <th>2</th>\n",
       "      <td>28</td>\n",
       "      <td>male</td>\n",
       "      <td>33.000</td>\n",
       "      <td>3</td>\n",
       "      <td>no</td>\n",
       "      <td>southeast</td>\n",
       "      <td>4449.46200</td>\n",
       "    </tr>\n",
       "    <tr>\n",
       "      <th>3</th>\n",
       "      <td>33</td>\n",
       "      <td>male</td>\n",
       "      <td>22.705</td>\n",
       "      <td>0</td>\n",
       "      <td>no</td>\n",
       "      <td>northwest</td>\n",
       "      <td>21984.47061</td>\n",
       "    </tr>\n",
       "    <tr>\n",
       "      <th>4</th>\n",
       "      <td>32</td>\n",
       "      <td>male</td>\n",
       "      <td>28.880</td>\n",
       "      <td>0</td>\n",
       "      <td>no</td>\n",
       "      <td>northwest</td>\n",
       "      <td>3866.85520</td>\n",
       "    </tr>\n",
       "    <tr>\n",
       "      <th>5</th>\n",
       "      <td>31</td>\n",
       "      <td>female</td>\n",
       "      <td>25.740</td>\n",
       "      <td>0</td>\n",
       "      <td>no</td>\n",
       "      <td>southeast</td>\n",
       "      <td>3756.62160</td>\n",
       "    </tr>\n",
       "    <tr>\n",
       "      <th>6</th>\n",
       "      <td>46</td>\n",
       "      <td>female</td>\n",
       "      <td>33.440</td>\n",
       "      <td>1</td>\n",
       "      <td>no</td>\n",
       "      <td>southeast</td>\n",
       "      <td>8240.58960</td>\n",
       "    </tr>\n",
       "    <tr>\n",
       "      <th>7</th>\n",
       "      <td>37</td>\n",
       "      <td>female</td>\n",
       "      <td>27.740</td>\n",
       "      <td>3</td>\n",
       "      <td>no</td>\n",
       "      <td>northwest</td>\n",
       "      <td>7281.50560</td>\n",
       "    </tr>\n",
       "    <tr>\n",
       "      <th>8</th>\n",
       "      <td>37</td>\n",
       "      <td>male</td>\n",
       "      <td>29.830</td>\n",
       "      <td>2</td>\n",
       "      <td>no</td>\n",
       "      <td>northeast</td>\n",
       "      <td>6406.41070</td>\n",
       "    </tr>\n",
       "    <tr>\n",
       "      <th>9</th>\n",
       "      <td>60</td>\n",
       "      <td>female</td>\n",
       "      <td>25.840</td>\n",
       "      <td>0</td>\n",
       "      <td>no</td>\n",
       "      <td>northwest</td>\n",
       "      <td>28923.13692</td>\n",
       "    </tr>\n",
       "  </tbody>\n",
       "</table>\n",
       "</div>"
      ],
      "text/plain": [
       "   age     sex     bmi  children smoker     region      charges\n",
       "0   19  female  27.900         0    yes  southwest  16884.92400\n",
       "1   18    male  33.770         1     no  southeast   1725.55230\n",
       "2   28    male  33.000         3     no  southeast   4449.46200\n",
       "3   33    male  22.705         0     no  northwest  21984.47061\n",
       "4   32    male  28.880         0     no  northwest   3866.85520\n",
       "5   31  female  25.740         0     no  southeast   3756.62160\n",
       "6   46  female  33.440         1     no  southeast   8240.58960\n",
       "7   37  female  27.740         3     no  northwest   7281.50560\n",
       "8   37    male  29.830         2     no  northeast   6406.41070\n",
       "9   60  female  25.840         0     no  northwest  28923.13692"
      ]
     },
     "execution_count": 3,
     "metadata": {},
     "output_type": "execute_result"
    }
   ],
   "source": [
    "data.head(10)"
   ]
  },
  {
   "cell_type": "code",
   "execution_count": 4,
   "id": "e5ceaa88",
   "metadata": {},
   "outputs": [],
   "source": [
    "#Transformación de datos\n",
    "data['smoker']=data['smoker'].apply(lambda x: 1 if x=='yes' else 0)\n",
    "data=data.drop(['sex','region'],axis=1)"
   ]
  },
  {
   "cell_type": "markdown",
   "id": "3c9b8728",
   "metadata": {},
   "source": [
    "### 2. Análisis de sensibilidad\n",
    "\n",
    "Los análisis de sensibilidad implican variar las entradas de un sistema para evaluar los impactos individuales de cada variable en la salida y, en última instancia, proporcionar información sobre los diferentes efectos de cada variable probada. Los análisis de sensibilidad se utilizan normalmente en una variedad de disciplinas, como en los negocios para el modelado financiero o en la ingeniería para optimizar la eficiencia en un sistema dado. Si se usa correctamente, el análisis de sensibilidad puede ser una herramienta poderosa para revelar información adicional que de otro modo se habría perdido.\n",
    "\n",
    "Las sensibilidades de los inputs básicos a menudo se ignoran. La realización de un análisis de sensibilidad simple podría agregar valor a un proyecto de ciencia de datos al proporcionar información adicional a las partes interesadas para que tomen decisiones más informadas. Si bien la implementación de análisis de sensibilidad no sería factible o deseable para ciertas tareas, podrían servir como una herramienta exploratoria adicional para que los científicos de datos obtengan información adicional a partir de conjuntos de datos multivariados.\n",
    "\n",
    "Se van a revisar datos sobre el:\n",
    "\n",
    "* Precio\n",
    "* Edad\n",
    "* Número de hijos\n",
    "* Índice de masa corporal\n",
    "* y si la persona es fumadora\n",
    "\n",
    "### 2.1. Correlación\n",
    "Las matrices de coeficientes de correlación son a menudo la primera herramienta que se utiliza para determinar las relaciones entre variables. A continuación se muestra la matriz de coeficientes de correlación para los atributos."
   ]
  },
  {
   "cell_type": "code",
   "execution_count": 5,
   "id": "1b340bd7",
   "metadata": {},
   "outputs": [
    {
     "data": {
      "image/png": "[encoded data removed]",
      "text/plain": [
       "<Figure size 1368x1080 with 2 Axes>"
      ]
     },
     "metadata": {
      "needs_background": "light"
     },
     "output_type": "display_data"
    }
   ],
   "source": [
    "f = plt.figure(figsize=(19, 15))\n",
    "plt.matshow(data.corr(), fignum=f.number)\n",
    "plt.xticks(range(data.select_dtypes(['number']).shape[1]), data.select_dtypes(['number']).columns, fontsize=14, rotation=45)\n",
    "plt.yticks(range(data.select_dtypes(['number']).shape[1]), data.select_dtypes(['number']).columns, fontsize=14)\n",
    "cb = plt.colorbar()\n",
    "cb.ax.tick_params(labelsize=14)\n",
    "plt.title('Correlation Matrix', fontsize=16);"
   ]
  },
  {
   "cell_type": "code",
   "execution_count": 6,
   "id": "5991717a",
   "metadata": {
    "scrolled": false
   },
   "outputs": [
    {
     "data": {
      "text/html": [
       "<div>\n",
       "<style scoped>\n",
       "    .dataframe tbody tr th:only-of-type {\n",
       "        vertical-align: middle;\n",
       "    }\n",
       "\n",
       "    .dataframe tbody tr th {\n",
       "        vertical-align: top;\n",
       "    }\n",
       "\n",
       "    .dataframe thead th {\n",
       "        text-align: right;\n",
       "    }\n",
       "</style>\n",
       "<table border=\"1\" class=\"dataframe\">\n",
       "  <thead>\n",
       "    <tr style=\"text-align: right;\">\n",
       "      <th></th>\n",
       "      <th>age</th>\n",
       "      <th>bmi</th>\n",
       "      <th>children</th>\n",
       "      <th>smoker</th>\n",
       "      <th>charges</th>\n",
       "    </tr>\n",
       "  </thead>\n",
       "  <tbody>\n",
       "    <tr>\n",
       "      <th>age</th>\n",
       "      <td>1.000000</td>\n",
       "      <td>0.109272</td>\n",
       "      <td>0.042469</td>\n",
       "      <td>-0.025019</td>\n",
       "      <td>0.299008</td>\n",
       "    </tr>\n",
       "    <tr>\n",
       "      <th>bmi</th>\n",
       "      <td>0.109272</td>\n",
       "      <td>1.000000</td>\n",
       "      <td>0.012759</td>\n",
       "      <td>0.003750</td>\n",
       "      <td>0.198341</td>\n",
       "    </tr>\n",
       "    <tr>\n",
       "      <th>children</th>\n",
       "      <td>0.042469</td>\n",
       "      <td>0.012759</td>\n",
       "      <td>1.000000</td>\n",
       "      <td>0.007673</td>\n",
       "      <td>0.067998</td>\n",
       "    </tr>\n",
       "    <tr>\n",
       "      <th>smoker</th>\n",
       "      <td>-0.025019</td>\n",
       "      <td>0.003750</td>\n",
       "      <td>0.007673</td>\n",
       "      <td>1.000000</td>\n",
       "      <td>0.787251</td>\n",
       "    </tr>\n",
       "    <tr>\n",
       "      <th>charges</th>\n",
       "      <td>0.299008</td>\n",
       "      <td>0.198341</td>\n",
       "      <td>0.067998</td>\n",
       "      <td>0.787251</td>\n",
       "      <td>1.000000</td>\n",
       "    </tr>\n",
       "  </tbody>\n",
       "</table>\n",
       "</div>"
      ],
      "text/plain": [
       "               age       bmi  children    smoker   charges\n",
       "age       1.000000  0.109272  0.042469 -0.025019  0.299008\n",
       "bmi       0.109272  1.000000  0.012759  0.003750  0.198341\n",
       "children  0.042469  0.012759  1.000000  0.007673  0.067998\n",
       "smoker   -0.025019  0.003750  0.007673  1.000000  0.787251\n",
       "charges   0.299008  0.198341  0.067998  0.787251  1.000000"
      ]
     },
     "execution_count": 6,
     "metadata": {},
     "output_type": "execute_result"
    }
   ],
   "source": [
    "# Correlación\n",
    "data.corr()"
   ]
  },
  {
   "cell_type": "code",
   "execution_count": 7,
   "id": "04c74c6f",
   "metadata": {},
   "outputs": [
    {
     "data": {
      "text/html": [
       "<div>\n",
       "<style scoped>\n",
       "    .dataframe tbody tr th:only-of-type {\n",
       "        vertical-align: middle;\n",
       "    }\n",
       "\n",
       "    .dataframe tbody tr th {\n",
       "        vertical-align: top;\n",
       "    }\n",
       "\n",
       "    .dataframe thead th {\n",
       "        text-align: right;\n",
       "    }\n",
       "</style>\n",
       "<table border=\"1\" class=\"dataframe\">\n",
       "  <thead>\n",
       "    <tr style=\"text-align: right;\">\n",
       "      <th></th>\n",
       "      <th>age</th>\n",
       "      <th>bmi</th>\n",
       "      <th>children</th>\n",
       "      <th>smoker</th>\n",
       "      <th>charges</th>\n",
       "    </tr>\n",
       "  </thead>\n",
       "  <tbody>\n",
       "    <tr>\n",
       "      <th>count</th>\n",
       "      <td>1338.000000</td>\n",
       "      <td>1338.000000</td>\n",
       "      <td>1338.000000</td>\n",
       "      <td>1338.000000</td>\n",
       "      <td>1338.000000</td>\n",
       "    </tr>\n",
       "    <tr>\n",
       "      <th>mean</th>\n",
       "      <td>39.207025</td>\n",
       "      <td>30.663397</td>\n",
       "      <td>1.094918</td>\n",
       "      <td>0.204783</td>\n",
       "      <td>13270.422265</td>\n",
       "    </tr>\n",
       "    <tr>\n",
       "      <th>std</th>\n",
       "      <td>14.049960</td>\n",
       "      <td>6.098187</td>\n",
       "      <td>1.205493</td>\n",
       "      <td>0.403694</td>\n",
       "      <td>12110.011237</td>\n",
       "    </tr>\n",
       "    <tr>\n",
       "      <th>min</th>\n",
       "      <td>18.000000</td>\n",
       "      <td>15.960000</td>\n",
       "      <td>0.000000</td>\n",
       "      <td>0.000000</td>\n",
       "      <td>1121.873900</td>\n",
       "    </tr>\n",
       "    <tr>\n",
       "      <th>25%</th>\n",
       "      <td>27.000000</td>\n",
       "      <td>26.296250</td>\n",
       "      <td>0.000000</td>\n",
       "      <td>0.000000</td>\n",
       "      <td>4740.287150</td>\n",
       "    </tr>\n",
       "    <tr>\n",
       "      <th>50%</th>\n",
       "      <td>39.000000</td>\n",
       "      <td>30.400000</td>\n",
       "      <td>1.000000</td>\n",
       "      <td>0.000000</td>\n",
       "      <td>9382.033000</td>\n",
       "    </tr>\n",
       "    <tr>\n",
       "      <th>75%</th>\n",
       "      <td>51.000000</td>\n",
       "      <td>34.693750</td>\n",
       "      <td>2.000000</td>\n",
       "      <td>0.000000</td>\n",
       "      <td>16639.912515</td>\n",
       "    </tr>\n",
       "    <tr>\n",
       "      <th>max</th>\n",
       "      <td>64.000000</td>\n",
       "      <td>53.130000</td>\n",
       "      <td>5.000000</td>\n",
       "      <td>1.000000</td>\n",
       "      <td>63770.428010</td>\n",
       "    </tr>\n",
       "  </tbody>\n",
       "</table>\n",
       "</div>"
      ],
      "text/plain": [
       "               age          bmi     children       smoker       charges\n",
       "count  1338.000000  1338.000000  1338.000000  1338.000000   1338.000000\n",
       "mean     39.207025    30.663397     1.094918     0.204783  13270.422265\n",
       "std      14.049960     6.098187     1.205493     0.403694  12110.011237\n",
       "min      18.000000    15.960000     0.000000     0.000000   1121.873900\n",
       "25%      27.000000    26.296250     0.000000     0.000000   4740.287150\n",
       "50%      39.000000    30.400000     1.000000     0.000000   9382.033000\n",
       "75%      51.000000    34.693750     2.000000     0.000000  16639.912515\n",
       "max      64.000000    53.130000     5.000000     1.000000  63770.428010"
      ]
     },
     "execution_count": 7,
     "metadata": {},
     "output_type": "execute_result"
    }
   ],
   "source": [
    "data.describe()"
   ]
  },
  {
   "cell_type": "markdown",
   "id": "2cc7ed9e",
   "metadata": {},
   "source": [
    "### 2.2. Una mirada más cercana a los datos para revelar información adicional\n",
    "\n",
    "Podemos utilizar un diagrama de dispersión e implementar algunas técnicas de visualización multidimensional para comprender mejor cómo se relacionan los atributos. A continuación se muestra un diagrama de dispersión que muestra la relación entre el peso, el color y la claridad del diamante con el precio."
   ]
  },
  {
   "cell_type": "code",
   "execution_count": 22,
   "id": "92f9f76e",
   "metadata": {
    "scrolled": false
   },
   "outputs": [
    {
     "data": {
      "text/plain": [
       "Text(0.5, 1.0, 'Grafico multidimensional de atributos')"
      ]
     },
     "execution_count": 22,
     "metadata": {},
     "output_type": "execute_result"
    },
    {
     "data": {
      "image/png": "[encoded data removed]",
      "text/plain": [
       "<Figure size 432x288 with 1 Axes>"
      ]
     },
     "metadata": {
      "needs_background": "light"
     },
     "output_type": "display_data"
    }
   ],
   "source": [
    "plt.scatter('charges', 'bmi',\n",
    "             s='age',\n",
    "             c='smoker',\n",
    "             alpha=0.3, data=data)\n",
    "plt.xlabel(\"Charges\", size=16)\n",
    "plt.ylabel(\"BMI\", size=16)\n",
    "plt.title(\"Grafico multidimensional de atributos\", size=16)"
   ]
  },
  {
   "cell_type": "markdown",
   "id": "3ab6ab23",
   "metadata": {},
   "source": [
    "### 2.3. Evaluación de sensibilidades de entrada en la salida\n",
    "Normalmente, el enfoque más común es mantener todos los atributos en su valor medio mientras se varía solo una de las entradas para evaluar el efecto de cambiar solo una variable. Los análisis más avanzados podrían incluir la variación de múltiples entradas al mismo tiempo para estudiar el efecto combinado de múltiples variables.\n",
    "\n",
    "En este ejemplo, variaremos un atributo a la vez en varios pasos para evaluar la sensibilidad general de cada variable. Agregar medio paso significa que estamos usando el valor del punto medio entre la media y el máximo para una sola variable y agregar un paso completo significa que usaremos el valor máximo para esa variable. La siguiente figura ilustra el concepto detrás del valor de la variable creciente y decreciente paso a paso desde la media hasta el máximo o mínimo."
   ]
  },
  {
   "cell_type": "code",
   "execution_count": 23,
   "id": "502a6cbd",
   "metadata": {},
   "outputs": [
    {
     "data": {
      "text/html": [
       "<div>\n",
       "<style scoped>\n",
       "    .dataframe tbody tr th:only-of-type {\n",
       "        vertical-align: middle;\n",
       "    }\n",
       "\n",
       "    .dataframe tbody tr th {\n",
       "        vertical-align: top;\n",
       "    }\n",
       "\n",
       "    .dataframe thead th {\n",
       "        text-align: right;\n",
       "    }\n",
       "</style>\n",
       "<table border=\"1\" class=\"dataframe\">\n",
       "  <thead>\n",
       "    <tr style=\"text-align: right;\">\n",
       "      <th></th>\n",
       "      <th>mean</th>\n",
       "      <th>max</th>\n",
       "      <th>min</th>\n",
       "    </tr>\n",
       "  </thead>\n",
       "  <tbody>\n",
       "    <tr>\n",
       "      <th>age</th>\n",
       "      <td>39.207025</td>\n",
       "      <td>64.00000</td>\n",
       "      <td>18.0000</td>\n",
       "    </tr>\n",
       "    <tr>\n",
       "      <th>bmi</th>\n",
       "      <td>30.663397</td>\n",
       "      <td>53.13000</td>\n",
       "      <td>15.9600</td>\n",
       "    </tr>\n",
       "    <tr>\n",
       "      <th>children</th>\n",
       "      <td>1.094918</td>\n",
       "      <td>5.00000</td>\n",
       "      <td>0.0000</td>\n",
       "    </tr>\n",
       "    <tr>\n",
       "      <th>smoker</th>\n",
       "      <td>0.204783</td>\n",
       "      <td>1.00000</td>\n",
       "      <td>0.0000</td>\n",
       "    </tr>\n",
       "    <tr>\n",
       "      <th>charges</th>\n",
       "      <td>13270.422265</td>\n",
       "      <td>63770.42801</td>\n",
       "      <td>1121.8739</td>\n",
       "    </tr>\n",
       "  </tbody>\n",
       "</table>\n",
       "</div>"
      ],
      "text/plain": [
       "                  mean          max        min\n",
       "age          39.207025     64.00000    18.0000\n",
       "bmi          30.663397     53.13000    15.9600\n",
       "children      1.094918      5.00000     0.0000\n",
       "smoker        0.204783      1.00000     0.0000\n",
       "charges   13270.422265  63770.42801  1121.8739"
      ]
     },
     "execution_count": 23,
     "metadata": {},
     "output_type": "execute_result"
    }
   ],
   "source": [
    "data_summary=data.describe().transpose()[['mean','max','min']]\n",
    "data_summary"
   ]
  },
  {
   "cell_type": "code",
   "execution_count": 24,
   "id": "d926c8d5",
   "metadata": {},
   "outputs": [],
   "source": [
    "#Crear función para el cambio percentual\n",
    "def cambios_percentuales(val,columna,valor):\n",
    "    cambio=0\n",
    "    if val=='min':\n",
    "        cambio=-data[data[columna]==valor]['charges'].min()/data['charges'].mean()\n",
    "    elif val=='max':\n",
    "        cambio=data[data[columna]==valor]['charges'].max()/data['charges'].mean()\n",
    "    else:\n",
    "        cambio=0\n",
    "    return cambio"
   ]
  },
  {
   "cell_type": "code",
   "execution_count": 25,
   "id": "8a9a1baa",
   "metadata": {},
   "outputs": [],
   "source": [
    "#Encontrar los cambios percentuales del precio según el cambio en las variables\n",
    "age=[cambios_percentuales(i,'age',data_summary.loc['age',i]) for i in ['min','mean','max']]\n",
    "bmi=[cambios_percentuales(i,'bmi',data_summary.loc['bmi',i]) for i in ['min','mean','max']]\n",
    "smoke=[cambios_percentuales(i,'smoker',data_summary.loc['smoker',i]) for i in ['min','mean','max']]"
   ]
  },
  {
   "cell_type": "code",
   "execution_count": 26,
   "id": "af54add0",
   "metadata": {},
   "outputs": [
    {
     "data": {
      "image/png": "[encoded data removed]",
      "text/plain": [
       "<Figure size 720x360 with 1 Axes>"
      ]
     },
     "metadata": {},
     "output_type": "display_data"
    }
   ],
   "source": [
    "import numpy as np\n",
    "import matplotlib.pyplot as plt\n",
    "\n",
    "\n",
    "category_names = ['-1 Step', 'Mean','1 Step']\n",
    "results = {\n",
    "    'Age': age,\n",
    "    'BMI': bmi,\n",
    "    'Smoker': smoke,\n",
    "}\n",
    "\n",
    "\n",
    "def survey(results, category_names):\n",
    "    \"\"\"\n",
    "    Parameters\n",
    "    ----------\n",
    "    results : dict\n",
    "        A mapping from question labels to a list of answers per category.\n",
    "        It is assumed all lists contain the same number of entries and that\n",
    "        it matches the length of *category_names*. The order is assumed\n",
    "        to be from 'Strongly disagree' to 'Strongly aisagree'\n",
    "    category_names : list of str\n",
    "        The category labels.\n",
    "    \"\"\"\n",
    "    \n",
    "    labels = list(results.keys())\n",
    "    data = np.array(list(results.values()))\n",
    "    data_cum = data.cumsum(axis=1)\n",
    "    middle_index = data.shape[1]//2\n",
    "    offsets = data[:, range(middle_index)].sum(axis=1) + data[:, middle_index]/2\n",
    "    \n",
    "    # Color Mapping\n",
    "    category_colors = plt.get_cmap('coolwarm_r')(\n",
    "        np.linspace(0.15, 0.85, data.shape[1]))\n",
    "    \n",
    "    fig, ax = plt.subplots(figsize=(10, 5))\n",
    "    \n",
    "    # Plot Bars\n",
    "    for i, (colname, color) in enumerate(zip(category_names, category_colors)):\n",
    "        widths = data[:, i]\n",
    "        starts = data_cum[:, i] - widths - offsets\n",
    "        rects = ax.barh(labels, widths, left=starts, height=0.5,\n",
    "                        label=colname, color=color)\n",
    "    \n",
    "    # Add Zero Reference Line\n",
    "    ax.axvline(0, linestyle='--', color='black', alpha=.25)\n",
    "    \n",
    "    # X Axis\n",
    "    ax.set_xlim(-4, 4)\n",
    "    ax.set_xticks(np.arange(-4, 4, 10))\n",
    "    ax.xaxis.set_major_formatter(lambda x, pos: str(abs(int(x))))\n",
    "    \n",
    "    # Y Axis\n",
    "    ax.invert_yaxis()\n",
    "    \n",
    "    # Remove spines\n",
    "    ax.spines['right'].set_visible(False)\n",
    "    ax.spines['top'].set_visible(False)\n",
    "    ax.spines['left'].set_visible(False)\n",
    "    \n",
    "    # Ledgend\n",
    "    ax.legend(ncol=len(category_names), bbox_to_anchor=(0, 1),\n",
    "              loc='lower left', fontsize='small')\n",
    "    \n",
    "    # Set Background Color\n",
    "    fig.set_facecolor('#FFFFFF')\n",
    "\n",
    "    return fig, ax\n",
    "\n",
    "\n",
    "fig, ax = survey(results, category_names)\n",
    "plt.show()\n"
   ]
  },
  {
   "cell_type": "code",
   "execution_count": 27,
   "id": "d94d1114",
   "metadata": {},
   "outputs": [
    {
     "data": {
      "text/plain": [
       "[-0.1277123188801528, 0, 0.08767337442277054]"
      ]
     },
     "execution_count": 27,
     "metadata": {},
     "output_type": "execute_result"
    }
   ],
   "source": [
    "bmi"
   ]
  },
  {
   "cell_type": "code",
   "execution_count": 28,
   "id": "cfa75bc2",
   "metadata": {},
   "outputs": [
    {
     "data": {
      "text/plain": [
       "[-0.08453942742628004, 0, 3.7359521354667513]"
      ]
     },
     "execution_count": 28,
     "metadata": {},
     "output_type": "execute_result"
    }
   ],
   "source": [
    "age"
   ]
  },
  {
   "cell_type": "code",
   "execution_count": 29,
   "id": "9c43e7b8",
   "metadata": {
    "scrolled": true
   },
   "outputs": [
    {
     "data": {
      "text/plain": [
       "[-0.08453942742628004, 0, 4.805455827695261]"
      ]
     },
     "execution_count": 29,
     "metadata": {},
     "output_type": "execute_result"
    }
   ],
   "source": [
    "smoke"
   ]
  },
  {
   "cell_type": "code",
   "execution_count": 30,
   "id": "83e17f66",
   "metadata": {
    "scrolled": true
   },
   "outputs": [
    {
     "data": {
      "text/plain": [
       "<BarContainer object of 3 artists>"
      ]
     },
     "execution_count": 30,
     "metadata": {},
     "output_type": "execute_result"
    },
    {
     "data": {
      "image/png": "[encoded data removed]",
      "text/plain": [
       "<Figure size 432x288 with 1 Axes>"
      ]
     },
     "metadata": {
      "needs_background": "light"
     },
     "output_type": "display_data"
    }
   ],
   "source": [
    "# Create bars\n",
    "plt.bar(['age','bmi','smoker'], [age[2],bmi[2],smoke[2]])"
   ]
  },
  {
   "cell_type": "markdown",
   "id": "650a6b96",
   "metadata": {},
   "source": [
    "### 2.4. ¿Qué pasaría si?\n",
    "Un análisis hipotético se usa comúnmente para modelar cómo el cambio de variables específicas afecta el resultado. Tenga en cuenta que este es más un enfoque de modelado hacia adelante porque es independiente del conjunto de datos."
   ]
  },
  {
   "cell_type": "code",
   "execution_count": 31,
   "id": "1c0ca3e8",
   "metadata": {},
   "outputs": [],
   "source": [
    "x=data.drop(['children','charges'],axis=1)\n",
    "y=data['charges']"
   ]
  },
  {
   "cell_type": "code",
   "execution_count": 32,
   "id": "c35fbd37",
   "metadata": {
    "scrolled": false
   },
   "outputs": [
    {
     "data": {
      "text/html": [
       "<div>\n",
       "<style scoped>\n",
       "    .dataframe tbody tr th:only-of-type {\n",
       "        vertical-align: middle;\n",
       "    }\n",
       "\n",
       "    .dataframe tbody tr th {\n",
       "        vertical-align: top;\n",
       "    }\n",
       "\n",
       "    .dataframe thead th {\n",
       "        text-align: right;\n",
       "    }\n",
       "</style>\n",
       "<table border=\"1\" class=\"dataframe\">\n",
       "  <thead>\n",
       "    <tr style=\"text-align: right;\">\n",
       "      <th></th>\n",
       "      <th>age</th>\n",
       "      <th>bmi</th>\n",
       "      <th>smoker</th>\n",
       "    </tr>\n",
       "  </thead>\n",
       "  <tbody>\n",
       "    <tr>\n",
       "      <th>0</th>\n",
       "      <td>19</td>\n",
       "      <td>27.900</td>\n",
       "      <td>1</td>\n",
       "    </tr>\n",
       "    <tr>\n",
       "      <th>1</th>\n",
       "      <td>18</td>\n",
       "      <td>33.770</td>\n",
       "      <td>0</td>\n",
       "    </tr>\n",
       "    <tr>\n",
       "      <th>2</th>\n",
       "      <td>28</td>\n",
       "      <td>33.000</td>\n",
       "      <td>0</td>\n",
       "    </tr>\n",
       "    <tr>\n",
       "      <th>3</th>\n",
       "      <td>33</td>\n",
       "      <td>22.705</td>\n",
       "      <td>0</td>\n",
       "    </tr>\n",
       "    <tr>\n",
       "      <th>4</th>\n",
       "      <td>32</td>\n",
       "      <td>28.880</td>\n",
       "      <td>0</td>\n",
       "    </tr>\n",
       "    <tr>\n",
       "      <th>...</th>\n",
       "      <td>...</td>\n",
       "      <td>...</td>\n",
       "      <td>...</td>\n",
       "    </tr>\n",
       "    <tr>\n",
       "      <th>1333</th>\n",
       "      <td>50</td>\n",
       "      <td>30.970</td>\n",
       "      <td>0</td>\n",
       "    </tr>\n",
       "    <tr>\n",
       "      <th>1334</th>\n",
       "      <td>18</td>\n",
       "      <td>31.920</td>\n",
       "      <td>0</td>\n",
       "    </tr>\n",
       "    <tr>\n",
       "      <th>1335</th>\n",
       "      <td>18</td>\n",
       "      <td>36.850</td>\n",
       "      <td>0</td>\n",
       "    </tr>\n",
       "    <tr>\n",
       "      <th>1336</th>\n",
       "      <td>21</td>\n",
       "      <td>25.800</td>\n",
       "      <td>0</td>\n",
       "    </tr>\n",
       "    <tr>\n",
       "      <th>1337</th>\n",
       "      <td>61</td>\n",
       "      <td>29.070</td>\n",
       "      <td>1</td>\n",
       "    </tr>\n",
       "  </tbody>\n",
       "</table>\n",
       "<p>1338 rows × 3 columns</p>\n",
       "</div>"
      ],
      "text/plain": [
       "      age     bmi  smoker\n",
       "0      19  27.900       1\n",
       "1      18  33.770       0\n",
       "2      28  33.000       0\n",
       "3      33  22.705       0\n",
       "4      32  28.880       0\n",
       "...   ...     ...     ...\n",
       "1333   50  30.970       0\n",
       "1334   18  31.920       0\n",
       "1335   18  36.850       0\n",
       "1336   21  25.800       0\n",
       "1337   61  29.070       1\n",
       "\n",
       "[1338 rows x 3 columns]"
      ]
     },
     "execution_count": 32,
     "metadata": {},
     "output_type": "execute_result"
    }
   ],
   "source": [
    "x"
   ]
  },
  {
   "cell_type": "code",
   "execution_count": 33,
   "id": "a79c9b2a",
   "metadata": {},
   "outputs": [],
   "source": [
    "modelo = LinearRegression()\n",
    "modelo= LinearRegression().fit(x, y)"
   ]
  },
  {
   "cell_type": "code",
   "execution_count": 34,
   "id": "849ff2a5",
   "metadata": {},
   "outputs": [
    {
     "data": {
      "text/plain": [
       "array([  259.54749155,   322.61513282, 23823.68449531])"
      ]
     },
     "execution_count": 34,
     "metadata": {},
     "output_type": "execute_result"
    }
   ],
   "source": [
    "modelo.coef_"
   ]
  },
  {
   "cell_type": "code",
   "execution_count": 35,
   "id": "bdd3d662",
   "metadata": {},
   "outputs": [],
   "source": [
    "def funcion_cargos(age,bmi,smoke):\n",
    "    cargo=modelo.coef_[0]*age+modelo.coef_[1]*bmi+smoke*modelo.coef_[2]\n",
    "    return cargo"
   ]
  },
  {
   "cell_type": "code",
   "execution_count": 36,
   "id": "19de64fe",
   "metadata": {},
   "outputs": [],
   "source": [
    "# restricciones\n",
    "ager=[18,100]\n",
    "bmir=[15,53]\n",
    "smoke=[0,1]"
   ]
  },
  {
   "cell_type": "markdown",
   "id": "0a697a37",
   "metadata": {},
   "source": [
    "### 3. Análisis sensitividad en python\n",
    "Implementaciones en Python de los métodos de análisis de sensibilidad de uso común, incluidos los métodos Sobol, Morris y FAST. Útil en el modelado de sistemas para calcular los efectos de las entradas del modelo o los factores exógenos en las salidas de interés."
   ]
  },
  {
   "cell_type": "code",
   "execution_count": 37,
   "id": "fd815051",
   "metadata": {},
   "outputs": [],
   "source": [
    "# Crear la función\n",
    "def ET(X):\n",
    "    return(0.0031*X[:,0]*(X[:,1]+209)*(X[:,2]*(X[:,2]+15))**-1)"
   ]
  },
  {
   "cell_type": "code",
   "execution_count": 45,
   "id": "a77811dc",
   "metadata": {},
   "outputs": [],
   "source": [
    "# Definir el problema\n",
    "problem = {'num_vars': 3,\n",
    "           'names': ['C', 'R', 't'],\n",
    "           'bounds': [[10, 100],\n",
    "                     [3, 7],\n",
    "                     [-10, 30]]\n",
    "           }"
   ]
  },
  {
   "cell_type": "code",
   "execution_count": 46,
   "id": "c0b17695",
   "metadata": {},
   "outputs": [],
   "source": [
    "# Generar muestras\n",
    "muestras = saltelli.sample(problem, 1000, calc_second_order=False)"
   ]
  },
  {
   "cell_type": "code",
   "execution_count": 47,
   "id": "8983f910",
   "metadata": {},
   "outputs": [],
   "source": [
    "# Correr el modelo con las muestras\n",
    "Y = ET(muestras)"
   ]
  },
  {
   "cell_type": "code",
   "execution_count": 48,
   "id": "99c1300b",
   "metadata": {
    "scrolled": true
   },
   "outputs": [
    {
     "name": "stdout",
     "output_type": "stream",
     "text": [
      "         ST    ST_conf\n",
      "C  0.940600  11.528769\n",
      "R  0.203185   1.410563\n",
      "t  1.082769  12.362189\n",
      "         S1   S1_conf\n",
      "C  0.001239  0.018619\n",
      "R -0.000272  0.021138\n",
      "t  0.001727  0.037308\n",
      "              S2   S2_conf\n",
      "(C, R)  0.032187  0.235276\n",
      "(C, t)  0.773123  8.667878\n",
      "(R, t)  0.149555  1.554847\n"
     ]
    }
   ],
   "source": [
    "# Perform analysis\n",
    "Salida = sobol.analyze(problem, Y, print_to_console=True)"
   ]
  },
  {
   "cell_type": "code",
   "execution_count": 49,
   "id": "f42d52aa",
   "metadata": {
    "scrolled": true
   },
   "outputs": [
    {
     "data": {
      "text/plain": [
       "[         ST    ST_conf\n",
       " C  0.940600  11.528769\n",
       " R  0.203185   1.410563\n",
       " t  1.082769  12.362189,\n",
       "          S1   S1_conf\n",
       " C  0.001239  0.018619\n",
       " R -0.000272  0.021138\n",
       " t  0.001727  0.037308,\n",
       "               S2   S2_conf\n",
       " (C, R)  0.032187  0.235276\n",
       " (C, t)  0.773123  8.667878\n",
       " (R, t)  0.149555  1.554847]"
      ]
     },
     "execution_count": 49,
     "metadata": {},
     "output_type": "execute_result"
    }
   ],
   "source": [
    "Salida.to_df()"
   ]
  },
  {
   "cell_type": "code",
   "execution_count": 50,
   "id": "2f1d68a1",
   "metadata": {
    "scrolled": true
   },
   "outputs": [
    {
     "data": {
      "text/plain": [
       "array([<AxesSubplot:>, <AxesSubplot:>, <AxesSubplot:>], dtype=object)"
      ]
     },
     "execution_count": 50,
     "metadata": {},
     "output_type": "execute_result"
    },
    {
     "data": {
      "image/png": "[encoded data removed]",
      "text/plain": [
       "<Figure size 432x288 with 3 Axes>"
      ]
     },
     "metadata": {
      "needs_background": "light"
     },
     "output_type": "display_data"
    }
   ],
   "source": [
    "Salida.plot()"
   ]
  },
  {
   "cell_type": "markdown",
   "id": "fdf57cc1",
   "metadata": {},
   "source": [
    "### Extensión\n",
    "\n",
    "1. Realice el análisis de sensitividad con python para la función  $y = a + x^2$\n",
    "2. Busque en grupo una solución al siguiente problema:\n",
    "    * En un hospital un grupo de enfermos en recuperación debe llevar una dieta especial, el cual debe tener ciertos índices calóricos por la complejidad de su enfermedad, además alimentos ricos en vitaminas y minerales específicos para una pronta recuperación, esta dieta se debe componer de carne, papas, habichuela, leche y guayaba. Los precios por kilo son 700, 80, 250, 70 y 80 respectivamente. Este selecto grupo de enfermos se compone de 6 personas y cada persona debe consumir 800 calorías. Para que la alimentación sea adecuada se debe componer de 20% de proteinas, 30% de grasas y 50% de glúcidos, para facilitar el trabajo se tiene la siguiente tabla\n",
    "    \n",
    "|             | Proteinas | Grasas | Glúcidos |\n",
    "|:-----------:|:---------:|:------:|:--------:|\n",
    "|    Carne    |     10    |   10   |     0    |\n",
    "|    Papas    |     2     |    0   |    20    |\n",
    "| Habichuelas |     1     |    0   |     5    |\n",
    "|    Leche    |     5     |    3   |     5    |\n",
    "|   Guayaba   |     1     |    0   |    15    |"
   ]
  },
  {
   "cell_type": "markdown",
   "id": "6be7b64a",
   "metadata": {},
   "source": [
    "### Análisis de sensibilidad\n",
    "\n",
    "Se trata de una función $f(x) = y$. La variable de respuesta es $y$ y la variable independiente $x$. La función tiene un parámetro $a$, para el cual ejecutaremos el análisis de sensibilidad.\n",
    "\n",
    "Acotamos los valores posibles de $a$ entre -50 y 50."
   ]
  },
  {
   "cell_type": "code",
   "execution_count": null,
   "id": "8b19bdaa",
   "metadata": {},
   "outputs": [],
   "source": [
    "# Pending"
   ]
  },
  {
   "cell_type": "markdown",
   "id": "cf480e6d",
   "metadata": {},
   "source": [
    "### Programación lineal\n",
    "\n",
    "#### Conjuntos\n",
    "\n",
    "$A$: conjunto de alimentos.\n",
    "\n",
    "$$\n",
    "    A = \\{\\text{Carne}, \\text{Papas}, \\text{Habichuelas}, \\text{Leche}, \\text{Guayaba}\\}\n",
    "$$\n",
    "\n",
    "$N$: conjunto de tipos de calorías.\n",
    "\n",
    "$$\n",
    "    N = \\{\\text{Proteinas}, \\text{Grasas}, \\text{Glúcidos}\\}\n",
    "$$\n",
    "\n",
    "#### Parámetros\n",
    "\n",
    "$c_{a}$: costo por kilo de cada alimento $a \\in A$.\n",
    "\n",
    "$$\n",
    "c_{a}=\\begin{cases} \n",
    "      700 & a = \\text{Carne}\\\\\n",
    "      80 & a = \\text{Papas}\\\\\n",
    "      250 & a = \\text{Habichuelas}\\\\\n",
    "      70 & a = \\text{Leche}\\\\\n",
    "      80 & a = \\text{Guayaba}\n",
    "\\end{cases}\n",
    "$$\n",
    "\n",
    "$k_{a,n}$: cantidad de calorías que aporta un kilo del alimento $a \\in A$ de tipo calórico $n \\in N$.\n",
    "\n",
    "Omitimos la declaración explícita de este parámetro ya que está declarado en el enunciado.\n",
    "\n",
    "$f_{n}$: porcion de las calorías tipo $n\\in N$ que deben constituir una comida.\n",
    "\n",
    "$$\n",
    "f_{n}=\\begin{cases} \n",
    "      0.2 & a = \\text{Proteinas}\\\\\n",
    "      0.3 & a = \\text{Grasas}\\\\\n",
    "      0.5 & a = \\text{Glúcidos}\n",
    "\\end{cases}\n",
    "$$\n",
    "\n",
    "$\\text{cal}$: cantidad de calorías en una comida.\n",
    "\n",
    "$$\n",
    "    \\text{cal} = 800\n",
    "$$\n",
    "\n",
    "$\\text{per}$: cantidad de pacientes.\n",
    "\n",
    "$$\n",
    "    \\text{per} = 6\n",
    "$$\n",
    "\n",
    "#### Variables\n",
    "\n",
    "$x_{a}$: cantidad de kilos a utilizar del alimento $a\\in A$.\n",
    "\n",
    "#### Función objetivo\n",
    "\n",
    "$$\n",
    "    \\min_{x_{a},\\forall a \\in A}\\sum_{a\\in A}c_{a}\\cdot x_{a}\n",
    "$$\n",
    "\n",
    "#### Restricciones\n",
    "\n",
    "Garantizamos que del total de calorías, se cumpla la porción de cada tipo $n\\in N$.\n",
    "\n",
    "$$\n",
    "    \\sum_{a\\in A} k_{a,n}\\cdot x_{a} \\geq f_{n} \\cdot \\text{per} \\cdot \\text{cal},\\ \\forall n\\in N.\n",
    "$$\n",
    "\n",
    "Nos aeguramos de que las variables sean siempre positivas.\n",
    "$$\n",
    "    x_{a} \\geq 0, \\ \\forall a \\in A.\n",
    "$$"
   ]
  },
  {
   "cell_type": "code",
   "execution_count": 67,
   "id": "d3756a4c",
   "metadata": {},
   "outputs": [],
   "source": [
    "# Declaramos los conjuntos del problema.\n",
    "Am = {'Carne', 'Papas', 'Habichuelas', 'Leche', 'Guayaba'} # Conjunto de alimentos.\n",
    "Nm = {'Proteinas', 'Grasas', 'Glúcidos'} # Conjunto de tipos de calorías.\n",
    "\n",
    "# Declaramos los parámetros del problema.\n",
    "cm = {'Carne': 700,\n",
    "      'Papas': 80,\n",
    "      'Habichuelas': 250,\n",
    "      'Leche': 70,\n",
    "      'Guayaba': 80} # Costo por kilo de cada alimento a in A\n",
    "\n",
    "km = {('Carne',      'Proteinas'): 10, ('Carne',       'Grasas'): 10, ('Carne',       'Glúcidos'): 0,\n",
    "     ('Papas',       'Proteinas'): 2,  ('Papas',       'Grasas'): 0,  ('Papas',       'Glúcidos'): 20,\n",
    "     ('Habichuelas', 'Proteinas'): 1,  ('Habichuelas', 'Grasas'): 0,  ('Habichuelas', 'Glúcidos'): 5,\n",
    "     ('Leche',       'Proteinas'): 5,  ('Leche',       'Grasas'): 3,  ('Leche',       'Glúcidos'): 5,\n",
    "     ('Guayaba',     'Proteinas'): 1,  ('Guayaba',     'Grasas'): 0,  ('Guayaba',     'Glúcidos'): 15} # Cantidad de calorías de tipo n in N que aporta el alimento a in A.\n",
    "\n",
    "fm = {'Proteinas': 0.2,\n",
    "      'Grasas': 0.3,\n",
    "      'Glúcidos': 0.5} # Porcion de las calorias totales que deben ser de tipo n in N.\n",
    "\n",
    "calm = 800 # Cantidad de calorias en una comida\n",
    "\n",
    "perm = 6 # Cantidad de pacientes"
   ]
  },
  {
   "cell_type": "code",
   "execution_count": 100,
   "id": "5f4c22c3",
   "metadata": {},
   "outputs": [],
   "source": [
    "# Construimos los parámetros de la función linprog.\n",
    "\n",
    "c = np.array([*cm.values()]) # Costos de la FO.\n",
    "\n",
    "A = np.matrix([[k[(a,n)] for a in Am] for n in Nm]) # Matriz de coeficientes\n",
    "\n",
    "b = np.array([int(round(f[n] * perm * calm, 0)) for n in Nm]) # RHS de las otras restricciones.\n",
    "\n",
    "bounds = np.array([(0, None) for a in Am])"
   ]
  },
  {
   "cell_type": "code",
   "execution_count": 116,
   "id": "4f876c57",
   "metadata": {},
   "outputs": [
    {
     "name": "stdout",
     "output_type": "stream",
     "text": [
      "     con: array([], dtype=float64)\n",
      "     fun: 22720.0\n",
      " message: 'Optimization terminated successfully.'\n",
      "     nit: 4\n",
      "   slack: array([  0., 640.,   0.])\n",
      "  status: 0\n",
      " success: True\n",
      "       x: array([  0., 144.,   0., 160.,   0.])\n"
     ]
    }
   ],
   "source": [
    "# Construimos y resolvemos el modelo.\n",
    "res = linprog(c=c, # Función de costo.\n",
    "              A_ub=-A, #Matriz\n",
    "              b_ub=-b, #Coeficientes libres\n",
    "              bounds=bounds, #límites de x              \n",
    "              method=\"revised simplex\") #método\n",
    "\n",
    "print(res)"
   ]
  },
  {
   "cell_type": "markdown",
   "id": "4358c4f1",
   "metadata": {},
   "source": [
    "Podemos ver que la comida ideal que garantiza una dieta balanceada y minimiza los costos del hospital contiene únicamente papas y leche. El costo total es de $22720."
   ]
  }
 ],
 "metadata": {
  "kernelspec": {
   "display_name": "Python 3 (ipykernel)",
   "language": "python",
   "name": "python3"
  },
  "language_info": {
   "codemirror_mode": {
    "name": "ipython",
    "version": 3
   },
   "file_extension": ".py",
   "mimetype": "text/x-python",
   "name": "python",
   "nbconvert_exporter": "python",
   "pygments_lexer": "ipython3",
   "version": "3.8.12"
  }
 },
 "nbformat": 4,
 "nbformat_minor": 5
}
