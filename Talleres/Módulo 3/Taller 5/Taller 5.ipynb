{
 "cells": [
  {
   "cell_type": "markdown",
   "id": "84a9ca36",
   "metadata": {},
   "source": [
    "# Ciencia de datos aplicada\n",
    "\n",
    "## Taller 5\n",
    "\n",
    "### Contexto\n",
    "Imagine that you are a medical researcher compiling data for a study. You have collected data about a set of patients, all of whom suffered from the same illness. During their course of treatment, each patient responded to one of 5 medications, Drug A, Drug B, Drug c, Drug x and y.\n",
    "\n",
    "Part of your job is to build a model to find out which drug might be appropriate for a future patient with the same illness. The features of this dataset are Age, Sex, Blood Pressure, and the Cholesterol of the patients, and the target is the drug that each patient responded to.\n",
    "\n",
    "It is a sample of multiclass classifier, and you can use the training part of the dataset to build a decision tree, and then use it to predict the class of a unknown patient, or to prescribe a drug to a new patient\n",
    " \n",
    "https://www.kaggle.com/pablomgomez21/drugs-a-b-c-x-y-for-decision-trees"
   ]
  },
  {
   "cell_type": "markdown",
   "id": "992f44a2",
   "metadata": {},
   "source": [
    "### 1. Importación de librerías y datos\n",
    "\n",
    "En las siguientes líneas de código se importan las librerías, datos y herramientas necesarias para desarrollar el caso de uso."
   ]
  },
  {
   "cell_type": "code",
   "execution_count": 1,
   "id": "c30ff9a4",
   "metadata": {},
   "outputs": [],
   "source": [
    "#Librería de manejo de datos\n",
    "import pandas as pd\n",
    "\n",
    "import numpy as np\n",
    "\n",
    "# Detección de anomálias[]\n",
    "from sklearn.ensemble import IsolationForest\n",
    "from sklearn.pipeline import make_pipeline\n",
    "from sklearn.preprocessing import StandardScaler\n",
    "\n",
    "# Arbol de decisión y sus métricas\n",
    "from sklearn.metrics import confusion_matrix\n",
    "from sklearn.model_selection import train_test_split\n",
    "from sklearn.tree import DecisionTreeClassifier\n",
    "from sklearn import tree\n",
    "from sklearn.metrics import accuracy_score\n",
    "from sklearn.metrics import classification_report\n",
    "from sklearn.preprocessing import label_binarize\n",
    "from sklearn.metrics import roc_curve, auc\n",
    "import random\n",
    "\n",
    "#Gráficos\n",
    "import matplotlib.pyplot as plt\n",
    "from matplotlib import style\n",
    "import seaborn as sns\n",
    "import graphviz\n",
    "\n",
    "#Prueba chi cuadrado\n",
    "from  scipy.stats import chi2_contingency"
   ]
  },
  {
   "cell_type": "code",
   "execution_count": 2,
   "id": "3d31d13b",
   "metadata": {
    "scrolled": true
   },
   "outputs": [
    {
     "data": {
      "text/html": [
       "<div>\n",
       "<style scoped>\n",
       "    .dataframe tbody tr th:only-of-type {\n",
       "        vertical-align: middle;\n",
       "    }\n",
       "\n",
       "    .dataframe tbody tr th {\n",
       "        vertical-align: top;\n",
       "    }\n",
       "\n",
       "    .dataframe thead th {\n",
       "        text-align: right;\n",
       "    }\n",
       "</style>\n",
       "<table border=\"1\" class=\"dataframe\">\n",
       "  <thead>\n",
       "    <tr style=\"text-align: right;\">\n",
       "      <th></th>\n",
       "      <th>Age</th>\n",
       "      <th>Sex</th>\n",
       "      <th>BP</th>\n",
       "      <th>Cholesterol</th>\n",
       "      <th>Na_to_K</th>\n",
       "      <th>Drug</th>\n",
       "    </tr>\n",
       "  </thead>\n",
       "  <tbody>\n",
       "    <tr>\n",
       "      <th>0</th>\n",
       "      <td>23</td>\n",
       "      <td>F</td>\n",
       "      <td>HIGH</td>\n",
       "      <td>HIGH</td>\n",
       "      <td>25.355</td>\n",
       "      <td>drugY</td>\n",
       "    </tr>\n",
       "    <tr>\n",
       "      <th>1</th>\n",
       "      <td>47</td>\n",
       "      <td>M</td>\n",
       "      <td>LOW</td>\n",
       "      <td>HIGH</td>\n",
       "      <td>13.093</td>\n",
       "      <td>drugC</td>\n",
       "    </tr>\n",
       "    <tr>\n",
       "      <th>2</th>\n",
       "      <td>47</td>\n",
       "      <td>M</td>\n",
       "      <td>LOW</td>\n",
       "      <td>HIGH</td>\n",
       "      <td>10.114</td>\n",
       "      <td>drugC</td>\n",
       "    </tr>\n",
       "    <tr>\n",
       "      <th>3</th>\n",
       "      <td>28</td>\n",
       "      <td>F</td>\n",
       "      <td>NORMAL</td>\n",
       "      <td>HIGH</td>\n",
       "      <td>7.798</td>\n",
       "      <td>drugX</td>\n",
       "    </tr>\n",
       "    <tr>\n",
       "      <th>4</th>\n",
       "      <td>61</td>\n",
       "      <td>F</td>\n",
       "      <td>LOW</td>\n",
       "      <td>HIGH</td>\n",
       "      <td>18.043</td>\n",
       "      <td>drugY</td>\n",
       "    </tr>\n",
       "  </tbody>\n",
       "</table>\n",
       "</div>"
      ],
      "text/plain": [
       "   Age Sex      BP Cholesterol  Na_to_K   Drug\n",
       "0   23   F    HIGH        HIGH   25.355  drugY\n",
       "1   47   M     LOW        HIGH   13.093  drugC\n",
       "2   47   M     LOW        HIGH   10.114  drugC\n",
       "3   28   F  NORMAL        HIGH    7.798  drugX\n",
       "4   61   F     LOW        HIGH   18.043  drugY"
      ]
     },
     "execution_count": 2,
     "metadata": {},
     "output_type": "execute_result"
    }
   ],
   "source": [
    "#Cargar los datos\n",
    "data=pd.read_csv('drug200.csv')\n",
    "data.head()"
   ]
  },
  {
   "cell_type": "code",
   "execution_count": 3,
   "id": "35b2bf67",
   "metadata": {},
   "outputs": [
    {
     "data": {
      "text/plain": [
       "(200, 6)"
      ]
     },
     "execution_count": 3,
     "metadata": {},
     "output_type": "execute_result"
    }
   ],
   "source": [
    "data.shape"
   ]
  },
  {
   "cell_type": "code",
   "execution_count": 4,
   "id": "2a188ffe",
   "metadata": {
    "scrolled": false
   },
   "outputs": [
    {
     "data": {
      "text/plain": [
       "Age              int64\n",
       "Sex             object\n",
       "BP              object\n",
       "Cholesterol     object\n",
       "Na_to_K        float64\n",
       "Drug            object\n",
       "dtype: object"
      ]
     },
     "execution_count": 4,
     "metadata": {},
     "output_type": "execute_result"
    }
   ],
   "source": [
    "data.dtypes"
   ]
  },
  {
   "cell_type": "markdown",
   "id": "cc307e2c",
   "metadata": {},
   "source": [
    "### 1.1. Distribución de los datos \n",
    "La distribución muestral de una estadística es la distribución de esa estadística, considerada como una variable aleatoria, cuando se deriva de una muestra aleatoria de tamaño. Puede considerarse como la distribución de la estadística para todas las muestras posibles de la misma población de un tamaño determinado. Las distribuciones muestrales permiten que las consideraciones analíticas se basen en la distribución muestral de una estadística en lugar de en la distribución de probabilidad conjunta de todos los valores muestrales individuales."
   ]
  },
  {
   "cell_type": "code",
   "execution_count": 5,
   "id": "746fecd6",
   "metadata": {
    "scrolled": true
   },
   "outputs": [
    {
     "data": {
      "text/plain": [
       "(array([24., 53., 32., 24., 23., 11., 11.,  9.,  5.,  5.,  3.]),\n",
       " array([ 6.269     ,  9.17609091, 12.08318182, 14.99027273, 17.89736364,\n",
       "        20.80445455, 23.71154545, 26.61863636, 29.52572727, 32.43281818,\n",
       "        35.33990909, 38.247     ]),\n",
       " <BarContainer object of 11 artists>)"
      ]
     },
     "execution_count": 5,
     "metadata": {},
     "output_type": "execute_result"
    },
    {
     "data": {
      "image/png": "[encoded data removed]",
      "text/plain": [
       "<Figure size 432x288 with 1 Axes>"
      ]
     },
     "metadata": {
      "needs_background": "light"
     },
     "output_type": "display_data"
    }
   ],
   "source": [
    "#Histograma de Na  a K\n",
    "plt.hist(x=data['Na_to_K'], bins='auto', color='#0504aa',\n",
    "                            alpha=0.7, rwidth=0.85)"
   ]
  },
  {
   "cell_type": "code",
   "execution_count": 6,
   "id": "c9501684",
   "metadata": {
    "scrolled": true
   },
   "outputs": [
    {
     "data": {
      "text/plain": [
       "<BarContainer object of 5 artists>"
      ]
     },
     "execution_count": 6,
     "metadata": {},
     "output_type": "execute_result"
    },
    {
     "data": {
      "image/png": "[encoded data removed]",
      "text/plain": [
       "<Figure size 432x288 with 1 Axes>"
      ]
     },
     "metadata": {
      "needs_background": "light"
     },
     "output_type": "display_data"
    }
   ],
   "source": [
    "# Diagrama de barras de la salida\n",
    "data_drug=data.groupby('Drug').count().reset_index()\n",
    "plt.bar(data_drug['Drug'],data_drug['Age'])"
   ]
  },
  {
   "cell_type": "code",
   "execution_count": 7,
   "id": "154f791d",
   "metadata": {},
   "outputs": [
    {
     "data": {
      "text/plain": [
       "<seaborn.axisgrid.PairGrid at 0x7fc110288c40>"
      ]
     },
     "execution_count": 7,
     "metadata": {},
     "output_type": "execute_result"
    },
    {
     "data": {
      "image/png": "[encoded data removed]",
      "text/plain": [
       "<Figure size 360x360 with 6 Axes>"
      ]
     },
     "metadata": {
      "needs_background": "light"
     },
     "output_type": "display_data"
    }
   ],
   "source": [
    "sns.pairplot(data)"
   ]
  },
  {
   "cell_type": "markdown",
   "id": "3fbbdd51",
   "metadata": {},
   "source": [
    "### 1.2 Simulación\n",
    "La definición básica de simulación de datos es tomar una gran cantidad de datos y usarlos para simular o reflejar condiciones del mundo real para predecir una instancia futura, determinar el mejor curso de acción o validar un modelo.\n",
    "\n",
    "Hay muchas formas diferentes de simulación de datos.\n",
    "\n",
    "Algunos buscan aproximarse a las condiciones conocidas para determinar, por ejemplo, la probabilidad de que haya recursos de petróleo, gas o minerales dentro de los estratos geológicos.\n",
    "\n",
    "Otros toman grandes cantidades de datos y ejecutan una variedad de escenarios para ver cómo podrían funcionar los diferentes enfoques. Ves este tipo de simulación en las proyecciones climáticas. Los modeladores ejecutan diferentes escenarios basados ​​en las emisiones existentes, aumentando las emisiones y reduciendo las emisiones para estimar los niveles de temperatura décadas en el futuro."
   ]
  },
  {
   "cell_type": "code",
   "execution_count": 8,
   "id": "937dcdae",
   "metadata": {},
   "outputs": [
    {
     "data": {
      "text/plain": [
       "['drugY', 'drugY', 'drugA']"
      ]
     },
     "execution_count": 8,
     "metadata": {},
     "output_type": "execute_result"
    }
   ],
   "source": [
    "#Simular la droga\n",
    "drug=[]\n",
    "dict_drug={\n",
    "    1:'drugA',\n",
    "    2:'drugB',\n",
    "    3:'drugX',\n",
    "    4:'drugY'\n",
    "}\n",
    "for i in range(1,2000):\n",
    "    drug.append(dict_drug[random.randint(1,4)])\n",
    "drug[0:3]"
   ]
  },
  {
   "cell_type": "code",
   "execution_count": 9,
   "id": "f8dc618d",
   "metadata": {},
   "outputs": [
    {
     "data": {
      "text/plain": [
       "[44, 50, 45, 51, 52, 46, 29, 35, 73, 64]"
      ]
     },
     "execution_count": 9,
     "metadata": {},
     "output_type": "execute_result"
    }
   ],
   "source": [
    "#Simular la edad\n",
    "age=[]\n",
    "for i in range(1,2000):\n",
    "    age.append(random.randint(data['Age'].min(),data['Age'].max()))\n",
    "age[0:10]"
   ]
  },
  {
   "cell_type": "code",
   "execution_count": 10,
   "id": "d9f10e1a",
   "metadata": {},
   "outputs": [
    {
     "data": {
      "text/plain": [
       "['F', 'F', 'M']"
      ]
     },
     "execution_count": 10,
     "metadata": {},
     "output_type": "execute_result"
    }
   ],
   "source": [
    "#Simular el sexo droga\n",
    "sex=[]\n",
    "dict_sex={\n",
    "    1:'F',\n",
    "    2:'M'\n",
    "}\n",
    "for i in range(1,2000):\n",
    "    sex.append(dict_sex[random.randint(1,2)])\n",
    "sex[0:3]"
   ]
  },
  {
   "cell_type": "code",
   "execution_count": 11,
   "id": "f2bd8ba7",
   "metadata": {},
   "outputs": [
    {
     "data": {
      "text/plain": [
       "['LOW', 'NORMAL', 'NORMAL']"
      ]
     },
     "execution_count": 11,
     "metadata": {},
     "output_type": "execute_result"
    }
   ],
   "source": [
    "#Simular el ritmo cardiaco\n",
    "bp=[]\n",
    "dict_bp={\n",
    "    1:'LOW',\n",
    "    2:'HIGH',\n",
    "    3:'NORMAL'\n",
    "}\n",
    "for i in range(1,2000):\n",
    "    bp.append(dict_bp[random.randint(1,3)])\n",
    "bp[0:3]"
   ]
  },
  {
   "cell_type": "code",
   "execution_count": 12,
   "id": "ba3315d1",
   "metadata": {},
   "outputs": [
    {
     "data": {
      "text/plain": [
       "['HIGH', 'NORMAL', 'HIGH']"
      ]
     },
     "execution_count": 12,
     "metadata": {},
     "output_type": "execute_result"
    }
   ],
   "source": [
    "#Simular el colesterol\n",
    "ch=[]\n",
    "dict_ch={\n",
    "    1:'HIGH',\n",
    "    2:'NORMAL'\n",
    "}\n",
    "for i in range(1,2000):\n",
    "    ch.append(dict_ch[random.randint(1,2)])\n",
    "ch[0:3]"
   ]
  },
  {
   "cell_type": "code",
   "execution_count": 13,
   "id": "a64d9d16",
   "metadata": {},
   "outputs": [
    {
     "data": {
      "text/plain": [
       "[13.576065475378908,\n",
       " 9.765995361209171,\n",
       " 18.774118629070227,\n",
       " 24.555602369096412,\n",
       " 25.449455517708863,\n",
       " 4.794779747492027,\n",
       " 6.199144150010175,\n",
       " 0.21752612425376877,\n",
       " 1.0792417890632673,\n",
       " 1.5798070711469592]"
      ]
     },
     "execution_count": 13,
     "metadata": {},
     "output_type": "execute_result"
    }
   ],
   "source": [
    "#Simular Na_to_K\n",
    "nk=[]\n",
    "for i in range(1,2000):\n",
    "    nk.append(random.expovariate(1/data['Na_to_K'].mean()))     \n",
    "nk[0:10]"
   ]
  },
  {
   "cell_type": "code",
   "execution_count": 14,
   "id": "eb9da75e",
   "metadata": {
    "scrolled": true
   },
   "outputs": [
    {
     "data": {
      "text/html": [
       "<div>\n",
       "<style scoped>\n",
       "    .dataframe tbody tr th:only-of-type {\n",
       "        vertical-align: middle;\n",
       "    }\n",
       "\n",
       "    .dataframe tbody tr th {\n",
       "        vertical-align: top;\n",
       "    }\n",
       "\n",
       "    .dataframe thead th {\n",
       "        text-align: right;\n",
       "    }\n",
       "</style>\n",
       "<table border=\"1\" class=\"dataframe\">\n",
       "  <thead>\n",
       "    <tr style=\"text-align: right;\">\n",
       "      <th></th>\n",
       "      <th>Age</th>\n",
       "      <th>Sex</th>\n",
       "      <th>BP</th>\n",
       "      <th>Cholesterol</th>\n",
       "      <th>Na_to_K</th>\n",
       "      <th>Drug</th>\n",
       "    </tr>\n",
       "  </thead>\n",
       "  <tbody>\n",
       "    <tr>\n",
       "      <th>0</th>\n",
       "      <td>44</td>\n",
       "      <td>F</td>\n",
       "      <td>LOW</td>\n",
       "      <td>HIGH</td>\n",
       "      <td>13.576065</td>\n",
       "      <td>drugY</td>\n",
       "    </tr>\n",
       "    <tr>\n",
       "      <th>1</th>\n",
       "      <td>50</td>\n",
       "      <td>F</td>\n",
       "      <td>NORMAL</td>\n",
       "      <td>NORMAL</td>\n",
       "      <td>9.765995</td>\n",
       "      <td>drugY</td>\n",
       "    </tr>\n",
       "    <tr>\n",
       "      <th>2</th>\n",
       "      <td>45</td>\n",
       "      <td>M</td>\n",
       "      <td>NORMAL</td>\n",
       "      <td>HIGH</td>\n",
       "      <td>18.774119</td>\n",
       "      <td>drugA</td>\n",
       "    </tr>\n",
       "    <tr>\n",
       "      <th>3</th>\n",
       "      <td>51</td>\n",
       "      <td>F</td>\n",
       "      <td>HIGH</td>\n",
       "      <td>HIGH</td>\n",
       "      <td>24.555602</td>\n",
       "      <td>drugY</td>\n",
       "    </tr>\n",
       "    <tr>\n",
       "      <th>4</th>\n",
       "      <td>52</td>\n",
       "      <td>F</td>\n",
       "      <td>NORMAL</td>\n",
       "      <td>HIGH</td>\n",
       "      <td>25.449456</td>\n",
       "      <td>drugY</td>\n",
       "    </tr>\n",
       "  </tbody>\n",
       "</table>\n",
       "</div>"
      ],
      "text/plain": [
       "   Age Sex      BP Cholesterol    Na_to_K   Drug\n",
       "0   44   F     LOW        HIGH  13.576065  drugY\n",
       "1   50   F  NORMAL      NORMAL   9.765995  drugY\n",
       "2   45   M  NORMAL        HIGH  18.774119  drugA\n",
       "3   51   F    HIGH        HIGH  24.555602  drugY\n",
       "4   52   F  NORMAL        HIGH  25.449456  drugY"
      ]
     },
     "execution_count": 14,
     "metadata": {},
     "output_type": "execute_result"
    }
   ],
   "source": [
    "#Crear el dataframe\n",
    "data_sim = pd.DataFrame(list(zip(age,sex,bp,ch,nk,drug)),\n",
    "               columns =['Age', 'Sex', 'BP', 'Cholesterol', 'Na_to_K', 'Drug'])\n",
    "data_sim.head()"
   ]
  },
  {
   "cell_type": "code",
   "execution_count": 15,
   "id": "1b8e8d88",
   "metadata": {},
   "outputs": [
    {
     "data": {
      "text/plain": [
       "(2199, 7)"
      ]
     },
     "execution_count": 15,
     "metadata": {},
     "output_type": "execute_result"
    }
   ],
   "source": [
    "#Unir los dataset\n",
    "data=pd.concat([data,data_sim]).reset_index()\n",
    "data.shape"
   ]
  },
  {
   "cell_type": "code",
   "execution_count": 16,
   "id": "dbe66a43",
   "metadata": {},
   "outputs": [],
   "source": [
    "#Introducir ruido\n",
    "for i in range(0,200):\n",
    "    data.at[random.randint(0,len(data)),'Na_to_K']=np.nan"
   ]
  },
  {
   "cell_type": "code",
   "execution_count": 17,
   "id": "9e892473",
   "metadata": {},
   "outputs": [
    {
     "data": {
      "text/plain": [
       "index            0\n",
       "Age              0\n",
       "Sex              0\n",
       "BP               0\n",
       "Cholesterol      0\n",
       "Na_to_K        187\n",
       "Drug             0\n",
       "dtype: int64"
      ]
     },
     "execution_count": 17,
     "metadata": {},
     "output_type": "execute_result"
    }
   ],
   "source": [
    "data.isna().sum()"
   ]
  },
  {
   "cell_type": "code",
   "execution_count": 18,
   "id": "14e25e84",
   "metadata": {},
   "outputs": [
    {
     "data": {
      "text/html": [
       "<div>\n",
       "<style scoped>\n",
       "    .dataframe tbody tr th:only-of-type {\n",
       "        vertical-align: middle;\n",
       "    }\n",
       "\n",
       "    .dataframe tbody tr th {\n",
       "        vertical-align: top;\n",
       "    }\n",
       "\n",
       "    .dataframe thead th {\n",
       "        text-align: right;\n",
       "    }\n",
       "</style>\n",
       "<table border=\"1\" class=\"dataframe\">\n",
       "  <thead>\n",
       "    <tr style=\"text-align: right;\">\n",
       "      <th></th>\n",
       "      <th>index</th>\n",
       "      <th>Age</th>\n",
       "      <th>Sex</th>\n",
       "      <th>BP</th>\n",
       "      <th>Cholesterol</th>\n",
       "      <th>Na_to_K</th>\n",
       "      <th>Drug</th>\n",
       "    </tr>\n",
       "  </thead>\n",
       "  <tbody>\n",
       "    <tr>\n",
       "      <th>0</th>\n",
       "      <td>0</td>\n",
       "      <td>23</td>\n",
       "      <td>F</td>\n",
       "      <td>HIGH</td>\n",
       "      <td>HIGH</td>\n",
       "      <td>25.355000</td>\n",
       "      <td>drugY</td>\n",
       "    </tr>\n",
       "    <tr>\n",
       "      <th>1</th>\n",
       "      <td>1</td>\n",
       "      <td>47</td>\n",
       "      <td>M</td>\n",
       "      <td>LOW</td>\n",
       "      <td>HIGH</td>\n",
       "      <td>13.093000</td>\n",
       "      <td>drugC</td>\n",
       "    </tr>\n",
       "    <tr>\n",
       "      <th>2</th>\n",
       "      <td>2</td>\n",
       "      <td>47</td>\n",
       "      <td>M</td>\n",
       "      <td>LOW</td>\n",
       "      <td>HIGH</td>\n",
       "      <td>10.114000</td>\n",
       "      <td>drugC</td>\n",
       "    </tr>\n",
       "    <tr>\n",
       "      <th>3</th>\n",
       "      <td>3</td>\n",
       "      <td>28</td>\n",
       "      <td>F</td>\n",
       "      <td>NORMAL</td>\n",
       "      <td>HIGH</td>\n",
       "      <td>7.798000</td>\n",
       "      <td>drugX</td>\n",
       "    </tr>\n",
       "    <tr>\n",
       "      <th>4</th>\n",
       "      <td>4</td>\n",
       "      <td>61</td>\n",
       "      <td>F</td>\n",
       "      <td>LOW</td>\n",
       "      <td>HIGH</td>\n",
       "      <td>18.043000</td>\n",
       "      <td>drugY</td>\n",
       "    </tr>\n",
       "    <tr>\n",
       "      <th>...</th>\n",
       "      <td>...</td>\n",
       "      <td>...</td>\n",
       "      <td>...</td>\n",
       "      <td>...</td>\n",
       "      <td>...</td>\n",
       "      <td>...</td>\n",
       "      <td>...</td>\n",
       "    </tr>\n",
       "    <tr>\n",
       "      <th>2194</th>\n",
       "      <td>1994</td>\n",
       "      <td>27</td>\n",
       "      <td>F</td>\n",
       "      <td>NORMAL</td>\n",
       "      <td>NORMAL</td>\n",
       "      <td>29.003915</td>\n",
       "      <td>drugA</td>\n",
       "    </tr>\n",
       "    <tr>\n",
       "      <th>2195</th>\n",
       "      <td>1995</td>\n",
       "      <td>23</td>\n",
       "      <td>F</td>\n",
       "      <td>NORMAL</td>\n",
       "      <td>NORMAL</td>\n",
       "      <td>15.489916</td>\n",
       "      <td>drugA</td>\n",
       "    </tr>\n",
       "    <tr>\n",
       "      <th>2196</th>\n",
       "      <td>1996</td>\n",
       "      <td>47</td>\n",
       "      <td>F</td>\n",
       "      <td>LOW</td>\n",
       "      <td>NORMAL</td>\n",
       "      <td>15.489916</td>\n",
       "      <td>drugX</td>\n",
       "    </tr>\n",
       "    <tr>\n",
       "      <th>2197</th>\n",
       "      <td>1997</td>\n",
       "      <td>18</td>\n",
       "      <td>F</td>\n",
       "      <td>NORMAL</td>\n",
       "      <td>NORMAL</td>\n",
       "      <td>1.903333</td>\n",
       "      <td>drugY</td>\n",
       "    </tr>\n",
       "    <tr>\n",
       "      <th>2198</th>\n",
       "      <td>1998</td>\n",
       "      <td>69</td>\n",
       "      <td>M</td>\n",
       "      <td>LOW</td>\n",
       "      <td>HIGH</td>\n",
       "      <td>15.489916</td>\n",
       "      <td>drugB</td>\n",
       "    </tr>\n",
       "  </tbody>\n",
       "</table>\n",
       "<p>2199 rows × 7 columns</p>\n",
       "</div>"
      ],
      "text/plain": [
       "      index  Age Sex      BP Cholesterol    Na_to_K   Drug\n",
       "0         0   23   F    HIGH        HIGH  25.355000  drugY\n",
       "1         1   47   M     LOW        HIGH  13.093000  drugC\n",
       "2         2   47   M     LOW        HIGH  10.114000  drugC\n",
       "3         3   28   F  NORMAL        HIGH   7.798000  drugX\n",
       "4         4   61   F     LOW        HIGH  18.043000  drugY\n",
       "...     ...  ...  ..     ...         ...        ...    ...\n",
       "2194   1994   27   F  NORMAL      NORMAL  29.003915  drugA\n",
       "2195   1995   23   F  NORMAL      NORMAL  15.489916  drugA\n",
       "2196   1996   47   F     LOW      NORMAL  15.489916  drugX\n",
       "2197   1997   18   F  NORMAL      NORMAL   1.903333  drugY\n",
       "2198   1998   69   M     LOW        HIGH  15.489916  drugB\n",
       "\n",
       "[2199 rows x 7 columns]"
      ]
     },
     "execution_count": 18,
     "metadata": {},
     "output_type": "execute_result"
    }
   ],
   "source": [
    "#Imputación de datos\n",
    "data=data.fillna(data['Na_to_K'].mean())\n",
    "data"
   ]
  },
  {
   "cell_type": "code",
   "execution_count": 19,
   "id": "2dda887b",
   "metadata": {},
   "outputs": [
    {
     "data": {
      "text/plain": [
       "index          0\n",
       "Age            0\n",
       "Sex            0\n",
       "BP             0\n",
       "Cholesterol    0\n",
       "Na_to_K        0\n",
       "Drug           0\n",
       "dtype: int64"
      ]
     },
     "execution_count": 19,
     "metadata": {},
     "output_type": "execute_result"
    }
   ],
   "source": [
    "data.isna().sum()"
   ]
  },
  {
   "cell_type": "markdown",
   "id": "16283881",
   "metadata": {},
   "source": [
    "### 2. Isolation Forest\n",
    "Dos de las principales implementaciones de Isolation Forest están disponibles en Scikit Learn. Si bien las dos están muy optimizadas, existen pequeñas diferencias a la hora de utilizarlas.\n",
    "\n",
    "En la implementación de Scikit Learn, al entrenar el modelo, se tiene que especificar el porcentaje de anomalías que se espera en los datos de entrenamiento (contamination). Con este valor, el modelo aprende el valor a partir del cual una observación se considera anomalía. Al aplicar el método predict() se obtiene -1 si es anomalía (outlier) o 1 si es un dato normal (inliers). Para recuperar la métrica de anomalía en lugar de la clasificación, hay que emplear el método score_samples(). Este último devuelve el valor negativo de la distancia de aislamiento, normalizada tal como se propone en el paper original."
   ]
  },
  {
   "cell_type": "code",
   "execution_count": 20,
   "id": "4e331fff",
   "metadata": {},
   "outputs": [
    {
     "data": {
      "text/html": [
       "<div>\n",
       "<style scoped>\n",
       "    .dataframe tbody tr th:only-of-type {\n",
       "        vertical-align: middle;\n",
       "    }\n",
       "\n",
       "    .dataframe tbody tr th {\n",
       "        vertical-align: top;\n",
       "    }\n",
       "\n",
       "    .dataframe thead th {\n",
       "        text-align: right;\n",
       "    }\n",
       "</style>\n",
       "<table border=\"1\" class=\"dataframe\">\n",
       "  <thead>\n",
       "    <tr style=\"text-align: right;\">\n",
       "      <th></th>\n",
       "      <th>index</th>\n",
       "      <th>Age</th>\n",
       "      <th>Na_to_K</th>\n",
       "      <th>Sex_F</th>\n",
       "      <th>Sex_M</th>\n",
       "      <th>BP_HIGH</th>\n",
       "      <th>BP_LOW</th>\n",
       "      <th>BP_NORMAL</th>\n",
       "      <th>Cholesterol_HIGH</th>\n",
       "      <th>Cholesterol_NORMAL</th>\n",
       "      <th>Drug_drugA</th>\n",
       "      <th>Drug_drugB</th>\n",
       "      <th>Drug_drugC</th>\n",
       "      <th>Drug_drugX</th>\n",
       "      <th>Drug_drugY</th>\n",
       "    </tr>\n",
       "  </thead>\n",
       "  <tbody>\n",
       "    <tr>\n",
       "      <th>0</th>\n",
       "      <td>0</td>\n",
       "      <td>23</td>\n",
       "      <td>25.355000</td>\n",
       "      <td>1</td>\n",
       "      <td>0</td>\n",
       "      <td>1</td>\n",
       "      <td>0</td>\n",
       "      <td>0</td>\n",
       "      <td>1</td>\n",
       "      <td>0</td>\n",
       "      <td>0</td>\n",
       "      <td>0</td>\n",
       "      <td>0</td>\n",
       "      <td>0</td>\n",
       "      <td>1</td>\n",
       "    </tr>\n",
       "    <tr>\n",
       "      <th>1</th>\n",
       "      <td>1</td>\n",
       "      <td>47</td>\n",
       "      <td>13.093000</td>\n",
       "      <td>0</td>\n",
       "      <td>1</td>\n",
       "      <td>0</td>\n",
       "      <td>1</td>\n",
       "      <td>0</td>\n",
       "      <td>1</td>\n",
       "      <td>0</td>\n",
       "      <td>0</td>\n",
       "      <td>0</td>\n",
       "      <td>1</td>\n",
       "      <td>0</td>\n",
       "      <td>0</td>\n",
       "    </tr>\n",
       "    <tr>\n",
       "      <th>2</th>\n",
       "      <td>2</td>\n",
       "      <td>47</td>\n",
       "      <td>10.114000</td>\n",
       "      <td>0</td>\n",
       "      <td>1</td>\n",
       "      <td>0</td>\n",
       "      <td>1</td>\n",
       "      <td>0</td>\n",
       "      <td>1</td>\n",
       "      <td>0</td>\n",
       "      <td>0</td>\n",
       "      <td>0</td>\n",
       "      <td>1</td>\n",
       "      <td>0</td>\n",
       "      <td>0</td>\n",
       "    </tr>\n",
       "    <tr>\n",
       "      <th>3</th>\n",
       "      <td>3</td>\n",
       "      <td>28</td>\n",
       "      <td>7.798000</td>\n",
       "      <td>1</td>\n",
       "      <td>0</td>\n",
       "      <td>0</td>\n",
       "      <td>0</td>\n",
       "      <td>1</td>\n",
       "      <td>1</td>\n",
       "      <td>0</td>\n",
       "      <td>0</td>\n",
       "      <td>0</td>\n",
       "      <td>0</td>\n",
       "      <td>1</td>\n",
       "      <td>0</td>\n",
       "    </tr>\n",
       "    <tr>\n",
       "      <th>4</th>\n",
       "      <td>4</td>\n",
       "      <td>61</td>\n",
       "      <td>18.043000</td>\n",
       "      <td>1</td>\n",
       "      <td>0</td>\n",
       "      <td>0</td>\n",
       "      <td>1</td>\n",
       "      <td>0</td>\n",
       "      <td>1</td>\n",
       "      <td>0</td>\n",
       "      <td>0</td>\n",
       "      <td>0</td>\n",
       "      <td>0</td>\n",
       "      <td>0</td>\n",
       "      <td>1</td>\n",
       "    </tr>\n",
       "    <tr>\n",
       "      <th>...</th>\n",
       "      <td>...</td>\n",
       "      <td>...</td>\n",
       "      <td>...</td>\n",
       "      <td>...</td>\n",
       "      <td>...</td>\n",
       "      <td>...</td>\n",
       "      <td>...</td>\n",
       "      <td>...</td>\n",
       "      <td>...</td>\n",
       "      <td>...</td>\n",
       "      <td>...</td>\n",
       "      <td>...</td>\n",
       "      <td>...</td>\n",
       "      <td>...</td>\n",
       "      <td>...</td>\n",
       "    </tr>\n",
       "    <tr>\n",
       "      <th>2194</th>\n",
       "      <td>1994</td>\n",
       "      <td>27</td>\n",
       "      <td>29.003915</td>\n",
       "      <td>1</td>\n",
       "      <td>0</td>\n",
       "      <td>0</td>\n",
       "      <td>0</td>\n",
       "      <td>1</td>\n",
       "      <td>0</td>\n",
       "      <td>1</td>\n",
       "      <td>1</td>\n",
       "      <td>0</td>\n",
       "      <td>0</td>\n",
       "      <td>0</td>\n",
       "      <td>0</td>\n",
       "    </tr>\n",
       "    <tr>\n",
       "      <th>2195</th>\n",
       "      <td>1995</td>\n",
       "      <td>23</td>\n",
       "      <td>15.489916</td>\n",
       "      <td>1</td>\n",
       "      <td>0</td>\n",
       "      <td>0</td>\n",
       "      <td>0</td>\n",
       "      <td>1</td>\n",
       "      <td>0</td>\n",
       "      <td>1</td>\n",
       "      <td>1</td>\n",
       "      <td>0</td>\n",
       "      <td>0</td>\n",
       "      <td>0</td>\n",
       "      <td>0</td>\n",
       "    </tr>\n",
       "    <tr>\n",
       "      <th>2196</th>\n",
       "      <td>1996</td>\n",
       "      <td>47</td>\n",
       "      <td>15.489916</td>\n",
       "      <td>1</td>\n",
       "      <td>0</td>\n",
       "      <td>0</td>\n",
       "      <td>1</td>\n",
       "      <td>0</td>\n",
       "      <td>0</td>\n",
       "      <td>1</td>\n",
       "      <td>0</td>\n",
       "      <td>0</td>\n",
       "      <td>0</td>\n",
       "      <td>1</td>\n",
       "      <td>0</td>\n",
       "    </tr>\n",
       "    <tr>\n",
       "      <th>2197</th>\n",
       "      <td>1997</td>\n",
       "      <td>18</td>\n",
       "      <td>1.903333</td>\n",
       "      <td>1</td>\n",
       "      <td>0</td>\n",
       "      <td>0</td>\n",
       "      <td>0</td>\n",
       "      <td>1</td>\n",
       "      <td>0</td>\n",
       "      <td>1</td>\n",
       "      <td>0</td>\n",
       "      <td>0</td>\n",
       "      <td>0</td>\n",
       "      <td>0</td>\n",
       "      <td>1</td>\n",
       "    </tr>\n",
       "    <tr>\n",
       "      <th>2198</th>\n",
       "      <td>1998</td>\n",
       "      <td>69</td>\n",
       "      <td>15.489916</td>\n",
       "      <td>0</td>\n",
       "      <td>1</td>\n",
       "      <td>0</td>\n",
       "      <td>1</td>\n",
       "      <td>0</td>\n",
       "      <td>1</td>\n",
       "      <td>0</td>\n",
       "      <td>0</td>\n",
       "      <td>1</td>\n",
       "      <td>0</td>\n",
       "      <td>0</td>\n",
       "      <td>0</td>\n",
       "    </tr>\n",
       "  </tbody>\n",
       "</table>\n",
       "<p>2199 rows × 15 columns</p>\n",
       "</div>"
      ],
      "text/plain": [
       "      index  Age    Na_to_K  Sex_F  Sex_M  BP_HIGH  BP_LOW  BP_NORMAL  \\\n",
       "0         0   23  25.355000      1      0        1       0          0   \n",
       "1         1   47  13.093000      0      1        0       1          0   \n",
       "2         2   47  10.114000      0      1        0       1          0   \n",
       "3         3   28   7.798000      1      0        0       0          1   \n",
       "4         4   61  18.043000      1      0        0       1          0   \n",
       "...     ...  ...        ...    ...    ...      ...     ...        ...   \n",
       "2194   1994   27  29.003915      1      0        0       0          1   \n",
       "2195   1995   23  15.489916      1      0        0       0          1   \n",
       "2196   1996   47  15.489916      1      0        0       1          0   \n",
       "2197   1997   18   1.903333      1      0        0       0          1   \n",
       "2198   1998   69  15.489916      0      1        0       1          0   \n",
       "\n",
       "      Cholesterol_HIGH  Cholesterol_NORMAL  Drug_drugA  Drug_drugB  \\\n",
       "0                    1                   0           0           0   \n",
       "1                    1                   0           0           0   \n",
       "2                    1                   0           0           0   \n",
       "3                    1                   0           0           0   \n",
       "4                    1                   0           0           0   \n",
       "...                ...                 ...         ...         ...   \n",
       "2194                 0                   1           1           0   \n",
       "2195                 0                   1           1           0   \n",
       "2196                 0                   1           0           0   \n",
       "2197                 0                   1           0           0   \n",
       "2198                 1                   0           0           1   \n",
       "\n",
       "      Drug_drugC  Drug_drugX  Drug_drugY  \n",
       "0              0           0           1  \n",
       "1              1           0           0  \n",
       "2              1           0           0  \n",
       "3              0           1           0  \n",
       "4              0           0           1  \n",
       "...          ...         ...         ...  \n",
       "2194           0           0           0  \n",
       "2195           0           0           0  \n",
       "2196           0           1           0  \n",
       "2197           0           0           1  \n",
       "2198           0           0           0  \n",
       "\n",
       "[2199 rows x 15 columns]"
      ]
     },
     "execution_count": 20,
     "metadata": {},
     "output_type": "execute_result"
    }
   ],
   "source": [
    "#Preparación de los datos\n",
    "data_X = pd.get_dummies(pd.DataFrame(data))\n",
    "data_X"
   ]
  },
  {
   "cell_type": "code",
   "execution_count": 21,
   "id": "1879b5ca",
   "metadata": {},
   "outputs": [],
   "source": [
    "# Definición y entrenamiento del modelo IsolationForest\n",
    "modelo_isof = IsolationForest(\n",
    "                n_estimators  = 1000,\n",
    "                max_samples   ='auto',\n",
    "                contamination = 0.01,\n",
    "                n_jobs        = -1,\n",
    "                random_state  = 123,\n",
    "            )"
   ]
  },
  {
   "cell_type": "code",
   "execution_count": 22,
   "id": "d66ab34f",
   "metadata": {},
   "outputs": [
    {
     "data": {
      "text/plain": [
       "IsolationForest(contamination=0.01, n_estimators=1000, n_jobs=-1,\n",
       "                random_state=123)"
      ]
     },
     "execution_count": 22,
     "metadata": {},
     "output_type": "execute_result"
    }
   ],
   "source": [
    "modelo_isof.fit(X=data_X)"
   ]
  },
  {
   "cell_type": "code",
   "execution_count": 23,
   "id": "41a69dff",
   "metadata": {
    "scrolled": true
   },
   "outputs": [
    {
     "data": {
      "text/plain": [
       "array([ 1, -1,  1,  1,  1,  1,  1, -1,  1,  1])"
      ]
     },
     "execution_count": 23,
     "metadata": {},
     "output_type": "execute_result"
    }
   ],
   "source": [
    "# Predicción clasificación\n",
    "clasificacion_predicha = modelo_isof.predict(X=data_X)\n",
    "clasificacion_predicha[0:10]"
   ]
  },
  {
   "cell_type": "markdown",
   "id": "dc25545b",
   "metadata": {},
   "source": [
    "Con el método score_samples(), en lugar de la clasificación, se obtiene el valor de anomalía predicho por el modelo. Es importante destacar que este valor no es la distancia de aislamiento promedio, sino una normalización de la misma propuesta en el paper original.\n",
    "\n",
    "Como resultado de la normalización, y de multiplicarla por -1, los valores de anomalía quedan acotados en el rango [-1, 0]. Cuanto más próximo a -1 es el valor, mayor evidencia de anomalía. Valores entre -0.5 y 0 son los esperados para observaciones normales."
   ]
  },
  {
   "cell_type": "code",
   "execution_count": 24,
   "id": "4702820b",
   "metadata": {},
   "outputs": [
    {
     "data": {
      "text/plain": [
       "array([-0.55156609, -0.60183964, -0.60138435, -0.54049003, -0.54049278,\n",
       "       -0.54424355, -0.5329162 , -0.60365861, -0.54355935, -0.53686363])"
      ]
     },
     "execution_count": 24,
     "metadata": {},
     "output_type": "execute_result"
    }
   ],
   "source": [
    "# Predicción valor anomalía\n",
    "score_anomalia = modelo_isof.score_samples(X=data_X)\n",
    "score_anomalia[0:10]"
   ]
  },
  {
   "cell_type": "code",
   "execution_count": 38,
   "id": "314f13c2",
   "metadata": {
    "scrolled": false
   },
   "outputs": [
    {
     "data": {
      "image/png": "[encoded data removed]",
      "text/plain": [
       "<Figure size 504x252 with 1 Axes>"
      ]
     },
     "metadata": {
      "needs_background": "light"
     },
     "output_type": "display_data"
    }
   ],
   "source": [
    "#Gráfico\n",
    "# Distribución de los valores de anomalía\n",
    "# ==============================================================================\n",
    "fig, ax = plt.subplots(nrows=1, ncols=1, figsize=(7, 3.5))\n",
    "sns.histplot(\n",
    "    score_anomalia,\n",
    "    #hist    = False,\n",
    "    #rug     = True,\n",
    "    color   = 'blue',\n",
    "    #kde_kws = {'shade': True, 'linewidth': 1},\n",
    "    #ax      = ax,\n",
    "    kde=True,\n",
    "    stat=\"density\",\n",
    "    linewidth=0\n",
    ")\n",
    "\n",
    "# ax.axvline(cuantil_01, c='red', linestyle='--', label='cuantil 0.01')\n",
    "ax.set_title('Distribución de los valores de anomalía')\n",
    "ax.set_xlabel('Score de anomalía');"
   ]
  },
  {
   "cell_type": "markdown",
   "id": "667befd6",
   "metadata": {},
   "source": [
    "# 3. Test chi cuadrado\n",
    "La prueba de chi-cuadrado es un método de prueba de hipótesis ampliamente utilizado para contar datos. Pertenece a la categoría de pruebas no paramétricas y compara principalmente dos o más frecuencias de muestreo (proporciones de composición) y el análisis de correlación de dos variables categóricas. La idea básica es comparar el grado de ajuste o la bondad del ajuste entre la frecuencia teórica y la frecuencia real.\n",
    "\n",
    "La idea básica de la prueba de chi-cuadrado:\n",
    "\n",
    "La prueba de chi-cuadrado es $\\chi^2$ Un método de prueba de hipótesis común basado en la distribución.\n",
    "Su hipótesis básica H0 es: no hay diferencia entre la frecuencia observada y la frecuencia esperada.\n",
    "\n",
    "La idea básica de la prueba es: primero suponga que H0 se cumple y calcule según esta premisa $\\chi^2$ Valor, que indica el grado de desviación entre el valor observado y el valor teórico. De acuerdo a $\\chi^2$ La distribución y los grados de libertad determinan la probabilidad P de que se obtengan las estadísticas actuales y los casos más extremos cuando se cumple la hipótesis H0. Si el valor P es pequeño, indica que el valor observado se desvía demasiado del valor teórico, y la hipótesis nula debe rechazarse, lo que indica que existe una diferencia significativa entre los datos de comparación; de lo contrario, la hipótesis no válida no puede rechazarse, y la situación real y los supuestos teóricos representados por la muestra no pueden considerarse Hay diferencias\n",
    "\n",
    "#### 3.1 Ejercicio con los datos\n",
    "\n",
    "$H_0:$ No existe relación sobre las variables categóricas en la población\n",
    "\n",
    "$H_1:$ **Existe** relación sobre las variables categóricas en la población\n"
   ]
  },
  {
   "cell_type": "code",
   "execution_count": 39,
   "id": "3f8b972d",
   "metadata": {},
   "outputs": [
    {
     "data": {
      "text/html": [
       "<div>\n",
       "<style scoped>\n",
       "    .dataframe tbody tr th:only-of-type {\n",
       "        vertical-align: middle;\n",
       "    }\n",
       "\n",
       "    .dataframe tbody tr th {\n",
       "        vertical-align: top;\n",
       "    }\n",
       "\n",
       "    .dataframe thead th {\n",
       "        text-align: right;\n",
       "    }\n",
       "</style>\n",
       "<table border=\"1\" class=\"dataframe\">\n",
       "  <thead>\n",
       "    <tr style=\"text-align: right;\">\n",
       "      <th>BP</th>\n",
       "      <th>HIGH</th>\n",
       "      <th>LOW</th>\n",
       "      <th>NORMAL</th>\n",
       "    </tr>\n",
       "    <tr>\n",
       "      <th>Drug</th>\n",
       "      <th></th>\n",
       "      <th></th>\n",
       "      <th></th>\n",
       "    </tr>\n",
       "  </thead>\n",
       "  <tbody>\n",
       "    <tr>\n",
       "      <th>drugA</th>\n",
       "      <td>212</td>\n",
       "      <td>168</td>\n",
       "      <td>163</td>\n",
       "    </tr>\n",
       "    <tr>\n",
       "      <th>drugB</th>\n",
       "      <td>175</td>\n",
       "      <td>167</td>\n",
       "      <td>143</td>\n",
       "    </tr>\n",
       "    <tr>\n",
       "      <th>drugC</th>\n",
       "      <td>0</td>\n",
       "      <td>16</td>\n",
       "      <td>0</td>\n",
       "    </tr>\n",
       "    <tr>\n",
       "      <th>drugX</th>\n",
       "      <td>175</td>\n",
       "      <td>172</td>\n",
       "      <td>220</td>\n",
       "    </tr>\n",
       "    <tr>\n",
       "      <th>drugY</th>\n",
       "      <td>202</td>\n",
       "      <td>191</td>\n",
       "      <td>195</td>\n",
       "    </tr>\n",
       "  </tbody>\n",
       "</table>\n",
       "</div>"
      ],
      "text/plain": [
       "BP     HIGH  LOW  NORMAL\n",
       "Drug                    \n",
       "drugA   212  168     163\n",
       "drugB   175  167     143\n",
       "drugC     0   16       0\n",
       "drugX   175  172     220\n",
       "drugY   202  191     195"
      ]
     },
     "execution_count": 39,
     "metadata": {},
     "output_type": "execute_result"
    }
   ],
   "source": [
    "#Incluir crosstab\n",
    "data_grupos=pd.crosstab(data['Drug'], data['BP'])\n",
    "data_grupos"
   ]
  },
  {
   "cell_type": "code",
   "execution_count": 40,
   "id": "ab142a2f",
   "metadata": {},
   "outputs": [
    {
     "data": {
      "text/plain": [
       "(49.82247871504187,\n",
       " 4.420643249168316e-08,\n",
       " 8,\n",
       " array([[188.65484311, 176.30832196, 178.03683492],\n",
       "        [168.50386539, 157.47612551, 159.0200091 ],\n",
       "        [  5.5588904 ,   5.19508868,   5.24602092],\n",
       "        [196.99317872, 184.10095498, 185.9058663 ],\n",
       "        [204.28922237, 190.91950887, 192.79126876]]))"
      ]
     },
     "execution_count": 40,
     "metadata": {},
     "output_type": "execute_result"
    }
   ],
   "source": [
    "#Prueba Chi\n",
    "kf = chi2_contingency(data_grupos)\n",
    "kf"
   ]
  },
  {
   "cell_type": "code",
   "execution_count": 41,
   "id": "72a7674f",
   "metadata": {},
   "outputs": [
    {
     "name": "stdout",
     "output_type": "stream",
     "text": [
      "chisq-statistic=49.8225, p-value=0.0000, df=8 expected_frep=[[188.65484311 176.30832196 178.03683492]\n",
      " [168.50386539 157.47612551 159.0200091 ]\n",
      " [  5.5588904    5.19508868   5.24602092]\n",
      " [196.99317872 184.10095498 185.9058663 ]\n",
      " [204.28922237 190.91950887 192.79126876]]\n"
     ]
    }
   ],
   "source": [
    "print('chisq-statistic=%.4f, p-value=%.4f, df=%i expected_frep=%s'%kf)"
   ]
  },
  {
   "cell_type": "markdown",
   "id": "4fffe4e8",
   "metadata": {},
   "source": [
    "Conclusión: Debido a que el valor p > 0.05, aceptamos la hipótesis nula y creemos que no hay una diferencia significativa en los grupos"
   ]
  },
  {
   "cell_type": "markdown",
   "id": "af2b893b",
   "metadata": {},
   "source": [
    "### 4. Árbol de decisión\n",
    "Es uno de los algoritmos más potentes y populares. El algoritmo de árbol de decisiones se incluye en la categoría de algoritmos de aprendizaje supervisado. Funciona tanto para variables de salida continuas como categóricas.\n",
    "\n",
    "#### Gini\n",
    "El índice de Gini es una métrica para medir la frecuencia con la que un elemento elegido al azar se identificaría incorrectamente.\n",
    "Significa que se debe preferir un atributo con un índice de gini más bajo.\n",
    "Sklearn admite los criterios \"gini\" para el índice Gini y, de forma predeterminada, toma el valor \"gini\".\n",
    "\n",
    "#### Entropía\n",
    "La entropía es la medida de la incertidumbre de una variable aleatoria, caracteriza la impureza de una colección arbitraria de ejemplos. Cuanto mayor sea la entropía, mayor será el contenido de información.\n",
    "Ganancia de información\n",
    "La entropía generalmente cambia cuando usamos un nodo en un árbol de decisión para dividir las instancias de entrenamiento en subconjuntos más pequeños. La ganancia de información es una medida de este cambio en la entropía.\n",
    "Sklearn admite criterios de \"entropía\" para la ganancia de información y si queremos utilizar el método de ganancia de información en sklearn, debemos mencionarlo explícitamente.\n",
    "\n",
    "#### Métricas\n",
    "La puntuación de precisión(accuracy) se utiliza para calcular la precisión del clasificador entrenado.\n",
    "Matriz de confusión\n",
    "\n",
    "Matriz de confusión se utiliza para comprender el comportamiento del clasificador entrenado sobre el conjunto de datos de prueba o validar el conjunto de datos.\n"
   ]
  },
  {
   "cell_type": "code",
   "execution_count": 42,
   "id": "f9e4c24a",
   "metadata": {},
   "outputs": [],
   "source": [
    "#Separamos los datos en predictoras y predichas\n",
    "X = pd.get_dummies(data[['Age', 'Sex', 'Drug']].drop('Drug',axis=1))\n",
    "Y = data['Drug']"
   ]
  },
  {
   "cell_type": "code",
   "execution_count": 43,
   "id": "e692e638",
   "metadata": {},
   "outputs": [],
   "source": [
    "# Realizamos la base de prueba\n",
    "X_train, X_test, y_train, y_test = train_test_split( \n",
    "          X, Y, test_size = 0.3, random_state = 100)"
   ]
  },
  {
   "cell_type": "code",
   "execution_count": 44,
   "id": "c5f4ecc7",
   "metadata": {},
   "outputs": [
    {
     "data": {
      "text/plain": [
       "DecisionTreeClassifier(max_depth=3, min_samples_leaf=5, random_state=100)"
      ]
     },
     "execution_count": 44,
     "metadata": {},
     "output_type": "execute_result"
    }
   ],
   "source": [
    "# Creamos el árbol de decisión con el criterio gini\n",
    "clf_gini = DecisionTreeClassifier(criterion = \"gini\",\n",
    "            random_state = 100,max_depth=3, min_samples_leaf=5)\n",
    "clf_gini"
   ]
  },
  {
   "cell_type": "code",
   "execution_count": 45,
   "id": "3e4ad0f5",
   "metadata": {},
   "outputs": [],
   "source": [
    "# Creamos el árbol de decisión con el criterio de entropía\n",
    "clf_entropy = DecisionTreeClassifier(\n",
    "            criterion = \"entropy\", random_state = 100,\n",
    "            max_depth = 3, min_samples_leaf = 5)"
   ]
  },
  {
   "cell_type": "code",
   "execution_count": 46,
   "id": "510705a8",
   "metadata": {},
   "outputs": [
    {
     "data": {
      "text/plain": [
       "DecisionTreeClassifier(criterion='entropy', max_depth=3, min_samples_leaf=5,\n",
       "                       random_state=100)"
      ]
     },
     "execution_count": 46,
     "metadata": {},
     "output_type": "execute_result"
    }
   ],
   "source": [
    "# Ajustamos los modelos\n",
    "clf_gini.fit(X_train, y_train)\n",
    "clf_entropy.fit(X_train, y_train)"
   ]
  },
  {
   "cell_type": "code",
   "execution_count": 47,
   "id": "628b20e7",
   "metadata": {},
   "outputs": [],
   "source": [
    "# Realizamos una función para la predicción\n",
    "def pred(X_test, clf):\n",
    "  \n",
    "    # Predicton on test with giniIndex\n",
    "    y_pred = clf.predict(X_test)\n",
    "    print(\"Predicted values:\")\n",
    "    print(y_pred)\n",
    "    return y_pred"
   ]
  },
  {
   "cell_type": "code",
   "execution_count": 49,
   "id": "2dd7b9c6",
   "metadata": {
    "scrolled": true
   },
   "outputs": [
    {
     "name": "stdout",
     "output_type": "stream",
     "text": [
      "Predicted values:\n",
      "['drugY' 'drugY' 'drugY' 'drugA' 'drugY' 'drugA' 'drugA' 'drugA' 'drugY'\n",
      " 'drugY' 'drugY' 'drugY' 'drugY' 'drugY' 'drugY' 'drugA' 'drugA' 'drugY'\n",
      " 'drugA' 'drugA' 'drugY' 'drugY' 'drugX' 'drugA' 'drugA' 'drugY' 'drugY'\n",
      " 'drugY' 'drugA' 'drugY' 'drugY' 'drugY' 'drugA' 'drugY' 'drugY' 'drugA'\n",
      " 'drugY' 'drugY' 'drugA' 'drugY' 'drugA' 'drugA' 'drugY' 'drugY' 'drugY'\n",
      " 'drugY' 'drugY' 'drugX' 'drugY' 'drugY' 'drugY' 'drugY' 'drugA' 'drugY'\n",
      " 'drugY' 'drugY' 'drugY' 'drugA' 'drugY' 'drugY' 'drugY' 'drugY' 'drugY'\n",
      " 'drugY' 'drugY' 'drugY' 'drugY' 'drugA' 'drugY' 'drugY' 'drugA' 'drugY'\n",
      " 'drugY' 'drugX' 'drugY' 'drugY' 'drugY' 'drugA' 'drugY' 'drugY' 'drugY'\n",
      " 'drugY' 'drugY' 'drugY' 'drugA' 'drugY' 'drugA' 'drugY' 'drugY' 'drugY'\n",
      " 'drugY' 'drugA' 'drugY' 'drugY' 'drugY' 'drugA' 'drugY' 'drugY' 'drugY'\n",
      " 'drugA' 'drugY' 'drugA' 'drugY' 'drugY' 'drugA' 'drugX' 'drugY' 'drugY'\n",
      " 'drugY' 'drugY' 'drugY' 'drugY' 'drugY' 'drugY' 'drugA' 'drugY' 'drugA'\n",
      " 'drugY' 'drugY' 'drugY' 'drugY' 'drugA' 'drugY' 'drugY' 'drugY' 'drugY'\n",
      " 'drugY' 'drugY' 'drugX' 'drugY' 'drugY' 'drugY' 'drugY' 'drugA' 'drugY'\n",
      " 'drugA' 'drugY' 'drugY' 'drugA' 'drugY' 'drugY' 'drugA' 'drugA' 'drugA'\n",
      " 'drugY' 'drugA' 'drugA' 'drugY' 'drugY' 'drugY' 'drugY' 'drugY' 'drugY'\n",
      " 'drugY' 'drugY' 'drugY' 'drugY' 'drugY' 'drugY' 'drugY' 'drugA' 'drugX'\n",
      " 'drugA' 'drugA' 'drugY' 'drugA' 'drugY' 'drugY' 'drugY' 'drugA' 'drugY'\n",
      " 'drugY' 'drugY' 'drugA' 'drugY' 'drugA' 'drugX' 'drugY' 'drugY' 'drugX'\n",
      " 'drugA' 'drugY' 'drugA' 'drugY' 'drugY' 'drugY' 'drugY' 'drugY' 'drugY'\n",
      " 'drugY' 'drugY' 'drugY' 'drugY' 'drugY' 'drugA' 'drugY' 'drugY' 'drugA'\n",
      " 'drugX' 'drugY' 'drugY' 'drugA' 'drugY' 'drugY' 'drugY' 'drugY' 'drugA'\n",
      " 'drugA' 'drugY' 'drugY' 'drugY' 'drugY' 'drugY' 'drugY' 'drugA' 'drugY'\n",
      " 'drugY' 'drugY' 'drugY' 'drugY' 'drugY' 'drugX' 'drugY' 'drugY' 'drugY'\n",
      " 'drugY' 'drugY' 'drugY' 'drugY' 'drugY' 'drugY' 'drugY' 'drugY' 'drugY'\n",
      " 'drugY' 'drugA' 'drugY' 'drugY' 'drugY' 'drugY' 'drugY' 'drugY' 'drugY'\n",
      " 'drugY' 'drugY' 'drugY' 'drugY' 'drugY' 'drugA' 'drugY' 'drugA' 'drugY'\n",
      " 'drugY' 'drugY' 'drugY' 'drugY' 'drugY' 'drugX' 'drugY' 'drugY' 'drugY'\n",
      " 'drugY' 'drugX' 'drugY' 'drugX' 'drugY' 'drugA' 'drugY' 'drugA' 'drugY'\n",
      " 'drugX' 'drugY' 'drugY' 'drugY' 'drugY' 'drugY' 'drugY' 'drugA' 'drugY'\n",
      " 'drugY' 'drugY' 'drugY' 'drugX' 'drugY' 'drugY' 'drugY' 'drugA' 'drugY'\n",
      " 'drugA' 'drugY' 'drugY' 'drugY' 'drugY' 'drugY' 'drugX' 'drugY' 'drugY'\n",
      " 'drugY' 'drugY' 'drugA' 'drugY' 'drugY' 'drugY' 'drugA' 'drugY' 'drugY'\n",
      " 'drugX' 'drugY' 'drugY' 'drugY' 'drugY' 'drugY' 'drugY' 'drugY' 'drugY'\n",
      " 'drugY' 'drugA' 'drugA' 'drugA' 'drugA' 'drugA' 'drugY' 'drugY' 'drugY'\n",
      " 'drugY' 'drugY' 'drugY' 'drugY' 'drugY' 'drugY' 'drugY' 'drugA' 'drugY'\n",
      " 'drugY' 'drugA' 'drugA' 'drugA' 'drugY' 'drugY' 'drugY' 'drugA' 'drugY'\n",
      " 'drugY' 'drugY' 'drugY' 'drugY' 'drugY' 'drugY' 'drugY' 'drugA' 'drugY'\n",
      " 'drugX' 'drugY' 'drugA' 'drugY' 'drugY' 'drugY' 'drugY' 'drugY' 'drugY'\n",
      " 'drugY' 'drugY' 'drugY' 'drugY' 'drugY' 'drugY' 'drugY' 'drugY' 'drugA'\n",
      " 'drugY' 'drugY' 'drugA' 'drugX' 'drugY' 'drugY' 'drugY' 'drugY' 'drugY'\n",
      " 'drugY' 'drugY' 'drugY' 'drugA' 'drugA' 'drugA' 'drugY' 'drugY' 'drugY'\n",
      " 'drugY' 'drugY' 'drugA' 'drugA' 'drugY' 'drugA' 'drugY' 'drugY' 'drugY'\n",
      " 'drugY' 'drugY' 'drugY' 'drugY' 'drugY' 'drugY' 'drugY' 'drugY' 'drugY'\n",
      " 'drugY' 'drugY' 'drugY' 'drugX' 'drugA' 'drugY' 'drugY' 'drugY' 'drugA'\n",
      " 'drugY' 'drugY' 'drugY' 'drugA' 'drugY' 'drugY' 'drugX' 'drugY' 'drugY'\n",
      " 'drugY' 'drugA' 'drugY' 'drugY' 'drugA' 'drugY' 'drugY' 'drugY' 'drugA'\n",
      " 'drugA' 'drugY' 'drugY' 'drugY' 'drugY' 'drugY' 'drugY' 'drugY' 'drugY'\n",
      " 'drugX' 'drugY' 'drugY' 'drugA' 'drugX' 'drugA' 'drugA' 'drugA' 'drugY'\n",
      " 'drugA' 'drugY' 'drugY' 'drugY' 'drugA' 'drugY' 'drugY' 'drugY' 'drugY'\n",
      " 'drugA' 'drugA' 'drugA' 'drugY' 'drugY' 'drugY' 'drugX' 'drugY' 'drugY'\n",
      " 'drugY' 'drugA' 'drugY' 'drugY' 'drugY' 'drugX' 'drugX' 'drugY' 'drugY'\n",
      " 'drugY' 'drugY' 'drugY' 'drugY' 'drugY' 'drugY' 'drugY' 'drugY' 'drugY'\n",
      " 'drugY' 'drugY' 'drugA' 'drugA' 'drugX' 'drugY' 'drugY' 'drugY' 'drugX'\n",
      " 'drugX' 'drugY' 'drugY' 'drugY' 'drugA' 'drugY' 'drugA' 'drugA' 'drugY'\n",
      " 'drugY' 'drugY' 'drugY' 'drugY' 'drugY' 'drugY' 'drugX' 'drugA' 'drugY'\n",
      " 'drugY' 'drugY' 'drugY' 'drugY' 'drugA' 'drugY' 'drugY' 'drugY' 'drugA'\n",
      " 'drugA' 'drugY' 'drugY' 'drugY' 'drugA' 'drugY' 'drugX' 'drugY' 'drugY'\n",
      " 'drugY' 'drugA' 'drugY' 'drugY' 'drugY' 'drugY' 'drugA' 'drugY' 'drugA'\n",
      " 'drugA' 'drugY' 'drugY' 'drugY' 'drugX' 'drugY' 'drugY' 'drugY' 'drugA'\n",
      " 'drugA' 'drugX' 'drugY' 'drugY' 'drugY' 'drugY' 'drugY' 'drugY' 'drugY'\n",
      " 'drugY' 'drugY' 'drugY' 'drugY' 'drugY' 'drugY' 'drugY' 'drugY' 'drugY'\n",
      " 'drugY' 'drugY' 'drugY' 'drugA' 'drugY' 'drugY' 'drugA' 'drugA' 'drugA'\n",
      " 'drugY' 'drugY' 'drugY' 'drugA' 'drugA' 'drugY' 'drugA' 'drugA' 'drugY'\n",
      " 'drugY' 'drugY' 'drugA' 'drugY' 'drugY' 'drugY' 'drugY' 'drugA' 'drugA'\n",
      " 'drugY' 'drugY' 'drugA' 'drugY' 'drugY' 'drugA' 'drugA' 'drugY' 'drugY'\n",
      " 'drugY' 'drugY' 'drugY' 'drugY' 'drugA' 'drugY' 'drugA' 'drugY' 'drugY'\n",
      " 'drugY' 'drugY' 'drugY' 'drugY' 'drugY' 'drugY' 'drugY' 'drugY' 'drugY'\n",
      " 'drugA' 'drugY' 'drugY' 'drugY' 'drugY' 'drugY' 'drugY' 'drugA' 'drugY'\n",
      " 'drugY' 'drugY' 'drugA' 'drugY' 'drugY' 'drugA' 'drugY' 'drugY' 'drugY'\n",
      " 'drugY' 'drugA' 'drugY' 'drugA' 'drugA' 'drugA' 'drugA' 'drugY' 'drugY'\n",
      " 'drugY' 'drugY' 'drugA' 'drugY' 'drugA' 'drugY' 'drugY' 'drugY' 'drugY'\n",
      " 'drugA' 'drugA' 'drugY']\n"
     ]
    },
    {
     "data": {
      "text/plain": [
       "array(['drugY'], dtype=object)"
      ]
     },
     "execution_count": 49,
     "metadata": {},
     "output_type": "execute_result"
    }
   ],
   "source": [
    "pred(X_test,clf_entropy)[0:1]"
   ]
  },
  {
   "cell_type": "code",
   "execution_count": 57,
   "id": "5d95ed01",
   "metadata": {},
   "outputs": [],
   "source": [
    "# Función para calcular las métricas\n",
    "def metricas(y_test, y_pred):\n",
    "    print(\"Matriz de confusión: \",\n",
    "        confusion_matrix(y_test, y_pred))\n",
    "      \n",
    "    print (\"Precisión : \",\n",
    "    accuracy_score(y_test,y_pred)*100)\n",
    "      \n",
    "    print(\"Reporte : \",\n",
    "    classification_report(y_test, y_pred, zero_division = 0))"
   ]
  },
  {
   "cell_type": "code",
   "execution_count": 58,
   "id": "5dc4270e",
   "metadata": {
    "scrolled": false
   },
   "outputs": [
    {
     "name": "stdout",
     "output_type": "stream",
     "text": [
      "Predicted values:\n",
      "['drugY' 'drugY' 'drugY' 'drugA' 'drugY' 'drugA' 'drugA' 'drugA' 'drugY'\n",
      " 'drugY' 'drugY' 'drugY' 'drugY' 'drugY' 'drugY' 'drugA' 'drugA' 'drugY'\n",
      " 'drugA' 'drugA' 'drugY' 'drugY' 'drugX' 'drugA' 'drugA' 'drugY' 'drugY'\n",
      " 'drugY' 'drugA' 'drugY' 'drugY' 'drugY' 'drugA' 'drugY' 'drugY' 'drugA'\n",
      " 'drugY' 'drugY' 'drugA' 'drugY' 'drugA' 'drugA' 'drugY' 'drugY' 'drugY'\n",
      " 'drugY' 'drugY' 'drugX' 'drugY' 'drugY' 'drugY' 'drugY' 'drugA' 'drugY'\n",
      " 'drugY' 'drugY' 'drugY' 'drugA' 'drugY' 'drugY' 'drugY' 'drugY' 'drugY'\n",
      " 'drugY' 'drugY' 'drugY' 'drugY' 'drugA' 'drugY' 'drugY' 'drugA' 'drugY'\n",
      " 'drugY' 'drugX' 'drugY' 'drugY' 'drugY' 'drugA' 'drugY' 'drugY' 'drugY'\n",
      " 'drugY' 'drugY' 'drugY' 'drugA' 'drugY' 'drugA' 'drugY' 'drugY' 'drugY'\n",
      " 'drugY' 'drugA' 'drugY' 'drugY' 'drugY' 'drugA' 'drugY' 'drugY' 'drugY'\n",
      " 'drugA' 'drugY' 'drugA' 'drugY' 'drugY' 'drugA' 'drugX' 'drugY' 'drugY'\n",
      " 'drugY' 'drugY' 'drugY' 'drugY' 'drugY' 'drugY' 'drugA' 'drugY' 'drugA'\n",
      " 'drugY' 'drugY' 'drugY' 'drugY' 'drugA' 'drugY' 'drugY' 'drugY' 'drugY'\n",
      " 'drugY' 'drugY' 'drugX' 'drugY' 'drugY' 'drugY' 'drugY' 'drugA' 'drugY'\n",
      " 'drugA' 'drugY' 'drugY' 'drugA' 'drugY' 'drugY' 'drugA' 'drugA' 'drugA'\n",
      " 'drugY' 'drugA' 'drugA' 'drugY' 'drugY' 'drugY' 'drugY' 'drugY' 'drugY'\n",
      " 'drugY' 'drugY' 'drugY' 'drugY' 'drugY' 'drugY' 'drugY' 'drugA' 'drugX'\n",
      " 'drugA' 'drugA' 'drugY' 'drugA' 'drugY' 'drugY' 'drugY' 'drugA' 'drugY'\n",
      " 'drugY' 'drugY' 'drugA' 'drugY' 'drugA' 'drugX' 'drugY' 'drugY' 'drugX'\n",
      " 'drugA' 'drugY' 'drugA' 'drugY' 'drugY' 'drugY' 'drugY' 'drugY' 'drugY'\n",
      " 'drugY' 'drugY' 'drugY' 'drugY' 'drugY' 'drugA' 'drugY' 'drugY' 'drugA'\n",
      " 'drugX' 'drugY' 'drugY' 'drugA' 'drugY' 'drugY' 'drugY' 'drugY' 'drugA'\n",
      " 'drugA' 'drugY' 'drugY' 'drugY' 'drugY' 'drugY' 'drugY' 'drugA' 'drugY'\n",
      " 'drugY' 'drugY' 'drugY' 'drugY' 'drugY' 'drugX' 'drugY' 'drugY' 'drugY'\n",
      " 'drugY' 'drugY' 'drugY' 'drugY' 'drugY' 'drugY' 'drugY' 'drugY' 'drugY'\n",
      " 'drugY' 'drugA' 'drugY' 'drugY' 'drugY' 'drugY' 'drugY' 'drugY' 'drugY'\n",
      " 'drugY' 'drugY' 'drugY' 'drugY' 'drugY' 'drugA' 'drugY' 'drugA' 'drugY'\n",
      " 'drugY' 'drugY' 'drugY' 'drugY' 'drugY' 'drugX' 'drugY' 'drugY' 'drugY'\n",
      " 'drugY' 'drugX' 'drugY' 'drugX' 'drugY' 'drugA' 'drugY' 'drugA' 'drugY'\n",
      " 'drugX' 'drugY' 'drugY' 'drugY' 'drugY' 'drugY' 'drugY' 'drugA' 'drugY'\n",
      " 'drugY' 'drugY' 'drugY' 'drugX' 'drugY' 'drugY' 'drugY' 'drugA' 'drugY'\n",
      " 'drugA' 'drugY' 'drugY' 'drugY' 'drugY' 'drugY' 'drugX' 'drugY' 'drugY'\n",
      " 'drugY' 'drugY' 'drugA' 'drugY' 'drugY' 'drugY' 'drugA' 'drugY' 'drugY'\n",
      " 'drugX' 'drugY' 'drugY' 'drugY' 'drugY' 'drugY' 'drugY' 'drugY' 'drugY'\n",
      " 'drugY' 'drugA' 'drugA' 'drugA' 'drugA' 'drugA' 'drugY' 'drugY' 'drugY'\n",
      " 'drugY' 'drugY' 'drugY' 'drugY' 'drugY' 'drugY' 'drugY' 'drugA' 'drugY'\n",
      " 'drugY' 'drugA' 'drugA' 'drugA' 'drugY' 'drugY' 'drugY' 'drugA' 'drugY'\n",
      " 'drugY' 'drugY' 'drugY' 'drugY' 'drugY' 'drugY' 'drugY' 'drugA' 'drugY'\n",
      " 'drugX' 'drugY' 'drugA' 'drugY' 'drugY' 'drugY' 'drugY' 'drugY' 'drugY'\n",
      " 'drugY' 'drugY' 'drugY' 'drugY' 'drugY' 'drugY' 'drugY' 'drugY' 'drugA'\n",
      " 'drugY' 'drugY' 'drugA' 'drugX' 'drugY' 'drugY' 'drugY' 'drugY' 'drugY'\n",
      " 'drugY' 'drugY' 'drugY' 'drugA' 'drugA' 'drugA' 'drugY' 'drugY' 'drugY'\n",
      " 'drugY' 'drugY' 'drugA' 'drugA' 'drugY' 'drugA' 'drugY' 'drugY' 'drugY'\n",
      " 'drugY' 'drugY' 'drugY' 'drugY' 'drugY' 'drugY' 'drugY' 'drugY' 'drugY'\n",
      " 'drugY' 'drugY' 'drugY' 'drugX' 'drugA' 'drugY' 'drugY' 'drugY' 'drugA'\n",
      " 'drugY' 'drugY' 'drugY' 'drugA' 'drugY' 'drugY' 'drugX' 'drugY' 'drugY'\n",
      " 'drugY' 'drugA' 'drugY' 'drugY' 'drugA' 'drugY' 'drugY' 'drugY' 'drugA'\n",
      " 'drugA' 'drugY' 'drugY' 'drugY' 'drugY' 'drugY' 'drugY' 'drugY' 'drugY'\n",
      " 'drugX' 'drugY' 'drugY' 'drugA' 'drugX' 'drugA' 'drugA' 'drugA' 'drugY'\n",
      " 'drugA' 'drugY' 'drugY' 'drugY' 'drugA' 'drugY' 'drugY' 'drugY' 'drugY'\n",
      " 'drugA' 'drugA' 'drugA' 'drugY' 'drugY' 'drugY' 'drugX' 'drugY' 'drugY'\n",
      " 'drugY' 'drugA' 'drugY' 'drugY' 'drugY' 'drugX' 'drugX' 'drugY' 'drugY'\n",
      " 'drugY' 'drugY' 'drugY' 'drugY' 'drugY' 'drugY' 'drugY' 'drugY' 'drugY'\n",
      " 'drugY' 'drugY' 'drugA' 'drugA' 'drugX' 'drugY' 'drugY' 'drugY' 'drugX'\n",
      " 'drugX' 'drugY' 'drugY' 'drugY' 'drugA' 'drugY' 'drugA' 'drugA' 'drugY'\n",
      " 'drugY' 'drugY' 'drugY' 'drugY' 'drugY' 'drugY' 'drugX' 'drugA' 'drugY'\n",
      " 'drugY' 'drugY' 'drugY' 'drugY' 'drugA' 'drugY' 'drugY' 'drugY' 'drugA'\n",
      " 'drugA' 'drugY' 'drugY' 'drugY' 'drugA' 'drugY' 'drugX' 'drugY' 'drugY'\n",
      " 'drugY' 'drugA' 'drugY' 'drugY' 'drugY' 'drugY' 'drugA' 'drugY' 'drugA'\n",
      " 'drugA' 'drugY' 'drugY' 'drugY' 'drugX' 'drugY' 'drugY' 'drugY' 'drugA'\n",
      " 'drugA' 'drugX' 'drugY' 'drugY' 'drugY' 'drugY' 'drugY' 'drugY' 'drugY'\n",
      " 'drugY' 'drugY' 'drugY' 'drugY' 'drugY' 'drugY' 'drugY' 'drugY' 'drugY'\n",
      " 'drugY' 'drugY' 'drugY' 'drugA' 'drugY' 'drugY' 'drugA' 'drugA' 'drugA'\n",
      " 'drugY' 'drugY' 'drugY' 'drugA' 'drugA' 'drugY' 'drugA' 'drugA' 'drugY'\n",
      " 'drugY' 'drugY' 'drugA' 'drugY' 'drugY' 'drugY' 'drugY' 'drugA' 'drugA'\n",
      " 'drugY' 'drugY' 'drugA' 'drugY' 'drugY' 'drugA' 'drugA' 'drugY' 'drugY'\n",
      " 'drugY' 'drugY' 'drugY' 'drugY' 'drugA' 'drugY' 'drugA' 'drugY' 'drugY'\n",
      " 'drugY' 'drugY' 'drugY' 'drugY' 'drugY' 'drugY' 'drugY' 'drugY' 'drugY'\n",
      " 'drugA' 'drugY' 'drugY' 'drugY' 'drugY' 'drugY' 'drugY' 'drugA' 'drugY'\n",
      " 'drugY' 'drugY' 'drugA' 'drugY' 'drugY' 'drugA' 'drugY' 'drugY' 'drugY'\n",
      " 'drugY' 'drugA' 'drugY' 'drugA' 'drugA' 'drugA' 'drugA' 'drugY' 'drugY'\n",
      " 'drugY' 'drugY' 'drugA' 'drugY' 'drugA' 'drugY' 'drugY' 'drugY' 'drugY'\n",
      " 'drugA' 'drugA' 'drugY']\n",
      "Matriz de confusión:  [[ 35   0   0  12 112]\n",
      " [ 24   0   0   7 124]\n",
      " [  0   0   0   0   3]\n",
      " [ 43   0   0   4 124]\n",
      " [ 44   0   0  10 118]]\n",
      "Precisión :  23.78787878787879\n",
      "Reporte :                precision    recall  f1-score   support\n",
      "\n",
      "       drugA       0.24      0.22      0.23       159\n",
      "       drugB       0.00      0.00      0.00       155\n",
      "       drugC       0.00      0.00      0.00         3\n",
      "       drugX       0.12      0.02      0.04       171\n",
      "       drugY       0.25      0.69      0.36       172\n",
      "\n",
      "    accuracy                           0.24       660\n",
      "   macro avg       0.12      0.19      0.13       660\n",
      "weighted avg       0.15      0.24      0.16       660\n",
      "\n"
     ]
    }
   ],
   "source": [
    "#Realizar las comparaciones\n",
    "metricas(y_test,pred(X_test,clf_entropy))"
   ]
  },
  {
   "cell_type": "code",
   "execution_count": 59,
   "id": "26a51318",
   "metadata": {},
   "outputs": [
    {
     "data": {
      "image/svg+xml": [
       "<?xml version=\"1.0\" encoding=\"UTF-8\" standalone=\"no\"?>\n",
       "<!DOCTYPE svg PUBLIC \"-//W3C//DTD SVG 1.1//EN\"\n",
       " \"http://www.w3.org/Graphics/SVG/1.1/DTD/svg11.dtd\">\n",
       "<!-- Generated by graphviz version 2.40.1 (20161225.0304)\n",
       " -->\n",
       "<!-- Title: Tree Pages: 1 -->\n",
       "<svg width=\"1398pt\" height=\"433pt\"\n",
       " viewBox=\"0.00 0.00 1398.00 433.00\" xmlns=\"http://www.w3.org/2000/svg\" xmlns:xlink=\"http://www.w3.org/1999/xlink\">\n",
       "<g id=\"graph0\" class=\"graph\" transform=\"scale(1 1) rotate(0) translate(4 429)\">\n",
       "<title>Tree</title>\n",
       "<polygon fill=\"#ffffff\" stroke=\"transparent\" points=\"-4,4 -4,-429 1394,-429 1394,4 -4,4\"/>\n",
       "<!-- 0 -->\n",
       "<g id=\"node1\" class=\"node\">\n",
       "<title>0</title>\n",
       "<polygon fill=\"#fffcfe\" stroke=\"#000000\" points=\"739,-425 544,-425 544,-342 739,-342 739,-425\"/>\n",
       "<text text-anchor=\"middle\" x=\"641.5\" y=\"-409.8\" font-family=\"Times,serif\" font-size=\"14.00\" fill=\"#000000\">Age &lt;= 22.5</text>\n",
       "<text text-anchor=\"middle\" x=\"641.5\" y=\"-394.8\" font-family=\"Times,serif\" font-size=\"14.00\" fill=\"#000000\">entropy = 2.048</text>\n",
       "<text text-anchor=\"middle\" x=\"641.5\" y=\"-379.8\" font-family=\"Times,serif\" font-size=\"14.00\" fill=\"#000000\">samples = 1539</text>\n",
       "<text text-anchor=\"middle\" x=\"641.5\" y=\"-364.8\" font-family=\"Times,serif\" font-size=\"14.00\" fill=\"#000000\">value = [384, 330, 13, 396, 416]</text>\n",
       "<text text-anchor=\"middle\" x=\"641.5\" y=\"-349.8\" font-family=\"Times,serif\" font-size=\"14.00\" fill=\"#000000\">class = drugB</text>\n",
       "</g>\n",
       "<!-- 1 -->\n",
       "<g id=\"node2\" class=\"node\">\n",
       "<title>1</title>\n",
       "<polygon fill=\"#fadcf4\" stroke=\"#000000\" points=\"565,-306 404,-306 404,-223 565,-223 565,-306\"/>\n",
       "<text text-anchor=\"middle\" x=\"484.5\" y=\"-290.8\" font-family=\"Times,serif\" font-size=\"14.00\" fill=\"#000000\">Drug &lt;= 0.5</text>\n",
       "<text text-anchor=\"middle\" x=\"484.5\" y=\"-275.8\" font-family=\"Times,serif\" font-size=\"14.00\" fill=\"#000000\">entropy = 1.983</text>\n",
       "<text text-anchor=\"middle\" x=\"484.5\" y=\"-260.8\" font-family=\"Times,serif\" font-size=\"14.00\" fill=\"#000000\">samples = 213</text>\n",
       "<text text-anchor=\"middle\" x=\"484.5\" y=\"-245.8\" font-family=\"Times,serif\" font-size=\"14.00\" fill=\"#000000\">value = [42, 43, 1, 49, 78]</text>\n",
       "<text text-anchor=\"middle\" x=\"484.5\" y=\"-230.8\" font-family=\"Times,serif\" font-size=\"14.00\" fill=\"#000000\">class = drugB</text>\n",
       "</g>\n",
       "<!-- 0&#45;&gt;1 -->\n",
       "<g id=\"edge1\" class=\"edge\">\n",
       "<title>0&#45;&gt;1</title>\n",
       "<path fill=\"none\" stroke=\"#000000\" d=\"M586.589,-341.8796C573.9206,-332.2774 560.3485,-321.9903 547.3705,-312.1534\"/>\n",
       "<polygon fill=\"#000000\" stroke=\"#000000\" points=\"549.4636,-309.3482 539.38,-306.0969 545.2352,-314.9268 549.4636,-309.3482\"/>\n",
       "<text text-anchor=\"middle\" x=\"542.7898\" y=\"-327.1633\" font-family=\"Times,serif\" font-size=\"14.00\" fill=\"#000000\">True</text>\n",
       "</g>\n",
       "<!-- 8 -->\n",
       "<g id=\"node9\" class=\"node\">\n",
       "<title>8</title>\n",
       "<polygon fill=\"#fefeff\" stroke=\"#000000\" points=\"928,-306 733,-306 733,-223 928,-223 928,-306\"/>\n",
       "<text text-anchor=\"middle\" x=\"830.5\" y=\"-290.8\" font-family=\"Times,serif\" font-size=\"14.00\" fill=\"#000000\">Drug &lt;= 0.5</text>\n",
       "<text text-anchor=\"middle\" x=\"830.5\" y=\"-275.8\" font-family=\"Times,serif\" font-size=\"14.00\" fill=\"#000000\">entropy = 2.052</text>\n",
       "<text text-anchor=\"middle\" x=\"830.5\" y=\"-260.8\" font-family=\"Times,serif\" font-size=\"14.00\" fill=\"#000000\">samples = 1326</text>\n",
       "<text text-anchor=\"middle\" x=\"830.5\" y=\"-245.8\" font-family=\"Times,serif\" font-size=\"14.00\" fill=\"#000000\">value = [342, 287, 12, 347, 338]</text>\n",
       "<text text-anchor=\"middle\" x=\"830.5\" y=\"-230.8\" font-family=\"Times,serif\" font-size=\"14.00\" fill=\"#000000\">class = drugA</text>\n",
       "</g>\n",
       "<!-- 0&#45;&gt;8 -->\n",
       "<g id=\"edge8\" class=\"edge\">\n",
       "<title>0&#45;&gt;8</title>\n",
       "<path fill=\"none\" stroke=\"#000000\" d=\"M707.603,-341.8796C723.1413,-332.0962 739.8088,-321.6019 755.6987,-311.5971\"/>\n",
       "<polygon fill=\"#000000\" stroke=\"#000000\" points=\"757.8368,-314.3869 764.4343,-306.0969 754.1071,-308.4633 757.8368,-314.3869\"/>\n",
       "<text text-anchor=\"middle\" x=\"758.8938\" y=\"-326.7752\" font-family=\"Times,serif\" font-size=\"14.00\" fill=\"#000000\">False</text>\n",
       "</g>\n",
       "<!-- 2 -->\n",
       "<g id=\"node3\" class=\"node\">\n",
       "<title>2</title>\n",
       "<polygon fill=\"#f8cdef\" stroke=\"#000000\" points=\"327,-187 166,-187 166,-104 327,-104 327,-187\"/>\n",
       "<text text-anchor=\"middle\" x=\"246.5\" y=\"-171.8\" font-family=\"Times,serif\" font-size=\"14.00\" fill=\"#000000\">Age &lt;= 21.5</text>\n",
       "<text text-anchor=\"middle\" x=\"246.5\" y=\"-156.8\" font-family=\"Times,serif\" font-size=\"14.00\" fill=\"#000000\">entropy = 1.873</text>\n",
       "<text text-anchor=\"middle\" x=\"246.5\" y=\"-141.8\" font-family=\"Times,serif\" font-size=\"14.00\" fill=\"#000000\">samples = 103</text>\n",
       "<text text-anchor=\"middle\" x=\"246.5\" y=\"-126.8\" font-family=\"Times,serif\" font-size=\"14.00\" fill=\"#000000\">value = [21, 14, 0, 24, 44]</text>\n",
       "<text text-anchor=\"middle\" x=\"246.5\" y=\"-111.8\" font-family=\"Times,serif\" font-size=\"14.00\" fill=\"#000000\">class = drugB</text>\n",
       "</g>\n",
       "<!-- 1&#45;&gt;2 -->\n",
       "<g id=\"edge2\" class=\"edge\">\n",
       "<title>1&#45;&gt;2</title>\n",
       "<path fill=\"none\" stroke=\"#000000\" d=\"M403.9241,-224.212C382.234,-213.367 358.6362,-201.5681 336.4696,-190.4848\"/>\n",
       "<polygon fill=\"#000000\" stroke=\"#000000\" points=\"337.9072,-187.2905 327.3977,-185.9488 334.7767,-193.5515 337.9072,-187.2905\"/>\n",
       "</g>\n",
       "<!-- 5 -->\n",
       "<g id=\"node6\" class=\"node\">\n",
       "<title>5</title>\n",
       "<polygon fill=\"#fdf3fb\" stroke=\"#000000\" points=\"565,-187 404,-187 404,-104 565,-104 565,-187\"/>\n",
       "<text text-anchor=\"middle\" x=\"484.5\" y=\"-171.8\" font-family=\"Times,serif\" font-size=\"14.00\" fill=\"#000000\">Age &lt;= 16.5</text>\n",
       "<text text-anchor=\"middle\" x=\"484.5\" y=\"-156.8\" font-family=\"Times,serif\" font-size=\"14.00\" fill=\"#000000\">entropy = 2.034</text>\n",
       "<text text-anchor=\"middle\" x=\"484.5\" y=\"-141.8\" font-family=\"Times,serif\" font-size=\"14.00\" fill=\"#000000\">samples = 110</text>\n",
       "<text text-anchor=\"middle\" x=\"484.5\" y=\"-126.8\" font-family=\"Times,serif\" font-size=\"14.00\" fill=\"#000000\">value = [21, 29, 1, 25, 34]</text>\n",
       "<text text-anchor=\"middle\" x=\"484.5\" y=\"-111.8\" font-family=\"Times,serif\" font-size=\"14.00\" fill=\"#000000\">class = drugB</text>\n",
       "</g>\n",
       "<!-- 1&#45;&gt;5 -->\n",
       "<g id=\"edge5\" class=\"edge\">\n",
       "<title>1&#45;&gt;5</title>\n",
       "<path fill=\"none\" stroke=\"#000000\" d=\"M484.5,-222.8796C484.5,-214.6838 484.5,-205.9891 484.5,-197.5013\"/>\n",
       "<polygon fill=\"#000000\" stroke=\"#000000\" points=\"488.0001,-197.298 484.5,-187.2981 481.0001,-197.2981 488.0001,-197.298\"/>\n",
       "</g>\n",
       "<!-- 3 -->\n",
       "<g id=\"node4\" class=\"node\">\n",
       "<title>3</title>\n",
       "<polygon fill=\"#f7c4ec\" stroke=\"#000000\" points=\"161,-68 0,-68 0,0 161,0 161,-68\"/>\n",
       "<text text-anchor=\"middle\" x=\"80.5\" y=\"-52.8\" font-family=\"Times,serif\" font-size=\"14.00\" fill=\"#000000\">entropy = 1.874</text>\n",
       "<text text-anchor=\"middle\" x=\"80.5\" y=\"-37.8\" font-family=\"Times,serif\" font-size=\"14.00\" fill=\"#000000\">samples = 89</text>\n",
       "<text text-anchor=\"middle\" x=\"80.5\" y=\"-22.8\" font-family=\"Times,serif\" font-size=\"14.00\" fill=\"#000000\">value = [18, 14, 0, 18, 39]</text>\n",
       "<text text-anchor=\"middle\" x=\"80.5\" y=\"-7.8\" font-family=\"Times,serif\" font-size=\"14.00\" fill=\"#000000\">class = drugB</text>\n",
       "</g>\n",
       "<!-- 2&#45;&gt;3 -->\n",
       "<g id=\"edge3\" class=\"edge\">\n",
       "<title>2&#45;&gt;3</title>\n",
       "<path fill=\"none\" stroke=\"#000000\" d=\"M184.6877,-103.9815C169.9699,-94.0957 154.2995,-83.5701 139.7019,-73.7651\"/>\n",
       "<polygon fill=\"#000000\" stroke=\"#000000\" points=\"141.4991,-70.7561 131.2463,-68.0856 137.596,-76.5669 141.4991,-70.7561\"/>\n",
       "</g>\n",
       "<!-- 4 -->\n",
       "<g id=\"node5\" class=\"node\">\n",
       "<title>4</title>\n",
       "<polygon fill=\"#e9e9fc\" stroke=\"#000000\" points=\"313.5,-68 179.5,-68 179.5,0 313.5,0 313.5,-68\"/>\n",
       "<text text-anchor=\"middle\" x=\"246.5\" y=\"-52.8\" font-family=\"Times,serif\" font-size=\"14.00\" fill=\"#000000\">entropy = 1.531</text>\n",
       "<text text-anchor=\"middle\" x=\"246.5\" y=\"-37.8\" font-family=\"Times,serif\" font-size=\"14.00\" fill=\"#000000\">samples = 14</text>\n",
       "<text text-anchor=\"middle\" x=\"246.5\" y=\"-22.8\" font-family=\"Times,serif\" font-size=\"14.00\" fill=\"#000000\">value = [3, 0, 0, 6, 5]</text>\n",
       "<text text-anchor=\"middle\" x=\"246.5\" y=\"-7.8\" font-family=\"Times,serif\" font-size=\"14.00\" fill=\"#000000\">class = drugA</text>\n",
       "</g>\n",
       "<!-- 2&#45;&gt;4 -->\n",
       "<g id=\"edge4\" class=\"edge\">\n",
       "<title>2&#45;&gt;4</title>\n",
       "<path fill=\"none\" stroke=\"#000000\" d=\"M246.5,-103.9815C246.5,-95.618 246.5,-86.7965 246.5,-78.3409\"/>\n",
       "<polygon fill=\"#000000\" stroke=\"#000000\" points=\"250.0001,-78.2636 246.5,-68.2637 243.0001,-78.2637 250.0001,-78.2636\"/>\n",
       "</g>\n",
       "<!-- 6 -->\n",
       "<g id=\"node7\" class=\"node\">\n",
       "<title>6</title>\n",
       "<polygon fill=\"#f6f6fe\" stroke=\"#000000\" points=\"465.5,-68 331.5,-68 331.5,0 465.5,0 465.5,-68\"/>\n",
       "<text text-anchor=\"middle\" x=\"398.5\" y=\"-52.8\" font-family=\"Times,serif\" font-size=\"14.00\" fill=\"#000000\">entropy = 2.114</text>\n",
       "<text text-anchor=\"middle\" x=\"398.5\" y=\"-37.8\" font-family=\"Times,serif\" font-size=\"14.00\" fill=\"#000000\">samples = 30</text>\n",
       "<text text-anchor=\"middle\" x=\"398.5\" y=\"-22.8\" font-family=\"Times,serif\" font-size=\"14.00\" fill=\"#000000\">value = [5, 8, 1, 9, 7]</text>\n",
       "<text text-anchor=\"middle\" x=\"398.5\" y=\"-7.8\" font-family=\"Times,serif\" font-size=\"14.00\" fill=\"#000000\">class = drugA</text>\n",
       "</g>\n",
       "<!-- 5&#45;&gt;6 -->\n",
       "<g id=\"edge6\" class=\"edge\">\n",
       "<title>5&#45;&gt;6</title>\n",
       "<path fill=\"none\" stroke=\"#000000\" d=\"M452.4768,-103.9815C445.5298,-94.9747 438.1731,-85.4367 431.2004,-76.3965\"/>\n",
       "<polygon fill=\"#000000\" stroke=\"#000000\" points=\"433.8064,-74.0444 424.9276,-68.2637 428.2636,-78.3196 433.8064,-74.0444\"/>\n",
       "</g>\n",
       "<!-- 7 -->\n",
       "<g id=\"node8\" class=\"node\">\n",
       "<title>7</title>\n",
       "<polygon fill=\"#fcebf9\" stroke=\"#000000\" points=\"645,-68 484,-68 484,0 645,0 645,-68\"/>\n",
       "<text text-anchor=\"middle\" x=\"564.5\" y=\"-52.8\" font-family=\"Times,serif\" font-size=\"14.00\" fill=\"#000000\">entropy = 1.964</text>\n",
       "<text text-anchor=\"middle\" x=\"564.5\" y=\"-37.8\" font-family=\"Times,serif\" font-size=\"14.00\" fill=\"#000000\">samples = 80</text>\n",
       "<text text-anchor=\"middle\" x=\"564.5\" y=\"-22.8\" font-family=\"Times,serif\" font-size=\"14.00\" fill=\"#000000\">value = [16, 21, 0, 16, 27]</text>\n",
       "<text text-anchor=\"middle\" x=\"564.5\" y=\"-7.8\" font-family=\"Times,serif\" font-size=\"14.00\" fill=\"#000000\">class = drugB</text>\n",
       "</g>\n",
       "<!-- 5&#45;&gt;7 -->\n",
       "<g id=\"edge7\" class=\"edge\">\n",
       "<title>5&#45;&gt;7</title>\n",
       "<path fill=\"none\" stroke=\"#000000\" d=\"M514.289,-103.9815C520.7514,-94.9747 527.5948,-85.4367 534.081,-76.3965\"/>\n",
       "<polygon fill=\"#000000\" stroke=\"#000000\" points=\"536.9303,-78.4291 539.9162,-68.2637 531.2428,-74.3483 536.9303,-78.4291\"/>\n",
       "</g>\n",
       "<!-- 9 -->\n",
       "<g id=\"node10\" class=\"node\">\n",
       "<title>9</title>\n",
       "<polygon fill=\"#fefeff\" stroke=\"#000000\" points=\"924.5,-187 736.5,-187 736.5,-104 924.5,-104 924.5,-187\"/>\n",
       "<text text-anchor=\"middle\" x=\"830.5\" y=\"-171.8\" font-family=\"Times,serif\" font-size=\"14.00\" fill=\"#000000\">Age &lt;= 26.5</text>\n",
       "<text text-anchor=\"middle\" x=\"830.5\" y=\"-156.8\" font-family=\"Times,serif\" font-size=\"14.00\" fill=\"#000000\">entropy = 2.05</text>\n",
       "<text text-anchor=\"middle\" x=\"830.5\" y=\"-141.8\" font-family=\"Times,serif\" font-size=\"14.00\" fill=\"#000000\">samples = 669</text>\n",
       "<text text-anchor=\"middle\" x=\"830.5\" y=\"-126.8\" font-family=\"Times,serif\" font-size=\"14.00\" fill=\"#000000\">value = [151, 151, 6, 182, 179]</text>\n",
       "<text text-anchor=\"middle\" x=\"830.5\" y=\"-111.8\" font-family=\"Times,serif\" font-size=\"14.00\" fill=\"#000000\">class = drugA</text>\n",
       "</g>\n",
       "<!-- 8&#45;&gt;9 -->\n",
       "<g id=\"edge9\" class=\"edge\">\n",
       "<title>8&#45;&gt;9</title>\n",
       "<path fill=\"none\" stroke=\"#000000\" d=\"M830.5,-222.8796C830.5,-214.6838 830.5,-205.9891 830.5,-197.5013\"/>\n",
       "<polygon fill=\"#000000\" stroke=\"#000000\" points=\"834.0001,-197.298 830.5,-187.2981 827.0001,-197.2981 834.0001,-197.298\"/>\n",
       "</g>\n",
       "<!-- 12 -->\n",
       "<g id=\"node13\" class=\"node\">\n",
       "<title>12</title>\n",
       "<polygon fill=\"#fef8f5\" stroke=\"#000000\" points=\"1220.5,-187 1032.5,-187 1032.5,-104 1220.5,-104 1220.5,-187\"/>\n",
       "<text text-anchor=\"middle\" x=\"1126.5\" y=\"-171.8\" font-family=\"Times,serif\" font-size=\"14.00\" fill=\"#000000\">Age &lt;= 49.5</text>\n",
       "<text text-anchor=\"middle\" x=\"1126.5\" y=\"-156.8\" font-family=\"Times,serif\" font-size=\"14.00\" fill=\"#000000\">entropy = 2.046</text>\n",
       "<text text-anchor=\"middle\" x=\"1126.5\" y=\"-141.8\" font-family=\"Times,serif\" font-size=\"14.00\" fill=\"#000000\">samples = 657</text>\n",
       "<text text-anchor=\"middle\" x=\"1126.5\" y=\"-126.8\" font-family=\"Times,serif\" font-size=\"14.00\" fill=\"#000000\">value = [191, 136, 6, 165, 159]</text>\n",
       "<text text-anchor=\"middle\" x=\"1126.5\" y=\"-111.8\" font-family=\"Times,serif\" font-size=\"14.00\" fill=\"#000000\">class = drugY</text>\n",
       "</g>\n",
       "<!-- 8&#45;&gt;12 -->\n",
       "<g id=\"edge12\" class=\"edge\">\n",
       "<title>8&#45;&gt;12</title>\n",
       "<path fill=\"none\" stroke=\"#000000\" d=\"M928.2418,-225.2052C958.6108,-212.996 992.1834,-199.4989 1022.935,-187.1359\"/>\n",
       "<polygon fill=\"#000000\" stroke=\"#000000\" points=\"1024.4087,-190.3158 1032.3814,-183.3382 1021.7976,-183.821 1024.4087,-190.3158\"/>\n",
       "</g>\n",
       "<!-- 10 -->\n",
       "<g id=\"node11\" class=\"node\">\n",
       "<title>10</title>\n",
       "<polygon fill=\"#e8e7fc\" stroke=\"#000000\" points=\"818,-68 663,-68 663,0 818,0 818,-68\"/>\n",
       "<text text-anchor=\"middle\" x=\"740.5\" y=\"-52.8\" font-family=\"Times,serif\" font-size=\"14.00\" fill=\"#000000\">entropy = 2.009</text>\n",
       "<text text-anchor=\"middle\" x=\"740.5\" y=\"-37.8\" font-family=\"Times,serif\" font-size=\"14.00\" fill=\"#000000\">samples = 58</text>\n",
       "<text text-anchor=\"middle\" x=\"740.5\" y=\"-22.8\" font-family=\"Times,serif\" font-size=\"14.00\" fill=\"#000000\">value = [16, 12, 1, 21, 8]</text>\n",
       "<text text-anchor=\"middle\" x=\"740.5\" y=\"-7.8\" font-family=\"Times,serif\" font-size=\"14.00\" fill=\"#000000\">class = drugA</text>\n",
       "</g>\n",
       "<!-- 9&#45;&gt;10 -->\n",
       "<g id=\"edge10\" class=\"edge\">\n",
       "<title>9&#45;&gt;10</title>\n",
       "<path fill=\"none\" stroke=\"#000000\" d=\"M796.9873,-103.9815C789.643,-94.8828 781.8612,-85.242 774.4981,-76.1199\"/>\n",
       "<polygon fill=\"#000000\" stroke=\"#000000\" points=\"777.1612,-73.8467 768.1568,-68.2637 771.7143,-78.2434 777.1612,-73.8467\"/>\n",
       "</g>\n",
       "<!-- 11 -->\n",
       "<g id=\"node12\" class=\"node\">\n",
       "<title>11</title>\n",
       "<polygon fill=\"#fefbfe\" stroke=\"#000000\" points=\"1024.5,-68 836.5,-68 836.5,0 1024.5,0 1024.5,-68\"/>\n",
       "<text text-anchor=\"middle\" x=\"930.5\" y=\"-52.8\" font-family=\"Times,serif\" font-size=\"14.00\" fill=\"#000000\">entropy = 2.045</text>\n",
       "<text text-anchor=\"middle\" x=\"930.5\" y=\"-37.8\" font-family=\"Times,serif\" font-size=\"14.00\" fill=\"#000000\">samples = 611</text>\n",
       "<text text-anchor=\"middle\" x=\"930.5\" y=\"-22.8\" font-family=\"Times,serif\" font-size=\"14.00\" fill=\"#000000\">value = [135, 139, 5, 161, 171]</text>\n",
       "<text text-anchor=\"middle\" x=\"930.5\" y=\"-7.8\" font-family=\"Times,serif\" font-size=\"14.00\" fill=\"#000000\">class = drugB</text>\n",
       "</g>\n",
       "<!-- 9&#45;&gt;11 -->\n",
       "<g id=\"edge11\" class=\"edge\">\n",
       "<title>9&#45;&gt;11</title>\n",
       "<path fill=\"none\" stroke=\"#000000\" d=\"M867.7363,-103.9815C875.9791,-94.7908 884.7178,-85.0472 892.9721,-75.8436\"/>\n",
       "<polygon fill=\"#000000\" stroke=\"#000000\" points=\"895.6991,-78.0451 899.7702,-68.2637 890.4879,-73.3714 895.6991,-78.0451\"/>\n",
       "</g>\n",
       "<!-- 13 -->\n",
       "<g id=\"node14\" class=\"node\">\n",
       "<title>13</title>\n",
       "<polygon fill=\"#fef9f5\" stroke=\"#000000\" points=\"1210.5,-68 1042.5,-68 1042.5,0 1210.5,0 1210.5,-68\"/>\n",
       "<text text-anchor=\"middle\" x=\"1126.5\" y=\"-52.8\" font-family=\"Times,serif\" font-size=\"14.00\" fill=\"#000000\">entropy = 2.06</text>\n",
       "<text text-anchor=\"middle\" x=\"1126.5\" y=\"-37.8\" font-family=\"Times,serif\" font-size=\"14.00\" fill=\"#000000\">samples = 357</text>\n",
       "<text text-anchor=\"middle\" x=\"1126.5\" y=\"-22.8\" font-family=\"Times,serif\" font-size=\"14.00\" fill=\"#000000\">value = [108, 74, 5, 95, 75]</text>\n",
       "<text text-anchor=\"middle\" x=\"1126.5\" y=\"-7.8\" font-family=\"Times,serif\" font-size=\"14.00\" fill=\"#000000\">class = drugY</text>\n",
       "</g>\n",
       "<!-- 12&#45;&gt;13 -->\n",
       "<g id=\"edge13\" class=\"edge\">\n",
       "<title>12&#45;&gt;13</title>\n",
       "<path fill=\"none\" stroke=\"#000000\" d=\"M1126.5,-103.9815C1126.5,-95.618 1126.5,-86.7965 1126.5,-78.3409\"/>\n",
       "<polygon fill=\"#000000\" stroke=\"#000000\" points=\"1130.0001,-78.2636 1126.5,-68.2637 1123.0001,-78.2637 1130.0001,-78.2636\"/>\n",
       "</g>\n",
       "<!-- 14 -->\n",
       "<g id=\"node15\" class=\"node\">\n",
       "<title>14</title>\n",
       "<polygon fill=\"#fffeff\" stroke=\"#000000\" points=\"1390,-68 1229,-68 1229,0 1390,0 1390,-68\"/>\n",
       "<text text-anchor=\"middle\" x=\"1309.5\" y=\"-52.8\" font-family=\"Times,serif\" font-size=\"14.00\" fill=\"#000000\">entropy = 2.015</text>\n",
       "<text text-anchor=\"middle\" x=\"1309.5\" y=\"-37.8\" font-family=\"Times,serif\" font-size=\"14.00\" fill=\"#000000\">samples = 300</text>\n",
       "<text text-anchor=\"middle\" x=\"1309.5\" y=\"-22.8\" font-family=\"Times,serif\" font-size=\"14.00\" fill=\"#000000\">value = [83, 62, 1, 70, 84]</text>\n",
       "<text text-anchor=\"middle\" x=\"1309.5\" y=\"-7.8\" font-family=\"Times,serif\" font-size=\"14.00\" fill=\"#000000\">class = drugB</text>\n",
       "</g>\n",
       "<!-- 12&#45;&gt;14 -->\n",
       "<g id=\"edge14\" class=\"edge\">\n",
       "<title>12&#45;&gt;14</title>\n",
       "<path fill=\"none\" stroke=\"#000000\" d=\"M1194.6424,-103.9815C1211.0192,-94.0034 1228.4657,-83.3733 1244.6862,-73.4904\"/>\n",
       "<polygon fill=\"#000000\" stroke=\"#000000\" points=\"1246.8382,-76.2778 1253.5568,-68.0856 1243.1959,-70.2999 1246.8382,-76.2778\"/>\n",
       "</g>\n",
       "</g>\n",
       "</svg>\n"
      ],
      "text/plain": [
       "<graphviz.files.Source at 0x7fc110b99460>"
      ]
     },
     "execution_count": 59,
     "metadata": {},
     "output_type": "execute_result"
    }
   ],
   "source": [
    "# Crear gráfico\n",
    "dot_data = tree.export_graphviz(clf_entropy, out_file=None, \n",
    "                                feature_names=['Age', 'Sex', 'Drug'],  \n",
    "                                class_names=data['Drug'].unique(),\n",
    "                                filled=True)\n",
    "# Mostrar el gráfico\n",
    "graph = graphviz.Source(dot_data, format=\"png\") \n",
    "graph"
   ]
  },
  {
   "cell_type": "markdown",
   "id": "6cc90b47",
   "metadata": {},
   "source": [
    "### 5. Curva ROC\n",
    "Las curvas ROC suelen presentar una tasa de verdaderos positivos en el eje Y y una tasa de falsos positivos en el eje X. Esto significa que la esquina superior izquierda de la gráfica es el punto \"ideal\": una tasa de falsos positivos de cero y una tasa de verdaderos positivos de uno. Esto no es muy realista, pero significa que un área más grande bajo la curva (AUC) suele ser mejor.\n",
    "\n",
    "La \"inclinación\" de las curvas ROC también es importante, ya que es ideal para maximizar la tasa de verdaderos positivos mientras se minimiza la tasa de falsos positivos.\n",
    "\n",
    "Las curvas ROC se utilizan normalmente en la clasificación binaria para estudiar la salida de un clasificador. Para extender la curva ROC y el área ROC a la clasificación de etiquetas múltiples, es necesario binarizar la salida. Se puede dibujar una curva ROC por etiqueta, pero también se puede dibujar una curva ROC considerando cada elemento de la matriz del indicador de etiqueta como una predicción binaria (micropromedio).\n"
   ]
  },
  {
   "cell_type": "code",
   "execution_count": 60,
   "id": "5323aded",
   "metadata": {},
   "outputs": [],
   "source": [
    "# Binarize the output\n",
    "y = label_binarize(Y, classes=['drugA', 'drugB', 'drugX', 'drugY'])\n",
    "n_classes = y.shape[1]"
   ]
  },
  {
   "cell_type": "code",
   "execution_count": 61,
   "id": "9d836192",
   "metadata": {
    "scrolled": false
   },
   "outputs": [
    {
     "data": {
      "text/plain": [
       "array([[0, 0, 0, 1],\n",
       "       [0, 0, 0, 0],\n",
       "       [0, 0, 0, 0],\n",
       "       [0, 0, 1, 0],\n",
       "       [0, 0, 0, 1],\n",
       "       [0, 0, 1, 0],\n",
       "       [0, 0, 0, 1],\n",
       "       [0, 0, 0, 0],\n",
       "       [0, 0, 0, 1],\n",
       "       [0, 0, 0, 1]])"
      ]
     },
     "execution_count": 61,
     "metadata": {},
     "output_type": "execute_result"
    }
   ],
   "source": [
    "y[0:10]"
   ]
  },
  {
   "cell_type": "code",
   "execution_count": 62,
   "id": "8a830a5d",
   "metadata": {},
   "outputs": [],
   "source": [
    "def plot_multiclass_roc(clf, X_test, y_test, n_classes, figsize=(17, 6)):\n",
    "    y_score = clf.predict_proba(X_test)\n",
    "\n",
    "    # estructura de datos\n",
    "    fpr = dict()\n",
    "    tpr = dict()\n",
    "    roc_auc = dict()\n",
    "\n",
    "    # calcular los dummies\n",
    "    y_test_dummies = pd.get_dummies(y_test, drop_first=False).values\n",
    "    for i in range(n_classes):\n",
    "        fpr[i], tpr[i], _ = roc_curve(y_test_dummies[:, i], y_score[:, i])\n",
    "        roc_auc[i] = auc(fpr[i], tpr[i])\n",
    "\n",
    "    # roc para cada clase\n",
    "    fig, ax = plt.subplots(figsize=figsize)\n",
    "    ax.plot([0, 1], [0, 1], 'k--')\n",
    "    ax.set_xlim([0.0, 1.0])\n",
    "    ax.set_ylim([0.0, 1.05])\n",
    "    ax.set_xlabel('False Positive Rate')\n",
    "    ax.set_ylabel('True Positive Rate')\n",
    "    ax.set_title('Receiver operating characteristic example')\n",
    "    for i in range(n_classes):\n",
    "        ax.plot(fpr[i], tpr[i], label='ROC curve (area = %0.2f) for label %i' % (roc_auc[i], i))\n",
    "    ax.legend(loc=\"best\")\n",
    "    ax.grid(alpha=.4)\n",
    "    sns.despine()\n",
    "    plt.show()"
   ]
  },
  {
   "cell_type": "code",
   "execution_count": 63,
   "id": "7af7d7b4",
   "metadata": {},
   "outputs": [
    {
     "data": {
      "image/png": "[encoded data removed]",
      "text/plain": [
       "<Figure size 1152x720 with 1 Axes>"
      ]
     },
     "metadata": {
      "needs_background": "light"
     },
     "output_type": "display_data"
    }
   ],
   "source": [
    "plot_multiclass_roc(clf_entropy, X_test, y_test, n_classes=4, figsize=(16, 10))"
   ]
  },
  {
   "cell_type": "markdown",
   "id": "d49a1b07",
   "metadata": {},
   "source": [
    "### Extensión\n",
    "1. Realice el analisis de outliers con la edad\n",
    "2. Realice la prueba chi con menos variables\n",
    "3. Cambie las variables del clasificador para obtener mejor ajuste"
   ]
  }
 ],
 "metadata": {
  "kernelspec": {
   "display_name": "Python 3 (ipykernel)",
   "language": "python",
   "name": "python3"
  },
  "language_info": {
   "codemirror_mode": {
    "name": "ipython",
    "version": 3
   },
   "file_extension": ".py",
   "mimetype": "text/x-python",
   "name": "python",
   "nbconvert_exporter": "python",
   "pygments_lexer": "ipython3",
   "version": "3.8.2"
  }
 },
 "nbformat": 4,
 "nbformat_minor": 5
}
