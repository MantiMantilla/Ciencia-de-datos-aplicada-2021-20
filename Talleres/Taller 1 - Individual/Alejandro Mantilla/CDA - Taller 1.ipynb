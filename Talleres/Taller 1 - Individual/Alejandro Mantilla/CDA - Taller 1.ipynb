{
 "cells": [
  {
   "cell_type": "markdown",
   "id": "818d09d4",
   "metadata": {},
   "source": [
    "# Ciencia de datos aplicada\n",
    "\n",
    "Alejandro Mantilla (a.mantillar) - 201711304\n",
    "\n",
    "## Taller 1\n",
    "\n",
    "### Contexto\n",
    "This risk factors dataset may be useful to people interested in exploring the distribution of breast cancer risk factors in US women. The dataset includes information from 6,788,436 mammograms in the BCSC between January 2005 and December 2017. The dataset includes participant characteristics previously shown to be associated with breast cancer risk including age, race/ethnicity, family history of breast cancer, age at menarche, age at first birth, breast density, use of hormone replacement therapy, menopausal status, body mass index, history of biopsy, and history of breast cancer. These data can be used to describe the distribution of breast cancer risk in the general population or to explore relationships among breast cancer risk factors.\n",
    "\n",
    "This dataset was created by selecting one exam per woman per calendar year and year of age. When both screening and diagnostic mammograms exist for a given woman and year, screening mammograms were preferentially selected.\n",
    "\n",
    " \n",
    "\n",
    "### Objetivos\n",
    "\n",
    "1. Utilizar tablas de frecuencias para resolver problemas relevantes para el negocio\n",
    "2. Analizar las principales medidas de tendencia central y su interpretación\n",
    "3. Analizar las medidas de dispersión más comunes para el análisis de datos\n",
    "4. Conocer las principales visualizaciones de datos \n",
    "5. Explorar los gráficos para obtener información de valor para el negocio\n",
    "\n"
   ]
  },
  {
   "cell_type": "markdown",
   "id": "ba9d15b9",
   "metadata": {},
   "source": [
    "### 1. Importación de librerías y archivos\n",
    "En las siguientes líneas de código se importaran los materiales de trabajo necesarios para desarrollar el caso de uso, en esto se incluyen las *librerías y los datos*"
   ]
  },
  {
   "cell_type": "code",
   "execution_count": null,
   "id": "573eb389",
   "metadata": {},
   "outputs": [],
   "source": [
    "# Importar las librerías necesarias según el análisis que se vaya a realizar\n",
    "# Librería para manejo de datos\n",
    "import pandas as pd\n",
    "# Librerías para graficar\n",
    "# El uso de plotly permite analizar los gráficos pasando el mouse sobre ellas\n",
    "# también se puede redimensionar el gráfico a conveniencia\n",
    "import plotly.express as px\n",
    "# Gráficas estáticas\n",
    "import matplotlib.pyplot as plt\n",
    "\n",
    "# Para análisis exploratorio\n",
    "from pandas_profiling import ProfileReport "
   ]
  },
  {
   "cell_type": "code",
   "execution_count": null,
   "id": "2c404f11",
   "metadata": {},
   "outputs": [],
   "source": [
    "# cargar los datos en csv\n",
    "data= pd.read_csv('data_cancer_seno.csv',\n",
    "                  sep=',', #Parámetro de separación de datos\n",
    "                  encoding='latin-1' #Codificación de datos\n",
    "                 )\n",
    "\n",
    "#visualizar los primeros registros\n",
    "data.head(15)"
   ]
  },
  {
   "cell_type": "markdown",
   "id": "0058eb47",
   "metadata": {},
   "source": [
    "Los tipos de datos nos van a ayudar a entender qué análisis se pueden realizar con cada variable para su correcta interpretación"
   ]
  },
  {
   "cell_type": "code",
   "execution_count": null,
   "id": "4986f414",
   "metadata": {},
   "outputs": [],
   "source": [
    "# Revisar los tipos de data en el archivo\n",
    "data.dtypes"
   ]
  },
  {
   "cell_type": "markdown",
   "id": "b5439aa2",
   "metadata": {},
   "source": [
    "### 2. Tablas de frecuencias\n",
    "La tabla de frecuencias es una herramienta que permite ordenar los datos, de manera que se presentan numéricamente las características de la distribución de un conjunto de datos o muestra.\n",
    "\n",
    "Como la data está codificada, es necesario decodificar para poder realizar cualquier análisis, vamos a utilizar el [diccionario de los datos](https://www.bcsc-research.org/data/rf/documentation) para encontrar las correspondecias de los datos, en este caso se realizará para la columna de la raza o etnia"
   ]
  },
  {
   "cell_type": "code",
   "execution_count": null,
   "id": "27993516",
   "metadata": {},
   "outputs": [],
   "source": [
    "#Creamos la función de decodificar\n",
    "def cat_etnia(etnia):\n",
    "    if etnia==1: val=\"Non-Hispanic white\"\n",
    "    elif etnia==2: val=\"Non-Hispanic black\"\n",
    "    elif etnia==3: val=\"Asian/Pacific Islander\"\n",
    "    elif etnia==4: val=\"Native American\"\n",
    "    elif etnia==5: val=\"Hispanic\"\n",
    "    elif etnia==6: val=\"Other/mixed\"\n",
    "    elif etnia==9: val=\"Unknown\"\n",
    "    return val"
   ]
  },
  {
   "cell_type": "code",
   "execution_count": null,
   "id": "ef94dfe2",
   "metadata": {},
   "outputs": [],
   "source": [
    "# Realizado en clase para ver la columna\n",
    "data['race_eth']"
   ]
  },
  {
   "cell_type": "code",
   "execution_count": null,
   "id": "f413222b",
   "metadata": {},
   "outputs": [],
   "source": [
    "#Aplicamos la función a la columna correspondiente\n",
    "data['race_eth']=data['race_eth'].apply(cat_etnia)\n",
    "data['race_eth']"
   ]
  },
  {
   "cell_type": "code",
   "execution_count": null,
   "id": "0f7c1a8c",
   "metadata": {},
   "outputs": [],
   "source": [
    "## Tabla de frecuencia univariada\n",
    "#Se va a realizar una tabla para analizar las razas del estudio\n",
    "# Frecuencia absoluta\n",
    "frec_data=data['race_eth'].value_counts().reset_index()\n",
    "frec_data.head(4)"
   ]
  },
  {
   "cell_type": "code",
   "execution_count": null,
   "id": "ac45861b",
   "metadata": {},
   "outputs": [],
   "source": [
    "#frecuencia relativa\n",
    "frec_data['porcentaje_race_eth']=frec_data['race_eth'].apply(lambda x: x/frec_data['race_eth'].sum())\n",
    "# frecuencia absoluta y relativa acumulada con cumsum()\n",
    "# absoluta acumulada\n",
    "frec_data['acumulada_race_eth']=frec_data['race_eth'].cumsum()\n",
    "# relativa acumulada\n",
    "frec_data['acumulada_procentaje_race_eth']=frec_data['porcentaje_race_eth'].cumsum()\n",
    "frec_data"
   ]
  },
  {
   "cell_type": "markdown",
   "id": "effd1c2b",
   "metadata": {},
   "source": [
    " La tabla de frecuencias nos muestra la siguiente información\n",
    "\n",
    "1. Frecuencia absoluta: número de veces que aparece un valor. \n",
    " \n",
    "2. Frecuencia relativa: el resultado de dividir la frecuencia absoluta de un determinado valor por el número total de datos. \n",
    "\n",
    "3. Frecuencia acumulada: la suma de las frecuencias absolutas de todos los valores iguales o menores al valor considerado. \n",
    "\n",
    "4. Frecuencia acumulada relativa: el resultado de dividir la frecuencia acumulada por el número total de información."
   ]
  },
  {
   "cell_type": "markdown",
   "id": "3e7024a3",
   "metadata": {},
   "source": [
    "### 3.Tendencia central\n",
    "La tendencia central significa medir el centro o distribución de ubicación de valores de un conjunto de datos. Da una idea del valor promedio de las variables en el conjunto de datos y también una indicación de cuán ampliamente se distribuyen los valores en el conjunto de datos.\n",
    "1. Media\n",
    "2. Mediana\n",
    "3. Moda\n"
   ]
  },
  {
   "cell_type": "code",
   "execution_count": null,
   "id": "9901dfbe",
   "metadata": {
    "scrolled": true
   },
   "outputs": [],
   "source": [
    "#Media\n",
    "print('Media o promedio')\n",
    "print(data['age'].mean())\n",
    "#Moda\n",
    "print('Moda')\n",
    "print(data['age'].mode()[0])\n",
    "#Mediana\n",
    "print('Mediana')\n",
    "print(data['age'].median())"
   ]
  },
  {
   "cell_type": "markdown",
   "id": "ae4cd95b",
   "metadata": {},
   "source": [
    "### 4. Medidas de localización\n",
    "Los ___cuantiles y percentiles___ son puntos de corte que dividen el rango de una distribución de probabilidad en intervalos continuos con probabilidades iguales o que dividen las observaciones en una muestra de la misma forma.\n",
    "\n",
    "Así se pueden representar un porcentaje de datos a través de los cuantiles para identificar cómo están localizados los datos\n"
   ]
  },
  {
   "cell_type": "code",
   "execution_count": null,
   "id": "03036e9f",
   "metadata": {},
   "outputs": [],
   "source": [
    "## Cuantiles\n",
    "# Calcular el 20%, 50% y 70% del peso de los productos\n",
    "data['age'].quantile([0.10,0.25,0.50,0.75,0.90])"
   ]
  },
  {
   "cell_type": "markdown",
   "id": "cd15a75d",
   "metadata": {},
   "source": [
    "### 5. Medidas de dispersión\n",
    "\n",
    "Se utilizan las estadísticas de dispersión para dar un número único que describa qué tan compacto o disperso es un conjunto de observaciones. Estas se complementan de las medidas mencionadas anteriormente\n",
    "\n",
    "Estas medidas entre más grandes, representan más dispersión y entre más pequeñas más concentradas están las observaciones (es importante tener en cuenta la escala de la variable para analizar el dimensión)\n",
    "\n",
    "1. Desviación estándar\n",
    "2. Rango \n"
   ]
  },
  {
   "cell_type": "code",
   "execution_count": null,
   "id": "6e6f4b06",
   "metadata": {},
   "outputs": [],
   "source": [
    "## Desviación estándar\n",
    "# Representa qué tan lejos de la media se encuentran las observaciones\n",
    "data['age'].std()"
   ]
  },
  {
   "cell_type": "code",
   "execution_count": null,
   "id": "8823389e",
   "metadata": {},
   "outputs": [],
   "source": [
    "## Rango\n",
    "# Representa la diferencia que existe entre el producto más grande y el más pequeño\n",
    "data['age'].max()-data['age'].min()"
   ]
  },
  {
   "cell_type": "code",
   "execution_count": null,
   "id": "63fbd3ae",
   "metadata": {
    "scrolled": true
   },
   "outputs": [],
   "source": [
    "## Estadísticas básicas\n",
    "data[['year','age']].describe()"
   ]
  },
  {
   "cell_type": "markdown",
   "id": "fa6c6385",
   "metadata": {},
   "source": [
    "Hay que tener en cuenta los tipos de datos, recordemos que la mayoría de datos están codificados por lo cual sacar estas estadísticas no tiene una interpretación"
   ]
  },
  {
   "cell_type": "markdown",
   "id": "5eb1040c",
   "metadata": {},
   "source": [
    "### 6.Gráficas\n",
    "Un gráfico o cuadro estadístico se define como la representación pictórica de datos estadísticos en forma gráfica. Los gráficos estadísticos se utilizan para representar un conjunto de datos para facilitar la comprensión e interpretación de la información estadística.\n",
    "\n",
    "### 6.1.Gráfico de barras\n",
    "\n",
    "Podemos usar gráficos de barras para mostrar los tamaños relativos de muchas cosas, en el eje x se muestran las categorías y en el eje y el conteo para cada categoría"
   ]
  },
  {
   "cell_type": "code",
   "execution_count": null,
   "id": "f4b49310",
   "metadata": {},
   "outputs": [],
   "source": [
    "# Realizado en clase para realizar conteo sobre columna\n",
    "data['race_eth'].value_counts()"
   ]
  },
  {
   "cell_type": "code",
   "execution_count": null,
   "id": "9b32cbfb",
   "metadata": {},
   "outputs": [],
   "source": [
    "# Podemos utilizar la tabla de frecuencias para realizar el gráfico\n",
    "data_raza = data['race_eth'].value_counts().reset_index()\n",
    "# cambiamos el nombre de las columnas\n",
    "data_raza.columns=['race_eth','conteo']\n",
    "fig = px.bar(data_raza, x='race_eth', y='conteo')\n",
    "fig.show()"
   ]
  },
  {
   "cell_type": "markdown",
   "id": "d29c6ee0",
   "metadata": {},
   "source": [
    "### 6.2. Histograma\n",
    "Un histograma es una representación aproximada de la distribución de datos numéricos. Fue introducido por primera vez por Karl Pearson. Para construir un histograma, el primer paso es \"agrupar\" el rango de valores, es decir, dividir todo el rango de valores en una serie de intervalos, y luego contar cuántos valores caen en cada intervalo."
   ]
  },
  {
   "cell_type": "code",
   "execution_count": null,
   "id": "afb61fff",
   "metadata": {},
   "outputs": [],
   "source": [
    "fig = px.histogram(data, x=\"age\")\n",
    "fig.show()"
   ]
  },
  {
   "cell_type": "markdown",
   "id": "9ce94243",
   "metadata": {},
   "source": [
    "### 6.3. Boxplot\n",
    "Los diagramas de caja(Box Plot) muestran visualmente la distribución de datos numéricos y la asimetría mediante la visualización de los cuartiles de datos (o percentiles) y promedios.\n",
    "\n",
    "Los diagramas de caja muestran el resumen de varias estadísticas de un conjunto de datos: incluido el primer cuartil (inferior), la mediana, el tercer cuartil (superior) y la cuota de outliers tanto inferior como superior"
   ]
  },
  {
   "cell_type": "code",
   "execution_count": null,
   "id": "dd5dacd3",
   "metadata": {},
   "outputs": [],
   "source": [
    "## Diagramas un box plot\n",
    "#Revisar los ouliers(datos atípicos de la distribución de longitud del producto)\n",
    "fig = px.box(data, y=\"age\")\n",
    "fig.show()"
   ]
  },
  {
   "cell_type": "markdown",
   "id": "bfcc6c42",
   "metadata": {},
   "source": [
    "**Gráficos estáticos**"
   ]
  },
  {
   "cell_type": "code",
   "execution_count": null,
   "id": "f3cb3cc1",
   "metadata": {
    "scrolled": true
   },
   "outputs": [],
   "source": [
    "#Barras\n",
    "plt.bar(data_raza['race_eth'],data_raza['conteo'])"
   ]
  },
  {
   "cell_type": "code",
   "execution_count": null,
   "id": "7c63f061",
   "metadata": {},
   "outputs": [],
   "source": [
    "#Histograma\n",
    "plt.hist(data['age'])"
   ]
  },
  {
   "cell_type": "code",
   "execution_count": null,
   "id": "0159c62d",
   "metadata": {
    "scrolled": false
   },
   "outputs": [],
   "source": [
    "#Box plot\n",
    "plt.boxplot(data['age'])"
   ]
  },
  {
   "cell_type": "markdown",
   "id": "e2837384",
   "metadata": {},
   "source": [
    "### Extensión\n",
    "\n",
    "**1.** Realiza la transformación de categorías con la variable BIRADS_breast_density."
   ]
  },
  {
   "cell_type": "code",
   "execution_count": null,
   "id": "1c83e3d8",
   "metadata": {},
   "outputs": [],
   "source": [
    "cat_density = {1: \"Almost entirely fat\",\n",
    "               2: \"Scattered fibroglandular densities\",\n",
    "               3: \"Heterogeneously dense\",\n",
    "               4: \"Extremely dense\",\n",
    "               9: \"Unknown\"}"
   ]
  },
  {
   "cell_type": "code",
   "execution_count": null,
   "id": "2b218db5",
   "metadata": {},
   "outputs": [],
   "source": [
    "data[\"BIRADS_breast_density\"] = data[\"BIRADS_breast_density\"].apply(lambda x: cat_density[x])\n",
    "data[\"BIRADS_breast_density\"]"
   ]
  },
  {
   "cell_type": "markdown",
   "id": "c78dbbb1",
   "metadata": {},
   "source": [
    "**2.** Realiza la tabla de frecuencias con la categoría BIRADS_breast_density"
   ]
  },
  {
   "cell_type": "code",
   "execution_count": null,
   "id": "9b3592f1",
   "metadata": {},
   "outputs": [],
   "source": [
    "## Tabla de frecuencia univariada\n",
    "#Se va a realizar una tabla para analizar las razas del estudio\n",
    "# Frecuencia absoluta\n",
    "frec_data = data[\"BIRADS_breast_density\"].value_counts().reset_index()\n",
    "\n",
    "# frecuencia relativa\n",
    "frec_data['porcentaje_breast_density']=frec_data[\"BIRADS_breast_density\"].apply(lambda x: x/frec_data[\"BIRADS_breast_density\"].sum())\n",
    "\n",
    "# frecuencia absoluta y relativa acumulada con cumsum()\n",
    "# absoluta acumulada\n",
    "frec_data['acumulada_breast_density']=frec_data['BIRADS_breast_density'].cumsum()\n",
    "\n",
    "# relativa acumulada\n",
    "frec_data['acumulada_porcentaje_breast_density']=frec_data['porcentaje_breast_density'].cumsum()\n",
    "\n",
    "frec_data"
   ]
  },
  {
   "cell_type": "markdown",
   "id": "9c85f927",
   "metadata": {},
   "source": [
    "**3.** Encuentra las medidas de tendencia central, localización y dispersión con la variable bmi"
   ]
  },
  {
   "cell_type": "code",
   "execution_count": null,
   "id": "f24ecb37",
   "metadata": {
    "scrolled": true
   },
   "outputs": [],
   "source": [
    "#Media\n",
    "print('Media o promedio:')\n",
    "print(data['bmi'].mean())\n",
    "#Moda\n",
    "print('Moda:')\n",
    "print(data['bmi'].mode()[0])\n",
    "#Mediana\n",
    "print('Mediana:')\n",
    "print(data['bmi'].median())"
   ]
  },
  {
   "cell_type": "code",
   "execution_count": null,
   "id": "a3755595",
   "metadata": {},
   "outputs": [],
   "source": [
    "## Cuantiles\n",
    "# Calcular los cuartiles de la variable bmi\n",
    "data['bmi'].quantile([.0, 0.25, 0.50, 0.75, 1.])"
   ]
  },
  {
   "cell_type": "code",
   "execution_count": null,
   "id": "4edfb567",
   "metadata": {},
   "outputs": [],
   "source": [
    "## Desviación estándar\n",
    "# Representa qué tan lejos de la media se encuentran las observaciones\n",
    "data['bmi'].std()"
   ]
  },
  {
   "cell_type": "code",
   "execution_count": null,
   "id": "de79ece5",
   "metadata": {},
   "outputs": [],
   "source": [
    "## Rango\n",
    "# Representa la diferencia que existe entre el producto más grande y el más pequeño\n",
    "data['bmi'].max() - data['bmi'].min()"
   ]
  },
  {
   "cell_type": "code",
   "execution_count": null,
   "id": "63fbd3ae",
   "metadata": {
    "scrolled": true
   },
   "outputs": [],
   "source": [
    "## Estadísticas básicas\n",
    "data['bmi'].describe()"
   ]
  },
  {
   "cell_type": "markdown",
   "id": "bf6c00d5",
   "metadata": {},
   "source": [
    "**4.** Realiza los 3 gráficos para las variables BIRADS_breast_density y bmi según corresponda"
   ]
  },
  {
   "cell_type": "code",
   "execution_count": null,
   "id": "90d3c5c8",
   "metadata": {},
   "outputs": [],
   "source": [
    "fig = px.histogram(data, x = \"BIRADS_breast_density\",\n",
    "                   category_orders ={\"BIRADS_breast_density\": ['Heterogeneously dense',\n",
    "                                                               'Almost entirely fat',\n",
    "                                                               'Scattered fibroglandular densities',\n",
    "                                                               'Extremely dense',\n",
    "                                                               'Unknown']})\n",
    "fig.show()"
   ]
  },
  {
   "cell_type": "code",
   "execution_count": null,
   "id": "1a2e1253",
   "metadata": {},
   "outputs": [],
   "source": [
    "fig = px.histogram(data, x = \"bmi\")\n",
    "fig.show()"
   ]
  },
  {
   "cell_type": "code",
   "execution_count": null,
   "id": "b2e16e07",
   "metadata": {},
   "outputs": [],
   "source": [
    "## Diagramas un box plot\n",
    "# Revisar los ouliers(datos atípicos de la distribución de longitud del producto)\n",
    "fig = px.box(data, y = \"bmi\")\n",
    "fig.show()"
   ]
  }
 ],
 "metadata": {
  "kernelspec": {
   "display_name": "Python 3 (ipykernel)",
   "language": "python",
   "name": "python3"
  },
  "language_info": {
   "codemirror_mode": {
    "name": "ipython",
    "version": 3
   },
   "file_extension": ".py",
   "mimetype": "text/x-python",
   "name": "python",
   "nbconvert_exporter": "python",
   "pygments_lexer": "ipython3",
   "version": "3.8.11"
  }
 },
 "nbformat": 4,
 "nbformat_minor": 5
}
