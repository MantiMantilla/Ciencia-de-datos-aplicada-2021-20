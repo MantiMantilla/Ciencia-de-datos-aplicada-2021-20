{
 "cells": [
  {
   "cell_type": "markdown",
   "id": "9864449c-c1f0-4595-97ad-8b9ef6aff608",
   "metadata": {},
   "source": [
    "# Taller 1 - Estadística descriptiva en `pandas`\n",
    "\n",
    "Alejandro Mantilla</br>\n",
    "a.mantillar</br>\n",
    "201711304</br>"
   ]
  },
  {
   "cell_type": "code",
   "execution_count": 1,
   "id": "46275e77-6efb-4dac-ac55-02aed0ae2223",
   "metadata": {},
   "outputs": [],
   "source": [
    "import pandas as pd\n",
    "import numpy as np\n",
    "from pandas_profiling import ProfileReport #for exploratory analysis"
   ]
  }
 ],
 "metadata": {
  "kernelspec": {
   "display_name": "Python 3 (ipykernel)",
   "language": "python",
   "name": "python3"
  },
  "language_info": {
   "codemirror_mode": {
    "name": "ipython",
    "version": 3
   },
   "file_extension": ".py",
   "mimetype": "text/x-python",
   "name": "python",
   "nbconvert_exporter": "python",
   "pygments_lexer": "ipython3",
   "version": "3.8.11"
  }
 },
 "nbformat": 4,
 "nbformat_minor": 5
}
