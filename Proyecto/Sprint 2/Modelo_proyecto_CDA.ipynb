{
 "cells": [
  {
   "cell_type": "markdown",
   "id": "45786905",
   "metadata": {},
   "source": [
    "# Ciencia de datos aplicada\n",
    "## Creción de modelo Proyecto segunda entrega\n",
    "\n",
    "### Integrantes\n",
    "\n",
    "Jose F. Corzo Manrique - j.corzom\n",
    "\n",
    "Felipe A. Gutiérrez Naranjo - fa.gutierrez\n",
    "\n",
    "Alejandro Mantilla Redondo - a.mantillar\n",
    "\n",
    "## Contexto\n",
    "\n",
    "La agregación del dataset se realizó con el objetivo de predecir el monto posible a ganar según el día, fecha, hora y lugar con adiciones como un clima tormentoso o si es festivo.\n",
    "\n",
    "Dados temas de la localización del cluster de procesamiento y el gran tamaño de los datos al pasarlos por la red, solo se tuvieron en cuenta para esta entrega datos del 2019.\n",
    "\n",
    "Tiempo de procesamiento agregación año 2019 cluster yarn de 20 nodos: 30min\n",
    "\n",
    "##### Columnas agrupadas\n",
    "    \"year\" > solo 2019 usado para limpieza\n",
    "    \"month\" > valores de 1 a 12\n",
    "    \"dayofweek\" > día de la semana valores de 1 a 7\n",
    "    \"dayofmonth\" > día del mes valores de 1 a 31\n",
    "    \"hour\" > hora en formato 24h valores de 0 a 23\n",
    "    \"PULocationID\" > ID de la zona de recogida\n",
    "##### Columnas calculadas\n",
    "    \"total_time_min\" > suma del tiempo en minutos de los viajes\n",
    "    \"total_trip_distance\" > suma del total de la distancia de los viajes en millas\n",
    "    \"total_fare_amount\" > suma del total de la tarifa de los viajes\n",
    "    \"total_tip\" > cantidad de viajes con propina\n",
    "    \"total_toll\" > cantidad de viajes con recargos\n",
    "    \"total_amount\" > suma del total del valor de los viajes\n",
    "    \"total_taxis\" > suma del total de viajes\n",
    "\n",
    "https://www1.nyc.gov/site/tlc/about/tlc-trip-record-data.page"
   ]
  },
  {
   "cell_type": "code",
   "execution_count": 1,
   "id": "f0b0e4fb",
   "metadata": {},
   "outputs": [],
   "source": [
    "#Librería de manejo de datos\n",
    "import pandas as pd\n",
    "\n",
    "import numpy as np\n",
    "\n",
    "# Detección de anomálias\n",
    "from sklearn.ensemble import IsolationForest\n",
    "from sklearn.pipeline import make_pipeline\n",
    "from sklearn.preprocessing import StandardScaler\n",
    "\n",
    "# Arbol de decisión y sus métricas\n",
    "from sklearn.metrics import confusion_matrix\n",
    "from sklearn.model_selection import train_test_split\n",
    "from sklearn.tree import DecisionTreeClassifier\n",
    "from sklearn import tree\n",
    "from sklearn.metrics import accuracy_score\n",
    "from sklearn.metrics import classification_report\n",
    "from sklearn.preprocessing import label_binarize\n",
    "from sklearn.metrics import roc_curve, auc\n",
    "from sklearn.ensemble import RandomForestRegressor\n",
    "import random\n",
    "\n",
    "#Regresión lineal y extra\n",
    "from sklearn.linear_model import LinearRegression\n",
    "\n",
    "#Gráficos\n",
    "import matplotlib.pyplot as plt\n",
    "from matplotlib import style\n",
    "import seaborn as sns\n",
    "import graphviz\n",
    "\n",
    "#Prueba chi cuadrado\n",
    "from  scipy.stats import chi2_contingency\n",
    "\n",
    "#Pandas profiling\n",
    "#from pandas_profiling import ProfileReport\n",
    "\n",
    "#Último punto\n",
    "from sklearn.model_selection import train_test_split, cross_val_score, GridSearchCV\n",
    "from sklearn.linear_model import LogisticRegression\n",
    "from sklearn.preprocessing import PolynomialFeatures\n",
    "from sklearn.neighbors import KNeighborsClassifier\n",
    "from sklearn.pipeline import Pipeline\n",
    "from sklearn.preprocessing import MinMaxScaler"
   ]
  },
  {
   "cell_type": "code",
   "execution_count": 2,
   "id": "31363590",
   "metadata": {},
   "outputs": [],
   "source": [
    "#Cargar los datos\n",
    "columns = [\"year\",\"month\",\"dayofweek\",\"dayofmonth\",\"hour\",\"PULocationID\",\"total_time_min\",\"total_trip_distance\",\"total_fare_amount\",\"total_tip\",\"total_toll\",\"total_amount\",\"total_taxis\"]\n",
    "data=pd.read_csv('Taxis_agregado_2019.csv',names=columns)"
   ]
  },
  {
   "cell_type": "code",
   "execution_count": 3,
   "id": "a802f86b",
   "metadata": {},
   "outputs": [
    {
     "name": "stdout",
     "output_type": "stream",
     "text": [
      "<class 'pandas.core.frame.DataFrame'>\n",
      "RangeIndex: 1184476 entries, 0 to 1184475\n",
      "Data columns (total 13 columns):\n",
      " #   Column               Non-Null Count    Dtype  \n",
      "---  ------               --------------    -----  \n",
      " 0   year                 1184476 non-null  int64  \n",
      " 1   month                1184476 non-null  int64  \n",
      " 2   dayofweek            1184476 non-null  int64  \n",
      " 3   dayofmonth           1184476 non-null  int64  \n",
      " 4   hour                 1184476 non-null  int64  \n",
      " 5   PULocationID         1184476 non-null  int64  \n",
      " 6   total_time_min       1184476 non-null  float64\n",
      " 7   total_trip_distance  1184476 non-null  float64\n",
      " 8   total_fare_amount    1184476 non-null  float64\n",
      " 9   total_tip            1184476 non-null  int64  \n",
      " 10  total_toll           1184476 non-null  int64  \n",
      " 11  total_amount         1184476 non-null  float64\n",
      " 12  total_taxis          1184476 non-null  int64  \n",
      "dtypes: float64(4), int64(9)\n",
      "memory usage: 117.5 MB\n"
     ]
    }
   ],
   "source": [
    "data.info()"
   ]
  },
  {
   "cell_type": "code",
   "execution_count": 4,
   "id": "e45f99b4",
   "metadata": {},
   "outputs": [],
   "source": [
    "#Perfilamiento de los datos originales\n",
    "ProfileReport(data, title=\"Perfilamiento de datos\")"
   ]
  },
  {
   "cell_type": "code",
   "execution_count": 5,
   "id": "16d8c9bf",
   "metadata": {},
   "outputs": [],
   "source": [
    "#Limpieza de los años no recolectados\n",
    "data_clean = data[data.year == 2019]"
   ]
  },
  {
   "cell_type": "code",
   "execution_count": 6,
   "id": "1e393b35",
   "metadata": {},
   "outputs": [],
   "source": [
    "#Limpieza de los datos que se muestran con ceros o negativos en el tiempo, la tarifa y la distancia\n",
    "data_clean = data_clean[data_clean.total_time_min > 0]\n",
    "data_clean = data_clean[data_clean.total_trip_distance > 0]\n",
    "data_clean = data_clean[data_clean.total_fare_amount > 0]"
   ]
  },
  {
   "cell_type": "code",
   "execution_count": 7,
   "id": "de8d7bbe",
   "metadata": {},
   "outputs": [],
   "source": [
    "#Limpieza de outliers\n",
    "fig1 = sns.boxplot(data=data_clean, y=\"total_time_min\", color=\"teal\")\n",
    "fig1"
   ]
  },
  {
   "cell_type": "code",
   "execution_count": 8,
   "id": "7f2be208",
   "metadata": {},
   "outputs": [],
   "source": [
    "fig1 = sns.boxplot(data=data_clean, y=\"total_trip_distance\", color=\"teal\")\n",
    "fig1"
   ]
  },
  {
   "cell_type": "code",
   "execution_count": 9,
   "id": "fe59a5f3",
   "metadata": {},
   "outputs": [],
   "source": [
    "fig1 = sns.boxplot(data=data_clean, y=\"total_fare_amount\", color=\"teal\")\n",
    "fig1"
   ]
  },
  {
   "cell_type": "code",
   "execution_count": 10,
   "id": "579c6794",
   "metadata": {},
   "outputs": [],
   "source": [
    "#Eliminar datos considerados outliers\n",
    "data_clean = data_clean[data_clean.total_fare_amount <= 40000]\n",
    "data_clean = data_clean[data_clean.total_trip_distance <= 20000]"
   ]
  },
  {
   "cell_type": "code",
   "execution_count": 11,
   "id": "803ac172",
   "metadata": {},
   "outputs": [],
   "source": [
    "#Se elimina año dado que para esta entrega no es relevante\n",
    "data_clean=data_clean.drop(columns=['year'])"
   ]
  },
  {
   "cell_type": "code",
   "execution_count": 12,
   "id": "84e81b1f",
   "metadata": {},
   "outputs": [],
   "source": [
    "#Conversión de datos categóricos mes\n",
    "def cat_month(mes):\n",
    "    if mes==1: val=\"January\"\n",
    "    elif mes==2: val=\"February\"\n",
    "    elif mes==3: val=\"March\"\n",
    "    elif mes==4: val=\"April\"\n",
    "    elif mes==5: val=\"May\"\n",
    "    elif mes==6: val=\"June\"\n",
    "    elif mes==7: val=\"July\"\n",
    "    elif mes==8: val=\"August\"\n",
    "    elif mes==9: val=\"September\"\n",
    "    elif mes==10: val=\"October\"\n",
    "    elif mes==11: val=\"November\"\n",
    "    elif mes==12: val=\"December\"\n",
    "    return val\n",
    "\n",
    "data_clean['month']=data_clean['month'].apply(cat_month)"
   ]
  },
  {
   "cell_type": "code",
   "execution_count": 13,
   "id": "f1595514",
   "metadata": {},
   "outputs": [],
   "source": [
    "#Conversión de datos categóricos semana\n",
    "def cat_semana(day):\n",
    "    if day==1: val=\"Monday\"\n",
    "    elif day==2: val=\"Tuesday\"\n",
    "    elif day==3: val=\"Wednesday\"\n",
    "    elif day==4: val=\"Thursday\"\n",
    "    elif day==5: val=\"Friday\"\n",
    "    elif day==6: val=\"Saturday\"\n",
    "    elif day==7: val=\"Sunday\"\n",
    "    return val\n",
    "\n",
    "data_clean['dayofweek']=data_clean['dayofweek'].apply(cat_semana)"
   ]
  },
  {
   "cell_type": "code",
   "execution_count": 14,
   "id": "08cbe8da",
   "metadata": {},
   "outputs": [],
   "source": [
    "#Conversión de datos categóricos día del mes y la hora\n",
    "data_clean['dayofmonth'] = data_clean['dayofmonth'].apply(str)\n",
    "data_clean['hour'] = data_clean['hour'].apply(str)"
   ]
  },
  {
   "cell_type": "code",
   "execution_count": 15,
   "id": "3d4796d4",
   "metadata": {},
   "outputs": [],
   "source": [
    "###ENRIQUECIMIENTO\n",
    "#nombre de la zona\n",
    "zones=pd.read_csv('zone_lookup.csv')\n",
    "zones"
   ]
  },
  {
   "cell_type": "code",
   "execution_count": 16,
   "id": "ceb7d995",
   "metadata": {},
   "outputs": [],
   "source": [
    "#días festivos\n",
    "holidays=pd.read_csv('Holidays_NY.csv')\n",
    "holidays['DAY'] = holidays['DAY'].apply(str)\n",
    "holidays"
   ]
  },
  {
   "cell_type": "code",
   "execution_count": 17,
   "id": "dfca1cf8",
   "metadata": {},
   "outputs": [],
   "source": [
    "#Tormentas de varios tipos: nevadas, olas de calor, lluvia, vientos fuertes\n",
    "heavyweather=pd.read_csv('StormEvents_NY.csv')\n",
    "heavyweather['DAY'] = heavyweather['DAY'].apply(str)\n",
    "heavyweather"
   ]
  },
  {
   "cell_type": "code",
   "execution_count": 18,
   "id": "e2db43a3",
   "metadata": {},
   "outputs": [],
   "source": [
    "#Unir datasets de enriquecimiento\n",
    "data_rich = pd.merge(data_clean, zones, how='left', left_on = 'PULocationID', right_on = 'LocationID')\n",
    "data_rich = pd.merge(data_rich, holidays, how='left', left_on = ['month','dayofmonth'], right_on = ['MONTH','DAY'])\n",
    "data_rich = pd.merge(data_rich, heavyweather, how='left', left_on = ['month','dayofmonth'], right_on = ['MONTH','DAY'])"
   ]
  },
  {
   "cell_type": "code",
   "execution_count": 19,
   "id": "fdba2040",
   "metadata": {},
   "outputs": [],
   "source": [
    "#Rellenar datos binarios y borrar columnas duplicadas y datos nulos\n",
    "data_rich=data_rich.drop(columns=['PULocationID','LocationID','DAY_x','MONTH_x','MONTH_y','DAY_y'])\n",
    "data_rich['Holiday'] = data_rich['Holiday'].fillna(0).apply(bool)\n",
    "data_rich['Storm_Event'] = data_rich['Storm_Event'].fillna(0).apply(bool)\n",
    "data_rich=data_rich.dropna()\n",
    "data_rich.info()"
   ]
  },
  {
   "cell_type": "markdown",
   "id": "ac619b26",
   "metadata": {},
   "source": [
    "## Creación del modelo 1: Clasificador de valor\n",
    "\n",
    "### Después de pruebas y análisis del dataset se deciden realizar las siguientes modificaciones para el modelo 1 de clasificación\n",
    "### Objetivo: con las variables categóricas se predice si la cantidad de dinero promedio a recibir por el taxista podría ser alta (por encima del cuartil 3) media (cercano a la media) o baja (por debajo del cuartil 1).\n",
    "\n",
    "*Pregunta futura al profesorado: Cómo incluir la frecuencia de un dataset agregado como peso a un modelo de predicción.*"
   ]
  },
  {
   "cell_type": "code",
   "execution_count": 20,
   "id": "2b9e1e80",
   "metadata": {},
   "outputs": [
    {
     "data": {
      "text/html": [
       "<div>\n",
       "<style scoped>\n",
       "    .dataframe tbody tr th:only-of-type {\n",
       "        vertical-align: middle;\n",
       "    }\n",
       "\n",
       "    .dataframe tbody tr th {\n",
       "        vertical-align: top;\n",
       "    }\n",
       "\n",
       "    .dataframe thead th {\n",
       "        text-align: right;\n",
       "    }\n",
       "</style>\n",
       "<table border=\"1\" class=\"dataframe\">\n",
       "  <thead>\n",
       "    <tr style=\"text-align: right;\">\n",
       "      <th></th>\n",
       "      <th>total_time_min</th>\n",
       "      <th>total_trip_distance</th>\n",
       "      <th>total_fare_amount</th>\n",
       "      <th>total_tip</th>\n",
       "      <th>total_toll</th>\n",
       "      <th>total_amount</th>\n",
       "      <th>total_taxis</th>\n",
       "      <th>total_dollars_avg</th>\n",
       "    </tr>\n",
       "  </thead>\n",
       "  <tbody>\n",
       "    <tr>\n",
       "      <th>count</th>\n",
       "      <td>1.144904e+06</td>\n",
       "      <td>1.144904e+06</td>\n",
       "      <td>1.144904e+06</td>\n",
       "      <td>1.144904e+06</td>\n",
       "      <td>1.144904e+06</td>\n",
       "      <td>1.144904e+06</td>\n",
       "      <td>1.144904e+06</td>\n",
       "      <td>1.144904e+06</td>\n",
       "    </tr>\n",
       "    <tr>\n",
       "      <th>mean</th>\n",
       "      <td>1.375660e+03</td>\n",
       "      <td>2.298809e+02</td>\n",
       "      <td>1.006618e+03</td>\n",
       "      <td>5.257028e+01</td>\n",
       "      <td>4.461160e+00</td>\n",
       "      <td>1.435545e+03</td>\n",
       "      <td>7.757490e+01</td>\n",
       "      <td>2.300852e+01</td>\n",
       "    </tr>\n",
       "    <tr>\n",
       "      <th>std</th>\n",
       "      <td>2.871820e+03</td>\n",
       "      <td>6.015027e+02</td>\n",
       "      <td>2.175019e+03</td>\n",
       "      <td>1.021169e+02</td>\n",
       "      <td>2.342036e+01</td>\n",
       "      <td>3.023111e+03</td>\n",
       "      <td>1.427836e+02</td>\n",
       "      <td>1.681602e+01</td>\n",
       "    </tr>\n",
       "    <tr>\n",
       "      <th>min</th>\n",
       "      <td>1.000000e+00</td>\n",
       "      <td>1.000000e-02</td>\n",
       "      <td>1.000000e-02</td>\n",
       "      <td>0.000000e+00</td>\n",
       "      <td>0.000000e+00</td>\n",
       "      <td>3.100000e-01</td>\n",
       "      <td>1.000000e+00</td>\n",
       "      <td>6.200000e-02</td>\n",
       "    </tr>\n",
       "    <tr>\n",
       "      <th>25%</th>\n",
       "      <td>3.400000e+01</td>\n",
       "      <td>9.420000e+00</td>\n",
       "      <td>3.800000e+01</td>\n",
       "      <td>0.000000e+00</td>\n",
       "      <td>0.000000e+00</td>\n",
       "      <td>4.424000e+01</td>\n",
       "      <td>2.000000e+00</td>\n",
       "      <td>1.435436e+01</td>\n",
       "    </tr>\n",
       "    <tr>\n",
       "      <th>50%</th>\n",
       "      <td>1.200000e+02</td>\n",
       "      <td>3.170000e+01</td>\n",
       "      <td>1.290850e+02</td>\n",
       "      <td>3.000000e+00</td>\n",
       "      <td>1.000000e+00</td>\n",
       "      <td>1.610300e+02</td>\n",
       "      <td>8.000000e+00</td>\n",
       "      <td>1.758583e+01</td>\n",
       "    </tr>\n",
       "    <tr>\n",
       "      <th>75%</th>\n",
       "      <td>1.393250e+03</td>\n",
       "      <td>2.359000e+02</td>\n",
       "      <td>1.039000e+03</td>\n",
       "      <td>5.600000e+01</td>\n",
       "      <td>2.000000e+00</td>\n",
       "      <td>1.479992e+03</td>\n",
       "      <td>8.500000e+01</td>\n",
       "      <td>2.488444e+01</td>\n",
       "    </tr>\n",
       "    <tr>\n",
       "      <th>max</th>\n",
       "      <td>4.604400e+04</td>\n",
       "      <td>1.324582e+04</td>\n",
       "      <td>3.835619e+04</td>\n",
       "      <td>1.175000e+03</td>\n",
       "      <td>4.840000e+02</td>\n",
       "      <td>4.791928e+04</td>\n",
       "      <td>1.425000e+03</td>\n",
       "      <td>6.809000e+02</td>\n",
       "    </tr>\n",
       "  </tbody>\n",
       "</table>\n",
       "</div>"
      ],
      "text/plain": [
       "       total_time_min  total_trip_distance  total_fare_amount     total_tip  \\\n",
       "count    1.144904e+06         1.144904e+06       1.144904e+06  1.144904e+06   \n",
       "mean     1.375660e+03         2.298809e+02       1.006618e+03  5.257028e+01   \n",
       "std      2.871820e+03         6.015027e+02       2.175019e+03  1.021169e+02   \n",
       "min      1.000000e+00         1.000000e-02       1.000000e-02  0.000000e+00   \n",
       "25%      3.400000e+01         9.420000e+00       3.800000e+01  0.000000e+00   \n",
       "50%      1.200000e+02         3.170000e+01       1.290850e+02  3.000000e+00   \n",
       "75%      1.393250e+03         2.359000e+02       1.039000e+03  5.600000e+01   \n",
       "max      4.604400e+04         1.324582e+04       3.835619e+04  1.175000e+03   \n",
       "\n",
       "         total_toll  total_amount   total_taxis  total_dollars_avg  \n",
       "count  1.144904e+06  1.144904e+06  1.144904e+06       1.144904e+06  \n",
       "mean   4.461160e+00  1.435545e+03  7.757490e+01       2.300852e+01  \n",
       "std    2.342036e+01  3.023111e+03  1.427836e+02       1.681602e+01  \n",
       "min    0.000000e+00  3.100000e-01  1.000000e+00       6.200000e-02  \n",
       "25%    0.000000e+00  4.424000e+01  2.000000e+00       1.435436e+01  \n",
       "50%    1.000000e+00  1.610300e+02  8.000000e+00       1.758583e+01  \n",
       "75%    2.000000e+00  1.479992e+03  8.500000e+01       2.488444e+01  \n",
       "max    4.840000e+02  4.791928e+04  1.425000e+03       6.809000e+02  "
      ]
     },
     "execution_count": 20,
     "metadata": {},
     "output_type": "execute_result"
    }
   ],
   "source": [
    "#Crear la variable categórica objetivo\n",
    "data_rich['total_dollars_avg'] = data_rich['total_amount']/data_rich['total_taxis']\n",
    "data_rich.describe()"
   ]
  },
  {
   "cell_type": "code",
   "execution_count": 21,
   "id": "4372ff34",
   "metadata": {},
   "outputs": [],
   "source": [
    "#valores mediana: 23, Q1: 14.3, Q3: 25.3\n",
    "\n",
    "data_rich['amount_level'] = np.where(data_rich['total_dollars_avg'] < 1.430000e+01, 'Low', \n",
    "                                     (np.where(data_rich['total_dollars_avg'] >= 1.430000e+01, 'Medium', data_rich['total_dollars_avg'])))\n",
    "data_rich['amount_level'] = np.where(data_rich['total_dollars_avg'] >= 2.567000e+01, 'High', data_rich['amount_level'])\n",
    "\n",
    "#Creación de una columna de peso=(velocidad promedio)*(% propinas)*(% recargos)*(monto promedio)\n",
    "data_rich['weight'] = (data_rich['total_trip_distance']/data_rich['total_time_min'])*((data_rich['total_tip']+1)*(data_rich['total_toll']+1)*data_rich['total_amount'])/data_rich['total_taxis']\n",
    "#Normalización del peso: División por la media\n",
    "data_rich['weight'] = data_rich['weight']/data_rich['weight'].mean()"
   ]
  },
  {
   "cell_type": "code",
   "execution_count": 22,
   "id": "6c000d5b",
   "metadata": {},
   "outputs": [],
   "source": [
    "#Perfilamiento de los datos para el modelo\n",
    "ProfileReport(data_model1, title=\"Perfilamiento de datos\")"
   ]
  },
  {
   "cell_type": "code",
   "execution_count": 24,
   "id": "6ba95e27",
   "metadata": {},
   "outputs": [],
   "source": [
    "#Separación de los datos en predictoras y dependiente: Se eligen todas las variables categóricas creadas que son con las que cuenta el taxista en el día de trabajo\n",
    "X = pd.get_dummies(data_rich[['month','dayofweek','dayofmonth','hour','Zone','Holiday','Storm_Event','amount_level']].drop('amount_level',axis=1))\n",
    "Y = data_rich['amount_level']\n",
    "#Base de prueba\n",
    "X_train, X_test, y_train, y_test = train_test_split( \n",
    "          X, Y, test_size = 0.25, random_state = 200)"
   ]
  },
  {
   "cell_type": "code",
   "execution_count": 25,
   "id": "2a8452cc",
   "metadata": {},
   "outputs": [
    {
     "data": {
      "text/plain": [
       "DecisionTreeClassifier(criterion='entropy', max_depth=3, min_samples_leaf=5,\n",
       "                       random_state=200)"
      ]
     },
     "execution_count": 25,
     "metadata": {},
     "output_type": "execute_result"
    }
   ],
   "source": [
    "#Creación del el árbol de decisión con el criterio de entropía\n",
    "model_entropy = DecisionTreeClassifier(\n",
    "            criterion = \"entropy\", random_state = 200,\n",
    "            max_depth = 3, min_samples_leaf = 5)\n",
    "\n",
    "model_entropy.fit(X_train, y_train)"
   ]
  },
  {
   "cell_type": "code",
   "execution_count": 26,
   "id": "d0fa09dd",
   "metadata": {},
   "outputs": [],
   "source": [
    "# Función de predicción\n",
    "def pred(X_test, clf):\n",
    "    # Predicton on test with giniIndex\n",
    "    y_pred = clf.predict(X_test)\n",
    "    return y_pred\n",
    "\n",
    "# Función para calcular las métricas\n",
    "def metricas(y_test, y_pred):\n",
    "    print(\"Matriz de confusión: \",\n",
    "        confusion_matrix(y_test, y_pred))\n",
    "      \n",
    "    print (\"Precisión : \",\n",
    "    accuracy_score(y_test,y_pred)*100)\n",
    "      \n",
    "    print(\"Reporte : \",\n",
    "    classification_report(y_test, y_pred))"
   ]
  },
  {
   "cell_type": "code",
   "execution_count": 27,
   "id": "e8e5992c",
   "metadata": {},
   "outputs": [
    {
     "name": "stdout",
     "output_type": "stream",
     "text": [
      "Matriz de confusión:  [[  4234  10630  53390]\n",
      " [    31  21331  48081]\n",
      " [    78  17295 131156]]\n",
      "Precisión :  54.75428507542991\n",
      "Reporte :                precision    recall  f1-score   support\n",
      "\n",
      "        High       0.97      0.06      0.12     68254\n",
      "         Low       0.43      0.31      0.36     69443\n",
      "      Medium       0.56      0.88      0.69    148529\n",
      "\n",
      "    accuracy                           0.55    286226\n",
      "   macro avg       0.66      0.42      0.39    286226\n",
      "weighted avg       0.63      0.55      0.47    286226\n",
      "\n"
     ]
    }
   ],
   "source": [
    "#Generación de datos de métricas\n",
    "metricas(y_test,pred(X_test,model_entropy))"
   ]
  },
  {
   "cell_type": "code",
   "execution_count": 29,
   "id": "2dd72c3e",
   "metadata": {},
   "outputs": [
    {
     "name": "stdout",
     "output_type": "stream",
     "text": [
      "Training data shape: (858678, 336)\n",
      "Training label shape: (858678,)\n",
      "Testing data shape: (286226, 336)\n",
      "Testing label shape: (286226,)\n"
     ]
    }
   ],
   "source": [
    "print('Training data shape:', X_train.shape)\n",
    "print('Training label shape:', y_train.shape)\n",
    "print('Testing data shape:', X_test.shape)\n",
    "print('Testing label shape:', y_test.shape)"
   ]
  },
  {
   "cell_type": "code",
   "execution_count": null,
   "id": "41e58fe4",
   "metadata": {},
   "outputs": [],
   "source": []
  }
 ],
 "metadata": {
  "kernelspec": {
   "display_name": "Python 3",
   "language": "python",
   "name": "python3"
  },
  "language_info": {
   "codemirror_mode": {
    "name": "ipython",
    "version": 3
   },
   "file_extension": ".py",
   "mimetype": "text/x-python",
   "name": "python",
   "nbconvert_exporter": "python",
   "pygments_lexer": "ipython3",
   "version": "3.8.8"
  }
 },
 "nbformat": 4,
 "nbformat_minor": 5
}
